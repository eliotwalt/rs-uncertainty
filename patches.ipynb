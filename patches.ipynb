{
 "cells": [
  {
   "attachments": {},
   "cell_type": "markdown",
   "metadata": {},
   "source": [
    "# Patches visualization\n",
    "\n",
    "In order to understand the patch selection strategy, let's plot the shape and valid patches centers for a given project."
   ]
  },
  {
   "cell_type": "code",
   "execution_count": 30,
   "metadata": {},
   "outputs": [
    {
     "name": "stdout",
     "output_type": "stream",
     "text": [
      "The autoreload extension is already loaded. To reload it, use:\n",
      "  %reload_ext autoreload\n"
     ]
    }
   ],
   "source": [
    "%load_ext autoreload\n",
    "%autoreload 2\n",
    "from src.scripts.create_dataset import DatasetCreator"
   ]
  },
  {
   "cell_type": "code",
   "execution_count": 40,
   "metadata": {},
   "outputs": [
    {
     "name": "stdout",
     "output_type": "stream",
     "text": [
      "Processing project id 792\n"
     ]
    },
    {
     "name": "stderr",
     "output_type": "stream",
     "text": [
      "100%|██████████| 1185/1185 [00:43<00:00, 27.08it/s]\n"
     ]
    },
    {
     "ename": "TypeError",
     "evalue": "_save_project_patches() missing 2 required positional arguments: 'labels' and 'num_images_per_pixel'",
     "output_type": "error",
     "traceback": [
      "\u001b[0;31m---------------------------------------------------------------------------\u001b[0m",
      "\u001b[0;31mTypeError\u001b[0m                                 Traceback (most recent call last)",
      "Cell \u001b[0;32mIn[40], line 2\u001b[0m\n\u001b[1;32m      1\u001b[0m run \u001b[39m=\u001b[39m blowtorch\u001b[39m.\u001b[39mrun\u001b[39m.\u001b[39mRun(config_files\u001b[39m=\u001b[39m[\u001b[39m\"\u001b[39m\u001b[39mconfig/prepare_dataset.yaml\u001b[39m\u001b[39m\"\u001b[39m])\n\u001b[0;32m----> 2\u001b[0m dataset \u001b[39m=\u001b[39m DatasetCreator(run)\n",
      "File \u001b[0;32m/scratch/ewalt/pdm/rs-uncertainty/src/scripts/create_dataset.py:52\u001b[0m, in \u001b[0;36mDatasetCreator.__init__\u001b[0;34m(self, run, seed, separator, split_map, verbose)\u001b[0m\n\u001b[1;32m     50\u001b[0m \u001b[39mfor\u001b[39;00m gt_file_path \u001b[39min\u001b[39;00m Path(\u001b[39mself\u001b[39m\u001b[39m.\u001b[39mrun[\u001b[39m\"\u001b[39m\u001b[39mgt_dir\u001b[39m\u001b[39m\"\u001b[39m])\u001b[39m.\u001b[39mglob(\u001b[39m\"\u001b[39m\u001b[39m*.tif\u001b[39m\u001b[39m\"\u001b[39m):\n\u001b[1;32m     51\u001b[0m     \u001b[39mif\u001b[39;00m gt_file_path\u001b[39m.\u001b[39mstem \u001b[39min\u001b[39;00m \u001b[39mself\u001b[39m\u001b[39m.\u001b[39mrun[\u001b[39m\"\u001b[39m\u001b[39mprojects\u001b[39m\u001b[39m\"\u001b[39m]:\n\u001b[0;32m---> 52\u001b[0m         project_dataset_info \u001b[39m=\u001b[39m \u001b[39mself\u001b[39;49m\u001b[39m.\u001b[39;49m_create_project_dataset(gt_file_path)\n\u001b[1;32m     53\u001b[0m         \u001b[39mself\u001b[39m\u001b[39m.\u001b[39mdataset_info[gt_file_path\u001b[39m.\u001b[39mstem] \u001b[39m=\u001b[39m project_dataset_info\n\u001b[1;32m     54\u001b[0m \u001b[39m# save stats and config\u001b[39;00m\n",
      "File \u001b[0;32m/scratch/ewalt/pdm/rs-uncertainty/src/scripts/create_dataset.py:322\u001b[0m, in \u001b[0;36mDatasetCreator._create_project_dataset\u001b[0;34m(self, gt_file_path)\u001b[0m\n\u001b[1;32m    320\u001b[0m project_dataset_info[\u001b[39m\"\u001b[39m\u001b[39ms1_descending_dates\u001b[39m\u001b[39m\"\u001b[39m] \u001b[39m=\u001b[39m [d \u001b[39mfor\u001b[39;00m _, d \u001b[39min\u001b[39;00m s1_images_descending]\n\u001b[1;32m    321\u001b[0m \u001b[39m# make patches\u001b[39;00m\n\u001b[0;32m--> 322\u001b[0m patches_info \u001b[39m=\u001b[39m \u001b[39mself\u001b[39;49m\u001b[39m.\u001b[39;49m_make_project_patches(\n\u001b[1;32m    323\u001b[0m     gt_file,\n\u001b[1;32m    324\u001b[0m     split_mask,\n\u001b[1;32m    325\u001b[0m     rasterized_polygon,\n\u001b[1;32m    326\u001b[0m     valid_mask,\n\u001b[1;32m    327\u001b[0m     s1_images_ascending,\n\u001b[1;32m    328\u001b[0m     s1_images_descending,\n\u001b[1;32m    329\u001b[0m     s2_images,\n\u001b[1;32m    330\u001b[0m     images,\n\u001b[1;32m    331\u001b[0m     image_ids,\n\u001b[1;32m    332\u001b[0m     labels,\n\u001b[1;32m    333\u001b[0m )\n\u001b[1;32m    334\u001b[0m project_dataset_info[\u001b[39m\"\u001b[39m\u001b[39mpatches\u001b[39m\u001b[39m\"\u001b[39m] \u001b[39m=\u001b[39m patches_info\n\u001b[1;32m    335\u001b[0m project_dataset_info[\u001b[39m\"\u001b[39m\u001b[39mnum_train\u001b[39m\u001b[39m\"\u001b[39m] \u001b[39m+\u001b[39m\u001b[39m=\u001b[39m patches_info[\u001b[39m\"\u001b[39m\u001b[39mnum_train\u001b[39m\u001b[39m\"\u001b[39m]\n",
      "File \u001b[0;32m/scratch/ewalt/pdm/rs-uncertainty/src/scripts/create_dataset.py:157\u001b[0m, in \u001b[0;36mDatasetCreator._make_project_patches\u001b[0;34m(self, *args, **kwargs)\u001b[0m\n\u001b[1;32m    156\u001b[0m \u001b[39mdef\u001b[39;00m \u001b[39m_make_project_patches\u001b[39m(\u001b[39mself\u001b[39m, \u001b[39m*\u001b[39margs, \u001b[39m*\u001b[39m\u001b[39m*\u001b[39mkwargs):\n\u001b[0;32m--> 157\u001b[0m     \u001b[39mreturn\u001b[39;00m \u001b[39mself\u001b[39;49m\u001b[39m.\u001b[39;49mpatches_sampling_strategy_map[\u001b[39mself\u001b[39;49m\u001b[39m.\u001b[39;49mrun[\u001b[39m\"\u001b[39;49m\u001b[39msampling_strategy\u001b[39;49m\u001b[39m\"\u001b[39;49m]](\u001b[39m*\u001b[39;49margs, \u001b[39m*\u001b[39;49m\u001b[39m*\u001b[39;49mkwargs)\n",
      "File \u001b[0;32m/scratch/ewalt/pdm/rs-uncertainty/src/scripts/create_dataset.py:250\u001b[0m, in \u001b[0;36mDatasetCreator._get_valid_center_patches\u001b[0;34m(self, gt_file, split_mask, rasterized_polygon, valid_mask, s1_images_ascending, s1_images_descending, s2_images, images, image_ids, labels)\u001b[0m\n\u001b[1;32m    248\u001b[0m info[\u001b[39m\"\u001b[39m\u001b[39mnum_test\u001b[39m\u001b[39m\"\u001b[39m] \u001b[39m=\u001b[39m \u001b[39mlen\u001b[39m(locations[\u001b[39m'\u001b[39m\u001b[39mtest\u001b[39m\u001b[39m'\u001b[39m])\n\u001b[1;32m    249\u001b[0m \u001b[39m# save tifs\u001b[39;00m\n\u001b[0;32m--> 250\u001b[0m path \u001b[39m=\u001b[39m \u001b[39mself\u001b[39;49m\u001b[39m.\u001b[39;49m_save_project_patches(\n\u001b[1;32m    251\u001b[0m     images,\n\u001b[1;32m    252\u001b[0m     locations,\n\u001b[1;32m    253\u001b[0m     loc_to_images_map,\n\u001b[1;32m    254\u001b[0m     offsets,\n\u001b[1;32m    255\u001b[0m     labels\n\u001b[1;32m    256\u001b[0m )\n\u001b[1;32m    257\u001b[0m info[\u001b[39m\"\u001b[39m\u001b[39mpkl\u001b[39m\u001b[39m\"\u001b[39m] \u001b[39m=\u001b[39m path\n\u001b[1;32m    258\u001b[0m \u001b[39mreturn\u001b[39;00m info\n",
      "\u001b[0;31mTypeError\u001b[0m: _save_project_patches() missing 2 required positional arguments: 'labels' and 'num_images_per_pixel'"
     ]
    }
   ],
   "source": [
    "run = blowtorch.run.Run(config_files=[\"config/prepare_dataset.yaml\"])\n",
    "dataset = DatasetCreator(run)"
   ]
  },
  {
   "cell_type": "code",
   "execution_count": null,
   "metadata": {},
   "outputs": [],
   "source": []
  }
 ],
 "metadata": {
  "kernelspec": {
   "display_name": "bfs",
   "language": "python",
   "name": "python3"
  },
  "language_info": {
   "codemirror_mode": {
    "name": "ipython",
    "version": 3
   },
   "file_extension": ".py",
   "mimetype": "text/x-python",
   "name": "python",
   "nbconvert_exporter": "python",
   "pygments_lexer": "ipython3",
   "version": "3.8.16"
  },
  "orig_nbformat": 4,
  "vscode": {
   "interpreter": {
    "hash": "85b5837dbff4766d9191b34df77a27f59ea2878bea160d10262c984d96904546"
   }
  }
 },
 "nbformat": 4,
 "nbformat_minor": 2
}
