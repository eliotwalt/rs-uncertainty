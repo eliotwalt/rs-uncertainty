{
 "cells": [
  {
   "attachments": {},
   "cell_type": "markdown",
   "metadata": {},
   "source": [
    "# Patches visualization\n",
    "\n",
    "In order to understand the patch selection strategy, let's plot the shape and valid patches centers for a given project."
   ]
  },
  {
   "cell_type": "code",
   "execution_count": 1,
   "metadata": {},
   "outputs": [],
   "source": [
    "%load_ext autoreload\n",
    "%autoreload 2\n",
    "import blowtorch\n",
    "from src.scripts.create_dataset import DatasetCreator"
   ]
  },
  {
   "cell_type": "code",
   "execution_count": 2,
   "metadata": {},
   "outputs": [],
   "source": [
    "run = blowtorch.run.Run(config_files=[\"config/prepare_dataset-dev.yaml\"])"
   ]
  },
  {
   "cell_type": "code",
   "execution_count": 10,
   "metadata": {},
   "outputs": [],
   "source": [
    "dataset = DatasetCreator(run)"
   ]
  },
  {
   "cell_type": "code",
   "execution_count": 76,
   "metadata": {},
   "outputs": [],
   "source": [
    "# import geopandas as gpd\n",
    "# import pandas as pd\n",
    "# from shapely.geometry import Point    "
   ]
  },
  {
   "cell_type": "code",
   "execution_count": 84,
   "metadata": {},
   "outputs": [],
   "source": [
    "# df0 = gpd.GeoDataFrame()\n",
    "# df1 = gpd.GeoDataFrame({\n",
    "#     \"index\": [\"(0,0)\", \"(1,2)\"],\n",
    "#     \"geometry\": [Point(0,0), Point(1,2)],\n",
    "#     \"split\": [1, 2],\n",
    "#     \"kv_id\": [346, 346]\n",
    "# }, crs=\"EPSG:32632\")\n",
    "# df2 = gpd.GeoDataFrame({\n",
    "#     \"index\": [\"(5,6)\", \"(8,10)\"],\n",
    "#     \"geometry\": [Point(5,6), Point(8,10)],\n",
    "#     \"split\": [1, 2],\n",
    "#     \"kv_id\": [40, 40]\n",
    "# }, crs=\"EPSG:32632\")\n",
    "# df = pd.concat([df0, df1, df2])"
   ]
  },
  {
   "cell_type": "code",
   "execution_count": null,
   "metadata": {},
   "outputs": [
    {
     "name": "stdout",
     "output_type": "stream",
     "text": [
      "\u001b[0;31mType:\u001b[0m           CRS\n",
      "\u001b[0;31mString form:\u001b[0m    EPSG:32632\n",
      "\u001b[0;31mLength:\u001b[0m         1\n",
      "\u001b[0;31mFile:\u001b[0m           /scratch/ewalt/miniconda3/envs/bfs/lib/python3.8/site-packages/fiona/crs.cpython-38-x86_64-linux-gnu.so\n",
      "\u001b[0;31mDocstring:\u001b[0m     \n",
      "CRS(initialdata=None, **kwargs)\n",
      "A geographic or projected coordinate reference system.\n",
      "\n",
      "    .. versionadded:: 1.9.0\n",
      "\n",
      "    CRS objects may be created by passing PROJ parameters as keyword\n",
      "    arguments to the standard constructor or by passing EPSG codes, PROJ\n",
      "    mappings, PROJ strings, or WKT strings to the from_epsg, from_dict,\n",
      "    from_string, or from_wkt static methods.\n",
      "\n",
      "    Examples\n",
      "    --------\n",
      "\n",
      "    The from_dict method takes PROJ parameters as keyword arguments.\n",
      "\n",
      "    >>> crs = CRS.from_dict(proj=\"aea\")\n",
      "\n",
      "    EPSG codes may be used with the from_epsg method.\n",
      "\n",
      "    >>> crs = CRS.from_epsg(3005)\n",
      "\n",
      "    The from_string method takes a variety of input.\n",
      "\n",
      "    >>> crs = CRS.from_string(\"EPSG:3005\")\n",
      "\n",
      "    \n",
      "\u001b[0;31mInit docstring:\u001b[0m\n",
      "Make a CRS from a PROJ dict or mapping.\n",
      "\n",
      "Parameters\n",
      "----------\n",
      "initialdata : mapping, optional\n",
      "    A dictionary or other mapping\n",
      "kwargs : mapping, optional\n",
      "    Another mapping. Will be overlaid on the initialdata.\n",
      "\n",
      "Returns\n",
      "-------\n",
      "CRS"
     ]
    }
   ],
   "source": [
    "# # Polygon CRS = CRS.from_epsg(32632)\n",
    "# crs?"
   ]
  },
  {
   "cell_type": "code",
   "execution_count": 36,
   "metadata": {},
   "outputs": [],
   "source": [
    "import os\n",
    "import fiona        stats[\"pkl\"] = path\n",
    "    def __init__(self, run):\n",
    "        self.run = run\n",
    "self = Self(run)\n",
    "project_id = self.run[\"projects\"][0]\n",
    "gt_file_path = os.path.join(self.run[\"gt_dir\"], project+\".tif\")\n",
    "gt_file = rasterio.open(gt_file_path)\n",
    "\n",
    "project_shape_collections = [fiona.open(p) for p in self.run['project_shapefiles']]\n",
    "# create the shape (\"polygon\") associated to the project \n",
    "polygon, crs, gt_date = None, None, None\n",
    "for collection in project_shape_collections:\n",
    "    try:\n",
    "        polygon = [s['geometry'] for s in collection if s['properties']['kv_id'] == int(project_id)][0]\n",
    "        crs = collection.crs\n",
    "        gt_date = [s[\"properties\"][\"PUB_DATO\"] for s in collection if s['properties']['kv_id'] == int(project_id)][0]\n",
    "        break\n",
    "    except IndexError: pass \n",
    "if polygon is None: print(\"No polygon found\")\n",
    "polygon = rasterio.warp.transform_geom(src_crs=crs, dst_crs=gt_file.crs, geom=polygon)\n",
    "polygon[\"crs\"] = gt_file.crs\n",
    "polygon[\"original_crs\"] = crs\n",
    "rasterized_polygon = rasterized_polygon = rasterio.features.rasterize(\n",
    "    [(polygon, 1)],\n",
    "    out_shape=gt_file.shape,\n",
    "    transform=gt_file.transform,\n",
    "    fill=0,\n",
    "    dtype='uint8'\n",
    ")"
   ]
  },
  {
   "cell_type": "code",
   "execution_count": 19,
   "metadata": {},
   "outputs": [
    {
     "data": {
      "text/plain": [
       "(numpy.ndarray, dict)"
      ]
     },
     "execution_count": 19,
     "metadata": {},
     "output_type": "execute_result"
    }
   ],
   "source": [
    "type(rasterized_polygon), type(polygon)"
   ]
  },
  {
   "cell_type": "code",
   "execution_count": 24,
   "metadata": {},
   "outputs": [
    {
     "data": {
      "text/plain": [
       "1293"
      ]
     },
     "execution_count": 24,
     "metadata": {},
     "output_type": "execute_result"
    }
   ],
   "source": [
    "len(polygon[\"coordinates\"][0])"
   ]
  },
  {
   "cell_type": "code",
   "execution_count": 29,
   "metadata": {},
   "outputs": [
    {
     "data": {
      "text/plain": [
       "(3961823, (2071, 1913), (2071, 1913))"
      ]
     },
     "execution_count": 29,
     "metadata": {},
     "output_type": "execute_result"
    }
   ],
   "source": [
    "rasterized_polygon.shape[0]*rasterized_polygon.shape[1], rasterized_polygon.shape, gt_file.shape"
   ]
  },
  {
   "cell_type": "code",
   "execution_count": 31,
   "metadata": {},
   "outputs": [
    {
     "ename": "ValueError",
     "evalue": "Either four bounding values, ground control points, or rational polynomial coefficients must be specified",
     "output_type": "error",
     "traceback": [
      "\u001b[0;31m---------------------------------------------------------------------------\u001b[0m",
      "\u001b[0;31mValueError\u001b[0m                                Traceback (most recent call last)",
      "Cell \u001b[0;32mIn[31], line 1\u001b[0m\n\u001b[0;32m----> 1\u001b[0m transform, w, h \u001b[39m=\u001b[39m rasterio\u001b[39m.\u001b[39;49mwarp\u001b[39m.\u001b[39;49mcalculate_default_transform(\n\u001b[1;32m      2\u001b[0m     polygon[\u001b[39m\"\u001b[39;49m\u001b[39mcrs\u001b[39;49m\u001b[39m\"\u001b[39;49m],\n\u001b[1;32m      3\u001b[0m     polygon[\u001b[39m\"\u001b[39;49m\u001b[39moriginal_crs\u001b[39;49m\u001b[39m\"\u001b[39;49m],\n\u001b[1;32m      4\u001b[0m     rasterized_polygon\u001b[39m.\u001b[39;49mshape[\u001b[39m1\u001b[39;49m],\n\u001b[1;32m      5\u001b[0m     rasterized_polygon\u001b[39m.\u001b[39;49mshape[\u001b[39m0\u001b[39;49m]\n\u001b[1;32m      6\u001b[0m )\n",
      "File \u001b[0;32m/scratch/ewalt/miniconda3/envs/bfs/lib/python3.8/site-packages/rasterio/env.py:401\u001b[0m, in \u001b[0;36mensure_env.<locals>.wrapper\u001b[0;34m(*args, **kwds)\u001b[0m\n\u001b[1;32m    399\u001b[0m \u001b[39melse\u001b[39;00m:\n\u001b[1;32m    400\u001b[0m     \u001b[39mwith\u001b[39;00m Env\u001b[39m.\u001b[39mfrom_defaults():\n\u001b[0;32m--> 401\u001b[0m         \u001b[39mreturn\u001b[39;00m f(\u001b[39m*\u001b[39;49margs, \u001b[39m*\u001b[39;49m\u001b[39m*\u001b[39;49mkwds)\n",
      "File \u001b[0;32m/scratch/ewalt/miniconda3/envs/bfs/lib/python3.8/site-packages/rasterio/warp.py:467\u001b[0m, in \u001b[0;36mcalculate_default_transform\u001b[0;34m(src_crs, dst_crs, width, height, left, bottom, right, top, gcps, rpcs, resolution, dst_width, dst_height, **kwargs)\u001b[0m\n\u001b[1;32m    463\u001b[0m     \u001b[39mraise\u001b[39;00m \u001b[39mValueError\u001b[39;00m(\u001b[39m\"\u001b[39m\u001b[39mBounding values and rational polynomial coefficients may not\u001b[39m\u001b[39m\"\u001b[39m\n\u001b[1;32m    464\u001b[0m                      \u001b[39m\"\u001b[39m\u001b[39m be used together.\u001b[39m\u001b[39m\"\u001b[39m)\n\u001b[1;32m    466\u001b[0m \u001b[39mif\u001b[39;00m \u001b[39many\u001b[39m(x \u001b[39mis\u001b[39;00m \u001b[39mNone\u001b[39;00m \u001b[39mfor\u001b[39;00m x \u001b[39min\u001b[39;00m (left, bottom, right, top)) \u001b[39mand\u001b[39;00m \u001b[39mnot\u001b[39;00m (gcps \u001b[39mor\u001b[39;00m rpcs):\n\u001b[0;32m--> 467\u001b[0m     \u001b[39mraise\u001b[39;00m \u001b[39mValueError\u001b[39;00m(\u001b[39m\"\u001b[39m\u001b[39mEither four bounding values, ground control points,\u001b[39m\u001b[39m\"\u001b[39m\n\u001b[1;32m    468\u001b[0m                      \u001b[39m\"\u001b[39m\u001b[39m or rational polynomial coefficients must be specified\u001b[39m\u001b[39m\"\u001b[39m)\n\u001b[1;32m    470\u001b[0m \u001b[39mif\u001b[39;00m gcps \u001b[39mand\u001b[39;00m rpcs:\n\u001b[1;32m    471\u001b[0m     \u001b[39mraise\u001b[39;00m \u001b[39mValueError\u001b[39;00m(\u001b[39m\"\u001b[39m\u001b[39mground control points and rational polynomial\u001b[39m\u001b[39m\"\u001b[39m,\n\u001b[1;32m    472\u001b[0m                      \u001b[39m\"\u001b[39m\u001b[39m coefficients may not be used together.\u001b[39m\u001b[39m\"\u001b[39m)\n",
      "\u001b[0;31mValueError\u001b[0m: Either four bounding values, ground control points, or rational polynomial coefficients must be specified"
     ]
    }
   ],
   "source": [
    "transform, w, h = rasterio.warp.calculate_default_transform(\n",
    "    polygon[\"crs\"],\n",
    "    polygon[\"original_crs\"],\n",
    "    rasterized_polygon.shape[1],\n",
    "    rasterized_polygon.shape[0]\n",
    ")"
   ]
  },
  {
   "cell_type": "code",
   "execution_count": 30,
   "metadata": {},
   "outputs": [
    {
     "data": {
      "text/plain": [
       "<open DatasetReader name='data/preprocessed/827.tif' mode='r'>"
      ]
     },
     "execution_count": 30,
     "metadata": {},
     "output_type": "execute_result"
    }
   ],
   "source": [
    "gt_file"
   ]
  },
  {
   "cell_type": "code",
   "execution_count": 35,
   "metadata": {},
   "outputs": [
    {
     "data": {
      "text/plain": [
       "array([0, 1], dtype=uint8)"
      ]
     },
     "execution_count": 35,
     "metadata": {},
     "output_type": "execute_result"
    }
   ],
   "source": [
    "np.unique(rasterized_polygon)"
   ]
  },
  {
   "cell_type": "code",
   "execution_count": 39,
   "metadata": {},
   "outputs": [
    {
     "data": {
      "text/plain": [
       "<matplotlib.image.AxesImage at 0x7f9d32f1eac0>"
      ]
     },
     "execution_count": 39,
     "metadata": {},
     "output_type": "execute_result"
    },
    {
     "data": {
      "image/png": "[encoded data removed]",
      "text/plain": [
       "<Figure size 640x480 with 1 Axes>"
      ]
     },
     "metadata": {},
     "output_type": "display_data"
    }
   ],
   "source": [
    "plt.imshow(rasterized_polygon, cmap=\"Greens\")"
   ]
  },
  {
   "cell_type": "code",
   "execution_count": 41,
   "metadata": {},
   "outputs": [
    {
     "data": {
      "text/plain": [
       "<open Collection 'data/NHM_projectDekning_AOI_edit2015_V2.shp:NHM_projectDekning_AOI_edit2015_V2', mode 'r' at 0x7f9d8d5434f0>"
      ]
     },
     "execution_count": 41,
     "metadata": {},
     "output_type": "execute_result"
    }
   ],
   "source": [
    "collection"
   ]
  },
  {
   "cell_type": "code",
   "execution_count": 42,
   "metadata": {},
   "outputs": [
    {
     "name": "stdout",
     "output_type": "stream",
     "text": [
      "\u001b[0;31mType:\u001b[0m           Collection\n",
      "\u001b[0;31mString form:\u001b[0m    <open Collection 'data/NHM_projectDekning_AOI_edit2015_V2.shp:NHM_projectDekning_AOI_edit2015_V2', mode 'r' at 0x7f9d8d5434f0>\n",
      "\u001b[0;31mLength:\u001b[0m         44\n",
      "\u001b[0;31mFile:\u001b[0m           /scratch/ewalt/miniconda3/envs/bfs/lib/python3.8/site-packages/fiona/collection.py\n",
      "\u001b[0;31mDocstring:\u001b[0m     \n",
      "A file-like interface to features of a vector dataset\n",
      "\n",
      "Python text file objects are iterators over lines of a file. Fiona\n",
      "Collections are similar iterators (not lists!) over features\n",
      "represented as GeoJSON-like mappings.\n",
      "\u001b[0;31mInit docstring:\u001b[0m\n",
      "The required ``path`` is the absolute or relative path to\n",
      "a file, such as '/data/test_uk.shp'. In ``mode`` 'r', data can\n",
      "be read only. In ``mode`` 'a', data can be appended to a file.\n",
      "In ``mode`` 'w', data overwrites the existing contents of\n",
      "a file.\n",
      "\n",
      "In ``mode`` 'w', an OGR ``driver`` name and a ``schema`` are\n",
      "required. A Proj4 ``crs`` string is recommended. If both ``crs``\n",
      "and ``crs_wkt`` keyword arguments are passed, the latter will\n",
      "trump the former.\n",
      "\n",
      "In 'w' mode, kwargs will be mapped to OGR layer creation\n",
      "options."
     ]
    }
   ],
   "source": [
    "collection?"
   ]
  },
  {
   "cell_type": "code",
   "execution_count": 45,
   "metadata": {},
   "outputs": [
    {
     "data": {
      "text/plain": [
       "{'driver': 'GTiff', 'dtype': 'float32', 'nodata': None, 'width': 1913, 'height': 2071, 'count': 5, 'crs': CRS.from_epsg(25832), 'transform': Affine(10.0, 0.0, 589875.6051443298,\n",
       "       0.0, -10.0, 6652337.033205436), 'blockxsize': 128, 'blockysize': 128, 'tiled': True, 'compress': 'deflate', 'interleave': 'pixel'}"
      ]
     },
     "execution_count": 45,
     "metadata": {},
     "output_type": "execute_result"
    }
   ],
   "source": [
    "gt_file.profile"
   ]
  },
  {
   "attachments": {},
   "cell_type": "markdown",
   "metadata": {},
   "source": [
    "## Raster cell to coordinates\n",
    "\n",
    "Strategy:\n",
    "- Save raster as a geotiff using `gt_file` updated profile\n",
    "- "
   ]
  },
  {
   "cell_type": "code",
   "execution_count": 51,
   "metadata": {},
   "outputs": [],
   "source": [
    "with rasterio.Env():\n",
    "    profile = gt_file.profile\n",
    "    profile.update(\n",
    "        driver='GTiff',\n",
    "        count=1,\n",
    "        compress='deflate',\n",
    "        nodata=None,\n",
    "        dtype='uint8'\n",
    "    )\n",
    "    with rasterio.open(\"rasterized_polygon.test.tif\", \"w\", **profile) as f:\n",
    "        f.write(rasterized_polygon.reshape(1,rasterized_polygon.shape[0],-1))"
   ]
  },
  {
   "cell_type": "code",
   "execution_count": 48,
   "metadata": {},
   "outputs": [
    {
     "data": {
      "text/plain": [
       "(2071, 1913)"
      ]
     },
     "execution_count": 48,
     "metadata": {},
     "output_type": "execute_result"
    }
   ],
   "source": [
    "rasterized_polygon.shape"
   ]
  },
  {
   "cell_type": "code",
   "execution_count": 60,
   "metadata": {},
   "outputs": [
    {
     "data": {
      "text/plain": [
       "({'type': 'Polygon',\n",
       "  'coordinates': [[(0.0, 0.0),\n",
       "    (0.0, 1.0),\n",
       "    (1.0, 1.0),\n",
       "    (1.0, 0.0),\n",
       "    (0.0, 0.0)]]},\n",
       " 0.0)"
      ]
     },
     "execution_count": 60,
     "metadata": {},
     "output_type": "execute_result"
    }
   ],
   "source": [
    "point = next(rasterio.features.shapes(np.array([[0,1]], dtype=np.uint8)))"
   ]
  },
  {
   "cell_type": "code",
   "execution_count": 72,
   "metadata": {},
   "outputs": [
    {
     "name": "stdout",
     "output_type": "stream",
     "text": [
      "(1, 100, 120)\n"
     ]
    },
    {
     "data": {
      "text/plain": [
       "(6, 100, 120)"
      ]
     },
     "execution_count": 72,
     "metadata": {},
     "output_type": "execute_result"
    }
   ],
   "source": [
    "x = np.expand_dims(np.random.randn(100,120), 0)\n",
    "print(x.shape)\n",
    "y = np.random.randn(5, 100,120)\n",
    "x = np.concatenate([x,y], axis=0)\n",
    "x.shape"
   ]
  },
  {
   "cell_type": "code",
   "execution_count": 62,
   "metadata": {},
   "outputs": [
    {
     "data": {
      "text/plain": [
       "(2, 100, 120)"
      ]
     },
     "execution_count": 62,
     "metadata": {},
     "output_type": "execute_result"
    }
   ],
   "source": [
    "x.shape"
   ]
  },
  {
   "cell_type": "code",
   "execution_count": null,
   "metadata": {},
   "outputs": [],
   "source": []
  }
 ],
 "metadata": {
  "kernelspec": {
   "display_name": "bfs",
   "language": "python",
   "name": "python3"
  },
  "language_info": {
   "codemirror_mode": {
    "name": "ipython",
    "version": 3
   },
   "file_extension": ".py",
   "mimetype": "text/x-python",
   "name": "python",
   "nbconvert_exporter": "python",
   "pygments_lexer": "ipython3",
   "version": "3.8.16"
  },
  "orig_nbformat": 4,
  "vscode": {
   "interpreter": {
    "hash": "85b5837dbff4766d9191b34df77a27f59ea2878bea160d10262c984d96904546"
   }
  }
 },
 "nbformat": 4,
 "nbformat_minor": 2
}
