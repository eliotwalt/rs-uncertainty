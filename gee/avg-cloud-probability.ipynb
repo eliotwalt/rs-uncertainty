{
 "cells": [
  {
   "cell_type": "code",
   "execution_count": 3,
   "id": "7d78f9bd",
   "metadata": {},
   "outputs": [
    {
     "data": {
      "text/html": [
       "<p>To authorize access needed by Earth Engine, open the following\n",
       "        URL in a web browser and follow the instructions:</p>\n",
       "        <p><a href=https://code.earthengine.google.com/client-auth?scopes=https%3A//www.googleapis.com/auth/earthengine%20https%3A//www.googleapis.com/auth/devstorage.full_control&request_id=SKne2Pzr7FrIu7PZL0nPRYSGr3n88jZ4iX7mpHgnqWk&tc=iRTXIpFcmQBuj19dZGXVCXnNar3nuxUf2E3hijQ5ghs&cc=O1M8NcqkkJqs9wrpzJVrMyMbw6SHOHERzqL3cLr9Qcw>https://code.earthengine.google.com/client-auth?scopes=https%3A//www.googleapis.com/auth/earthengine%20https%3A//www.googleapis.com/auth/devstorage.full_control&request_id=SKne2Pzr7FrIu7PZL0nPRYSGr3n88jZ4iX7mpHgnqWk&tc=iRTXIpFcmQBuj19dZGXVCXnNar3nuxUf2E3hijQ5ghs&cc=O1M8NcqkkJqs9wrpzJVrMyMbw6SHOHERzqL3cLr9Qcw</a></p>\n",
       "        <p>The authorization workflow will generate a code, which you should paste in the box below.</p>\n",
       "        "
      ],
      "text/plain": [
       "<IPython.core.display.HTML object>"
      ]
     },
     "metadata": {},
     "output_type": "display_data"
    },
    {
     "name": "stdout",
     "output_type": "stream",
     "text": [
      "Enter verification code: 4/1AbUR2VMHv2qobAL5gGblUlynmWwrvoBShsI7192b-tb9UWfFR5GBgHuMjIQ\n",
      "\n",
      "Successfully saved authorization token.\n"
     ]
    }
   ],
   "source": []
  },
  {
   "cell_type": "code",
   "execution_count": 1,
   "id": "b19f7be9",
   "metadata": {},
   "outputs": [
    {
     "name": "stdout",
     "output_type": "stream",
     "text": [
      "Go to the following link in your browser:\n",
      "\n",
      "    https://accounts.google.com/o/oauth2/auth?client_id=%E2%80%9C757499213145-tufpdalliu6ef9s5cdkaet2ra7bfobo8.apps.googleusercontent.com%E2%80%9D&redirect_uri=urn%3Aietf%3Awg%3Aoauth%3A2.0%3Aoob&scope=%E2%80%9Chttps%3A%2F%2Fwww.googleapis.com%2Fauth%2Fdrive%22&access_type=offline&response_type=code\n",
      "\n",
      "Enter verification code: 4/1AbUR2VMHv2qobAL5gGblUlynmWwrvoBShsI7192b-tb9UWfFR5GBgHuMjIQ\n"
     ]
    },
    {
     "ename": "AuthenticationError",
     "evalue": "OAuth2 code exchange failed: invalid_clientThe OAuth client was not found.",
     "output_type": "error",
     "traceback": [
      "\u001b[0;31m---------------------------------------------------------------------------\u001b[0m",
      "\u001b[0;31mFlowExchangeError\u001b[0m                         Traceback (most recent call last)",
      "\u001b[0;32m/scratch/ewalt/miniconda3/envs/bfs-3.7/lib/python3.7/site-packages/pydrive/auth.py\u001b[0m in \u001b[0;36mAuthenticate\u001b[0;34m(self, code)\u001b[0m\n\u001b[1;32m    507\u001b[0m     \u001b[0;32mtry\u001b[0m\u001b[0;34m:\u001b[0m\u001b[0;34m\u001b[0m\u001b[0;34m\u001b[0m\u001b[0m\n\u001b[0;32m--> 508\u001b[0;31m       \u001b[0mself\u001b[0m\u001b[0;34m.\u001b[0m\u001b[0mcredentials\u001b[0m \u001b[0;34m=\u001b[0m \u001b[0mself\u001b[0m\u001b[0;34m.\u001b[0m\u001b[0mflow\u001b[0m\u001b[0;34m.\u001b[0m\u001b[0mstep2_exchange\u001b[0m\u001b[0;34m(\u001b[0m\u001b[0mcode\u001b[0m\u001b[0;34m)\u001b[0m\u001b[0;34m\u001b[0m\u001b[0;34m\u001b[0m\u001b[0m\n\u001b[0m\u001b[1;32m    509\u001b[0m     \u001b[0;32mexcept\u001b[0m \u001b[0mFlowExchangeError\u001b[0m \u001b[0;32mas\u001b[0m \u001b[0me\u001b[0m\u001b[0;34m:\u001b[0m\u001b[0;34m\u001b[0m\u001b[0;34m\u001b[0m\u001b[0m\n",
      "\u001b[0;32m/scratch/ewalt/miniconda3/envs/bfs-3.7/lib/python3.7/site-packages/oauth2client/_helpers.py\u001b[0m in \u001b[0;36mpositional_wrapper\u001b[0;34m(*args, **kwargs)\u001b[0m\n\u001b[1;32m    132\u001b[0m                     \u001b[0mlogger\u001b[0m\u001b[0;34m.\u001b[0m\u001b[0mwarning\u001b[0m\u001b[0;34m(\u001b[0m\u001b[0mmessage\u001b[0m\u001b[0;34m)\u001b[0m\u001b[0;34m\u001b[0m\u001b[0;34m\u001b[0m\u001b[0m\n\u001b[0;32m--> 133\u001b[0;31m             \u001b[0;32mreturn\u001b[0m \u001b[0mwrapped\u001b[0m\u001b[0;34m(\u001b[0m\u001b[0;34m*\u001b[0m\u001b[0margs\u001b[0m\u001b[0;34m,\u001b[0m \u001b[0;34m**\u001b[0m\u001b[0mkwargs\u001b[0m\u001b[0;34m)\u001b[0m\u001b[0;34m\u001b[0m\u001b[0;34m\u001b[0m\u001b[0m\n\u001b[0m\u001b[1;32m    134\u001b[0m         \u001b[0;32mreturn\u001b[0m \u001b[0mpositional_wrapper\u001b[0m\u001b[0;34m\u001b[0m\u001b[0;34m\u001b[0m\u001b[0m\n",
      "\u001b[0;32m/scratch/ewalt/miniconda3/envs/bfs-3.7/lib/python3.7/site-packages/oauth2client/client.py\u001b[0m in \u001b[0;36mstep2_exchange\u001b[0;34m(self, code, http, device_flow_info)\u001b[0m\n\u001b[1;32m   2088\u001b[0m                 \u001b[0merror_msg\u001b[0m \u001b[0;34m=\u001b[0m \u001b[0;34m'Invalid response: {0}.'\u001b[0m\u001b[0;34m.\u001b[0m\u001b[0mformat\u001b[0m\u001b[0;34m(\u001b[0m\u001b[0mstr\u001b[0m\u001b[0;34m(\u001b[0m\u001b[0mresp\u001b[0m\u001b[0;34m.\u001b[0m\u001b[0mstatus\u001b[0m\u001b[0;34m)\u001b[0m\u001b[0;34m)\u001b[0m\u001b[0;34m\u001b[0m\u001b[0;34m\u001b[0m\u001b[0m\n\u001b[0;32m-> 2089\u001b[0;31m             \u001b[0;32mraise\u001b[0m \u001b[0mFlowExchangeError\u001b[0m\u001b[0;34m(\u001b[0m\u001b[0merror_msg\u001b[0m\u001b[0;34m)\u001b[0m\u001b[0;34m\u001b[0m\u001b[0;34m\u001b[0m\u001b[0m\n\u001b[0m\u001b[1;32m   2090\u001b[0m \u001b[0;34m\u001b[0m\u001b[0m\n",
      "\u001b[0;31mFlowExchangeError\u001b[0m: invalid_clientThe OAuth client was not found.",
      "\nDuring handling of the above exception, another exception occurred:\n",
      "\u001b[0;31mAuthenticationError\u001b[0m                       Traceback (most recent call last)",
      "\u001b[0;32m/tmp/ipykernel_184641/1142614408.py\u001b[0m in \u001b[0;36m<module>\u001b[0;34m\u001b[0m\n\u001b[1;32m      1\u001b[0m \u001b[0;32mimport\u001b[0m \u001b[0margparse\u001b[0m\u001b[0;34m\u001b[0m\u001b[0;34m\u001b[0m\u001b[0m\n\u001b[1;32m      2\u001b[0m \u001b[0;32mimport\u001b[0m \u001b[0myaml\u001b[0m\u001b[0;34m\u001b[0m\u001b[0;34m\u001b[0m\u001b[0m\n\u001b[0;32m----> 3\u001b[0;31m \u001b[0;32mfrom\u001b[0m \u001b[0mee_download_workflow\u001b[0m \u001b[0;32mimport\u001b[0m \u001b[0mdownload_project\u001b[0m\u001b[0;34m\u001b[0m\u001b[0;34m\u001b[0m\u001b[0m\n\u001b[0m\u001b[1;32m      4\u001b[0m \u001b[0;32mfrom\u001b[0m \u001b[0mutils\u001b[0m \u001b[0;32mimport\u001b[0m \u001b[0mget_project_data\u001b[0m\u001b[0;34m\u001b[0m\u001b[0;34m\u001b[0m\u001b[0m\n\u001b[1;32m      5\u001b[0m \u001b[0;34m\u001b[0m\u001b[0m\n",
      "\u001b[0;32m/scratch/ewalt/pdm/rs-uncertainty/gee/ee_download_workflow.py\u001b[0m in \u001b[0;36m<module>\u001b[0;34m\u001b[0m\n\u001b[1;32m     17\u001b[0m \u001b[0;32mfrom\u001b[0m \u001b[0mpydrive\u001b[0m\u001b[0;34m.\u001b[0m\u001b[0mdrive\u001b[0m \u001b[0;32mimport\u001b[0m \u001b[0mGoogleDrive\u001b[0m\u001b[0;34m\u001b[0m\u001b[0;34m\u001b[0m\u001b[0m\n\u001b[1;32m     18\u001b[0m \u001b[0mgauth\u001b[0m \u001b[0;34m=\u001b[0m \u001b[0mGoogleAuth\u001b[0m\u001b[0;34m(\u001b[0m\u001b[0;34m)\u001b[0m\u001b[0;34m\u001b[0m\u001b[0;34m\u001b[0m\u001b[0m\n\u001b[0;32m---> 19\u001b[0;31m \u001b[0mgauth\u001b[0m\u001b[0;34m.\u001b[0m\u001b[0mCommandLineAuth\u001b[0m\u001b[0;34m(\u001b[0m\u001b[0;34m)\u001b[0m \u001b[0;31m#solvable from remote\u001b[0m\u001b[0;34m\u001b[0m\u001b[0;34m\u001b[0m\u001b[0m\n\u001b[0m\u001b[1;32m     20\u001b[0m \u001b[0mdrive\u001b[0m \u001b[0;34m=\u001b[0m \u001b[0mGoogleDrive\u001b[0m\u001b[0;34m(\u001b[0m\u001b[0mgauth\u001b[0m\u001b[0;34m)\u001b[0m\u001b[0;34m\u001b[0m\u001b[0;34m\u001b[0m\u001b[0m\n\u001b[1;32m     21\u001b[0m \u001b[0;31m# if you get an error that the token expired --> delete what is contained in the creds.json file and import this script again\u001b[0m\u001b[0;34m\u001b[0m\u001b[0;34m\u001b[0m\u001b[0;34m\u001b[0m\u001b[0m\n",
      "\u001b[0;32m/scratch/ewalt/miniconda3/envs/bfs-3.7/lib/python3.7/site-packages/pydrive/auth.py\u001b[0m in \u001b[0;36m_decorated\u001b[0;34m(self, *args, **kwargs)\u001b[0m\n\u001b[1;32m    123\u001b[0m         \u001b[0mdirty\u001b[0m \u001b[0;34m=\u001b[0m \u001b[0;32mTrue\u001b[0m\u001b[0;34m\u001b[0m\u001b[0;34m\u001b[0m\u001b[0m\n\u001b[1;32m    124\u001b[0m     \u001b[0;32mif\u001b[0m \u001b[0mcode\u001b[0m \u001b[0;32mis\u001b[0m \u001b[0;32mnot\u001b[0m \u001b[0;32mNone\u001b[0m\u001b[0;34m:\u001b[0m\u001b[0;34m\u001b[0m\u001b[0;34m\u001b[0m\u001b[0m\n\u001b[0;32m--> 125\u001b[0;31m       \u001b[0mself\u001b[0m\u001b[0;34m.\u001b[0m\u001b[0mAuth\u001b[0m\u001b[0;34m(\u001b[0m\u001b[0mcode\u001b[0m\u001b[0;34m)\u001b[0m\u001b[0;34m\u001b[0m\u001b[0;34m\u001b[0m\u001b[0m\n\u001b[0m\u001b[1;32m    126\u001b[0m     \u001b[0;32mif\u001b[0m \u001b[0mdirty\u001b[0m \u001b[0;32mand\u001b[0m \u001b[0msave_credentials\u001b[0m\u001b[0;34m:\u001b[0m\u001b[0;34m\u001b[0m\u001b[0;34m\u001b[0m\u001b[0m\n\u001b[1;32m    127\u001b[0m       \u001b[0mself\u001b[0m\u001b[0;34m.\u001b[0m\u001b[0mSaveCredentials\u001b[0m\u001b[0;34m(\u001b[0m\u001b[0;34m)\u001b[0m\u001b[0;34m\u001b[0m\u001b[0;34m\u001b[0m\u001b[0m\n",
      "\u001b[0;32m/scratch/ewalt/miniconda3/envs/bfs-3.7/lib/python3.7/site-packages/pydrive/auth.py\u001b[0m in \u001b[0;36mAuth\u001b[0;34m(self, code)\u001b[0m\n\u001b[1;32m    493\u001b[0m     \u001b[0;34m:\u001b[0m\u001b[0mraises\u001b[0m\u001b[0;34m:\u001b[0m \u001b[0mAuthenticationError\u001b[0m\u001b[0;34m\u001b[0m\u001b[0;34m\u001b[0m\u001b[0m\n\u001b[1;32m    494\u001b[0m     \"\"\"\n\u001b[0;32m--> 495\u001b[0;31m     \u001b[0mself\u001b[0m\u001b[0;34m.\u001b[0m\u001b[0mAuthenticate\u001b[0m\u001b[0;34m(\u001b[0m\u001b[0mcode\u001b[0m\u001b[0;34m)\u001b[0m\u001b[0;34m\u001b[0m\u001b[0;34m\u001b[0m\u001b[0m\n\u001b[0m\u001b[1;32m    496\u001b[0m     \u001b[0mself\u001b[0m\u001b[0;34m.\u001b[0m\u001b[0mAuthorize\u001b[0m\u001b[0;34m(\u001b[0m\u001b[0;34m)\u001b[0m\u001b[0;34m\u001b[0m\u001b[0;34m\u001b[0m\u001b[0m\n\u001b[1;32m    497\u001b[0m \u001b[0;34m\u001b[0m\u001b[0m\n",
      "\u001b[0;32m/scratch/ewalt/miniconda3/envs/bfs-3.7/lib/python3.7/site-packages/pydrive/auth.py\u001b[0m in \u001b[0;36mAuthenticate\u001b[0;34m(self, code)\u001b[0m\n\u001b[1;32m    508\u001b[0m       \u001b[0mself\u001b[0m\u001b[0;34m.\u001b[0m\u001b[0mcredentials\u001b[0m \u001b[0;34m=\u001b[0m \u001b[0mself\u001b[0m\u001b[0;34m.\u001b[0m\u001b[0mflow\u001b[0m\u001b[0;34m.\u001b[0m\u001b[0mstep2_exchange\u001b[0m\u001b[0;34m(\u001b[0m\u001b[0mcode\u001b[0m\u001b[0;34m)\u001b[0m\u001b[0;34m\u001b[0m\u001b[0;34m\u001b[0m\u001b[0m\n\u001b[1;32m    509\u001b[0m     \u001b[0;32mexcept\u001b[0m \u001b[0mFlowExchangeError\u001b[0m \u001b[0;32mas\u001b[0m \u001b[0me\u001b[0m\u001b[0;34m:\u001b[0m\u001b[0;34m\u001b[0m\u001b[0;34m\u001b[0m\u001b[0m\n\u001b[0;32m--> 510\u001b[0;31m       \u001b[0;32mraise\u001b[0m \u001b[0mAuthenticationError\u001b[0m\u001b[0;34m(\u001b[0m\u001b[0;34m'OAuth2 code exchange failed: %s'\u001b[0m \u001b[0;34m%\u001b[0m \u001b[0me\u001b[0m\u001b[0;34m)\u001b[0m\u001b[0;34m\u001b[0m\u001b[0;34m\u001b[0m\u001b[0m\n\u001b[0m\u001b[1;32m    511\u001b[0m     \u001b[0mprint\u001b[0m\u001b[0;34m(\u001b[0m\u001b[0;34m'Authentication successful.'\u001b[0m\u001b[0;34m)\u001b[0m\u001b[0;34m\u001b[0m\u001b[0;34m\u001b[0m\u001b[0m\n\u001b[1;32m    512\u001b[0m \u001b[0;34m\u001b[0m\u001b[0m\n",
      "\u001b[0;31mAuthenticationError\u001b[0m: OAuth2 code exchange failed: invalid_clientThe OAuth client was not found."
     ]
    }
   ],
   "source": [
    "import argparse\n",
    "import yaml\n",
    "from ee_download_workflow import download_project\n",
    "from utils import get_project_data\n",
    "\n",
    "with open(\"../config/gee/project_timeserie.yaml\") as f: \n",
    "    cfg = yaml.safe_load(f)\n",
    "\n",
    "download_project(**cfg, verbose=True)"
   ]
  },
  {
   "cell_type": "code",
   "execution_count": 6,
   "id": "ecf3495a",
   "metadata": {},
   "outputs": [],
   "source": [
    "import ee\n",
    "ee.Initialize()\n",
    "import yaml\n",
    "import time\n",
    "import rasterio\n",
    "import rasterio.warp \n",
    "import rasterio.features\n",
    "import fiona\n",
    "from datetime import datetime, timedelta\n",
    "import numpy as np\n",
    "import os\n",
    "from pathlib import Path\n",
    "import pandas as pd\n",
    "import matplotlib.pyplot as plt\n",
    "import seaborn as sns\n",
    "sns.set()\n",
    "sns.set_style(\"whitegrid\")"
   ]
  },
  {
   "cell_type": "code",
   "execution_count": 27,
   "id": "4f38a900",
   "metadata": {},
   "outputs": [],
   "source": [
    "def pjoin(*subs): return Path(os.path.join(*subs))\n",
    "def parse_date(date_str) -> datetime: return datetime.strptime(date_str, '%Y%m%d')\n",
    "def parse_gt_date(date_str) -> datetime: \n",
    "    # there are 2 gt date formats\n",
    "    try: return datetime.strptime(date_str, \"%Y-%m-%d\")\n",
    "    except: return datetime.strptime(date_str, \"%Y/%m/%d\")"
   ]
  },
  {
   "cell_type": "markdown",
   "id": "9bd54c5b",
   "metadata": {},
   "source": [
    "# Load project data\n",
    "\n",
    "- Given paths and projet_id:\n",
    "    - gt_file\n",
    "    - gt_labels\n",
    "    - gt_date\n",
    "    - polygon\n",
    "    - bounds\n",
    "    - gt_crs\n",
    "    - aoi_df"
   ]
  },
  {
   "cell_type": "code",
   "execution_count": null,
   "id": "7ddc3138",
   "metadata": {},
   "outputs": [],
   "source": [
    "class ProjectInfo():\n",
    "    def __init__(self, gt_file, gt, gt_date, gt_crs, polygon, bounds):\n",
    "        self.gt_file = gt_file\n",
    "        self."
   ]
  },
  {
   "cell_type": "code",
   "execution_count": 29,
   "id": "d276ec8c",
   "metadata": {},
   "outputs": [],
   "source": [
    "def configure(project_id, root=\"/scratch/ewalt/pdm/rs-uncertainty/\"):\n",
    "    return {\n",
    "        \"project_id\": project_id,\n",
    "        \"gt_dir\": pjoin(root, \"assets/data/preprocessed\"),\n",
    "        \"gt_data_bands\": [1, 2, 3, 4, 5],\n",
    "        \"shapefile_paths\": [\n",
    "            pjoin(root, p) for p in \n",
    "            ['assets/data/NHM_projectDekning_AOI_edit2015_V2.shp', 'assets/data/ALS_projects_Dz_all_norway.shp']\n",
    "        ],\n",
    "    }"
   ]
  },
  {
   "cell_type": "code",
   "execution_count": 28,
   "id": "2bbc77bd",
   "metadata": {},
   "outputs": [],
   "source": [
    "def get_project_data(\n",
    "    project_id,\n",
    "    gt_dir,\n",
    "    gt_data_bands,\n",
    "    shapefile_paths,\n",
    "    return_df=True\n",
    "):\n",
    "    # Get gt\n",
    "    gt_file = rasterio.open(pjoin(gt_dir, project_id+\".tif\"))\n",
    "    gt = gt_file.read(gt_data_bands)\n",
    "    bounds = gt_file.bounds\n",
    "    # Load shapefiles\n",
    "    project_shape_collections = [fiona.open(p) for p in shapefile_paths]\n",
    "    # create the shape (\"polygon\") associated to the project \n",
    "    polygon, gt_crs, gt_date = None, None, None\n",
    "    for collection in project_shape_collections:\n",
    "        try:\n",
    "            polygon = [s['geometry'] for s in collection if s['properties']['kv_id'] == int(project_id)][0]\n",
    "            crs = collection.crs\n",
    "            gt_date = [s[\"properties\"][\"PUB_DATO\"] for s in collection if s['properties']['kv_id'] == int(project_id)][0]\n",
    "            gt_date = parse_gt_date(gt_date)\n",
    "            break\n",
    "        except IndexError: pass \n",
    "    if polygon is None: print(\"No polygon found\")\n",
    "    polygon = rasterio.warp.transform_geom(src_crs=crs, dst_crs=gt_file.crs, geom=polygon)\n",
    "    return gt_file, gt, gt_date, gt_crs, polygon[\"coordinates\"], bounds"
   ]
  },
  {
   "cell_type": "code",
   "execution_count": 30,
   "id": "f117bd0b",
   "metadata": {},
   "outputs": [],
   "source": [
    "project_id = \"498\"\n",
    "gt_file, gt, gt_date, gt_crs, polygon, bounds = get_project_data(**configure(project_id))"
   ]
  },
  {
   "cell_type": "code",
   "execution_count": 32,
   "id": "c720d510",
   "metadata": {},
   "outputs": [
    {
     "data": {
      "text/plain": [
       "538395.6051443298"
      ]
     },
     "execution_count": 32,
     "metadata": {},
     "output_type": "execute_result"
    }
   ],
   "source": [
    "bounds.left"
   ]
  },
  {
   "cell_type": "code",
   "execution_count": null,
   "id": "114c8d57",
   "metadata": {},
   "outputs": [],
   "source": []
  },
  {
   "cell_type": "code",
   "execution_count": 49,
   "id": "954d8591",
   "metadata": {},
   "outputs": [
    {
     "data": {
      "text/plain": [
       "'Polygon'"
      ]
     },
     "execution_count": 49,
     "metadata": {},
     "output_type": "execute_result"
    }
   ],
   "source": [
    "polygon[\"type\"]"
   ]
  },
  {
   "cell_type": "code",
   "execution_count": null,
   "id": "4d4270e5",
   "metadata": {},
   "outputs": [],
   "source": [
    "def mergeByDate(imgCol):\n",
    "    '''\n",
    "    function that merges images together that have the same date. \n",
    "    adapted from: https://gis.stackexchange.com/questions/372744/how-to-create-a-loop-which-creates-single-mosaic-images-for-each-day-from-a-sel\n",
    "\n",
    "    PARAMETERS\n",
    "    imgCol: [ee.ImageCollection] mandatory value that specifies the image collection to merge by dates with.\n",
    "\n",
    "    RETURNS \n",
    "    ee.ImageCollection where images of the same day are mosaiced together\n",
    "    '''    \n",
    "    #Convert the image collection to a list.\n",
    "    imgList = imgCol.toList(imgCol.size())\n",
    "    \n",
    "    # Driver function for mapping the unique dates\n",
    "    def uniqueDriver(image):\n",
    "        return ee.Image(image).date().format(\"YYYY-MM-dd\")\n",
    "    \n",
    "    uniqueDates = imgList.map(uniqueDriver).distinct()\n",
    "\n",
    "    # Driver function for mapping the moasiacs\n",
    "    def mosaicDriver(date):\n",
    "        date = ee.Date(date)\n",
    "        \n",
    "        image = (imgCol\n",
    "               .filterDate(date, date.advance(1, \"day\")) #or (date.advance(-1, \"day\"), date.advance(1, \"day\"))?\n",
    "               .mosaic())\n",
    "        \n",
    "        return image.set(\"system:time_start\", date.millis(), \n",
    "                        \"system:date\", date.format(\"YYYY-MM-dd\"),\n",
    "                        \"system:id\", date.format(\"YYYY-MM-dd\"))\n",
    "    \n",
    "    mosaicImgList = uniqueDates.map(mosaicDriver)\n",
    "    \n",
    "    return ee.ImageCollection(mosaicImgList)\n",
    "\n",
    "def download_local(driverfolderid, localdir, start, verbose=False):\n",
    "    while still_going(start):\n",
    "        time.sleep(1)\n",
    "        downloadasgo(drivefolderid, localdir, verbose=verbose)\n",
    "    downloadasgo(drivefolderid, localdir, verbose=verbose)\n",
    "\n",
    "def download_image(\n",
    "    image: ee.Image,\n",
    "    project_id: str,\n",
    "):\n",
    "    # Make filename\n",
    "    # define task\n",
    "    # start task\n",
    "    raise NotImplementedError()\n",
    "\n",
    "def download_project(\n",
    "    localdir: str,\n",
    "    project_id: str,\n",
    "    polygon: list,\n",
    "    gt_date: datetime,\n",
    "    date_offset_amount: int, \n",
    "    date_offset_unit: str=\"day\",\n",
    "    date_offset_policy: str=\"both\", # (before, after, both)\n",
    "    collection_name: str=\"COPERNICUS/S2_SR_HARMONIZED\",\n",
    "    s2_bands: list=['B1','B2','B3','B4','B5','B6','B7','B8','B8A', 'B9', 'B11','B12','MSK_CLDPRB'],\n",
    "    drivefolder: str=\"geeExports\",\n",
    "    drivefolderid='',\n",
    "    batch: bool=False, # if false, sequential dl o/w parallel\n",
    "    agg: str=None, # if None, raw images, o/w compute agg\n",
    "    mosaic: bool=False, # if True mosaic same dates\n",
    "    dtye: str=\"uint16\",\n",
    "    verbose: bool=False,\n",
    "):\n",
    "    assert date_offset_policy is [\"before\", \"after\", \"both\"], f'Invalid date_offset_policy: {date_offset_policy}. Value must be in {[\"before\", \"after\", \"both\"]}.'\n",
    "    assert date_offset_amout >= 0, f'date_offset_amount must be positive'\n",
    "    assert agg in [None, \"mean\", \"median\", \"cloudless_mean\", \"cloudless_median\"], f'Invalid agg: {agg}. Value must be in {[None, \"mean\", \"median\"]}.'\n",
    "    assert dtype in [\"uint16\"], f'Invalid dtype: {dtype}. Value must be in {[\"uint16\"]}.'\n",
    "    # Connect to GDrive\n",
    "    if not drivefolderid and len(drive.ListFile({'q': \"title='{id}'\".format(id=drivefolder)}).GetList())==0: \n",
    "        file_metadata = {'title': drivefolder,\n",
    "                            'parents': ['root'],\n",
    "                            'mimeType': 'application/vnd.google-apps.folder'}\n",
    "        folder = drive.CreateFile(file_metadata)\n",
    "        folder.Upload()\n",
    "        drivefolderid = folder['id']\n",
    "    elif not drivefolderid: \n",
    "        drivefolderid = drive.ListFile({'q': \"title='{id}'\".format(id=drivefolder)}).GetList()[0]['id']  #version v2 of Google Drive API\n",
    "    \n",
    "    # polygon\n",
    "    aoi = ee.Geometry.Polygon(polygon)\n",
    "    \n",
    "    # dates\n",
    "    gt_date = ee.Date(gt_date)\n",
    "    if date_offset_policy == \"before\":\n",
    "        start_date = gt_date.advance(-date_offset_amount, date_offset_unit)\n",
    "        end_date = gt_date\n",
    "    elif date_offset_policy == \"after\":\n",
    "        start_date = gt_date\n",
    "        end_date = gt_date.advance(date_offset_amount, date_offset_unit)\n",
    "    else:\n",
    "        start_date = gt_date.advance(-date_offset_amount, date_offset_unit)\n",
    "        end_date = gt_date.advance(date_offset_amount, date_offset_unit)\n",
    "    \n",
    "    # image collection\n",
    "    icol = (ee.ImageCollection(collection_name)\n",
    "             .filterBounds(aoi)\n",
    "             .filterDate(start_date, end_date)\n",
    "             .select(s2_bands))\n",
    "    if mosaic:\n",
    "        icol = MergeByDate(icol)\n",
    "    if agg is not None:\n",
    "        if \"cloudless\" in agg:\n",
    "            # TODO: cloud masking\n",
    "            raise NotImplementedError()\n",
    "        agg_img = eval(f\"icol.{agg}()\")\n",
    "        download_img(agg_img)\n",
    "        download_local(driverfolderid, localdir, datetime.now(), verbose=verbose)\n",
    "    \n",
    "    # Download\n",
    "    else:\n",
    "        now = datetime.now()\n",
    "        num_tasks = icol.size().getInfo()\n",
    "        icol_list = icol.toList(num_tasks)\n",
    "        # Parallel download\n",
    "        if batch:\n",
    "            for image in icol_list: \n",
    "                download_image(image)\n",
    "            download_local(driverfolderid, localdir, datetime.now(), verbose=verbose)\n",
    "        # Sequential download\n",
    "        else:\n",
    "            for image in icol_list: \n",
    "                download_image(image)\n",
    "                download_local(driverfolderid, localdir, datetime.now(), verbose=verbose)"
   ]
  },
  {
   "cell_type": "code",
   "execution_count": 37,
   "id": "b30f3a8a",
   "metadata": {},
   "outputs": [
    {
     "data": {
      "text/plain": [
       "list"
      ]
     },
     "execution_count": 37,
     "metadata": {},
     "output_type": "execute_result"
    }
   ],
   "source": [
    "type(polygon[\"coordinates\"])"
   ]
  },
  {
   "cell_type": "code",
   "execution_count": 57,
   "id": "4f6f0551",
   "metadata": {},
   "outputs": [
    {
     "data": {
      "text/plain": [
       "[[[563899.2011781419, 6755834.658824679],\n",
       "  [539024.1310164346, 6755178.560310203],\n",
       "  [539248.8400359971, 6754543.159912221],\n",
       "  [538865.0969036139, 6753917.5781549355],\n",
       "  [538897.9524304823, 6749568.097829428],\n",
       "  [539887.1999744953, 6748411.749972747],\n",
       "  [541210.2036883761, 6746911.441425804],\n",
       "  [541475.9200962898, 6746610.10985395],\n",
       "  [541476.1400709585, 6746609.859871178],\n",
       "  [542336.7099804848, 6745627.459846377],\n",
       "  [542355.5400050975, 6745595.549843346],\n",
       "  [542361.4600328822, 6745558.9698804505],\n",
       "  [542345.7820769094, 6744955.649179959],\n",
       "  [542317.7199797049, 6743876.039827059],\n",
       "  [543839.1000907369, 6743876.039930546],\n",
       "  [543875.3101077093, 6743869.249920703],\n",
       "  [543906.6100597142, 6743849.819913843],\n",
       "  [543928.7400657623, 6743820.369920687],\n",
       "  [543938.7100632838, 6743784.899846158],\n",
       "  [543993.8001072792, 6743165.399859212],\n",
       "  [543994.1801328451, 6743155.069907558],\n",
       "  [543993.280089667, 6743093.79989065],\n",
       "  [543845.8999475149, 6733081.109922016],\n",
       "  [547111.2481775562, 6732607.144913217],\n",
       "  [557201.9501246219, 6733250.169918798],\n",
       "  [557491.1529393176, 6733481.226975924],\n",
       "  [565183.3901112365, 6739627.18984268],\n",
       "  [565183.540078451, 6739626.999902586],\n",
       "  [565190.2200534745, 6739632.199920397],\n",
       "  [565202.6200637763, 6739639.269922743],\n",
       "  [565215.9001002973, 6739644.5099335825],\n",
       "  [565229.800136207, 6739647.809915722],\n",
       "  [565244.030095722, 6739649.089887873],\n",
       "  [565258.2701201228, 6739648.329850672],\n",
       "  [565272.2600891914, 6739645.549900264],\n",
       "  [565285.7101518286, 6739640.809850806],\n",
       "  [565298.3501374874, 6739634.2098521385],\n",
       "  [565309.9201005988, 6739625.869855977],\n",
       "  [565320.1901100081, 6739615.969861136],\n",
       "  [565328.9500759484, 6739604.709847769],\n",
       "  [565336.0101312235, 6739592.319846381],\n",
       "  [565341.2400817861, 6739579.049909001],\n",
       "  [565342.5000783924, 6739573.6998795485],\n",
       "  [565342.7401071009, 6739573.759918697],\n",
       "  [565359.6705207397, 6739507.163969785],\n",
       "  [566779.8300197783, 6740511.809859463],\n",
       "  [566818.8200363407, 6740568.109892958],\n",
       "  [566812.4399801394, 6740636.289914173],\n",
       "  [566763.6899901984, 6740684.379826366],\n",
       "  [565321.6800964916, 6741344.269880278],\n",
       "  [565222.0700823768, 6741334.7998659015],\n",
       "  [564314.709987645, 6740688.779915151],\n",
       "  [561383.7700974605, 6741574.199867809],\n",
       "  [560784.3601285282, 6742230.35986096],\n",
       "  [561094.4522944798, 6742446.730230252],\n",
       "  [561353.1042824221, 6742627.20822641],\n",
       "  [562389.740040401, 6743350.539901869],\n",
       "  [563623.9000209087, 6742559.789904136],\n",
       "  [563682.5499572025, 6742544.099923028],\n",
       "  [566495.160015539, 6742676.389926797],\n",
       "  [566552.4000251242, 6742697.769880504],\n",
       "  [566586.5099601767, 6742748.45983746],\n",
       "  [566937.9001451365, 6743961.789841822],\n",
       "  [567502.9001343744, 6744227.239912211],\n",
       "  [567503.2446252235, 6744227.712321225],\n",
       "  [567497.390129837, 6744224.889851995],\n",
       "  [567484.1101408377, 6744220.639865306],\n",
       "  [567470.3700962776, 6744218.279885204],\n",
       "  [567456.4301194693, 6744217.859862264],\n",
       "  [567442.560109342, 6744219.389904443],\n",
       "  [567429.0501427026, 6744222.819858328],\n",
       "  [567416.1400787298, 6744228.109915095],\n",
       "  [567404.0900976601, 6744235.139848827],\n",
       "  [567393.1400948691, 6744243.769912584],\n",
       "  [567386.3900756568, 6744250.8399023665],\n",
       "  [567386.2400608384, 6744250.699909322],\n",
       "  [567238.1801464555, 6744414.429865443],\n",
       "  [567229.5600818138, 6744425.399907564],\n",
       "  [567222.5701264703, 6744437.469935642],\n",
       "  [567217.310088384, 6744450.389819639],\n",
       "  [567213.9101449483, 6744463.909807354],\n",
       "  [567213.7901116139, 6744465.049830724],\n",
       "  [567213.7200897475, 6744465.039794892],\n",
       "  [567015.7500552215, 6745652.299862815],\n",
       "  [567014.4201351181, 6745666.179913458],\n",
       "  [567015.0300789805, 6745680.1098997705],\n",
       "  [567017.5800572601, 6745693.829849265],\n",
       "  [567022.0201017752, 6745707.04990297],\n",
       "  [567028.2501301643, 6745719.529889592],\n",
       "  [567036.1500842734, 6745731.0198778855],\n",
       "  [567045.5801135205, 6745741.289894972],\n",
       "  [567056.3501352137, 6745750.159845468],\n",
       "  [567062.1100790984, 6745753.679924296],\n",
       "  [567061.9801398431, 6745753.889861415],\n",
       "  [567475.409963816, 6746008.179900354],\n",
       "  [567429.0500480145, 6746394.359885272],\n",
       "  [567428.3599732568, 6746408.289863895],\n",
       "  [567429.609989216, 6746422.179901955],\n",
       "  [567432.780029922, 6746435.759840632],\n",
       "  [567437.8100436853, 6746448.769900372],\n",
       "  [567441.1399948453, 6746454.719847012],\n",
       "  [567440.919969993, 6746454.83983926],\n",
       "  [567509.0000101, 6746577.329917477],\n",
       "  [567273.3772523704, 6747242.906720286],\n",
       "  [567110.1100672313, 6747704.089892251],\n",
       "  [567106.380149323, 6747717.529889262],\n",
       "  [567104.5601016929, 6747731.359873445],\n",
       "  [567104.6801325365, 6747745.299849825],\n",
       "  [567106.7501331911, 6747759.099868297],\n",
       "  [567110.7101256326, 6747772.469851981],\n",
       "  [567116.4901286633, 6747785.1598464055],\n",
       "  [567123.9900630496, 6747796.919844339],\n",
       "  [567133.05011575, 6747807.519844287],\n",
       "  [567136.9600674816, 6747810.989877638],\n",
       "  [567136.8101109854, 6747811.159846025],\n",
       "  [567318.7599787636, 6747977.869896454],\n",
       "  [567302.4099607277, 6748435.44983789],\n",
       "  [567302.8800125092, 6748449.389860127],\n",
       "  [567305.2899937672, 6748463.129910769],\n",
       "  [567309.5899522711, 6748476.389862852],\n",
       "  [567315.7000476245, 6748488.929893922],\n",
       "  [567323.4900131716, 6748500.499834284],\n",
       "  [567331.9200410252, 6748509.879912743],\n",
       "  [567331.8599471268, 6748509.939922452],\n",
       "  [568008.7100449126, 6749182.329923633],\n",
       "  [568019.2600460761, 6749191.449895018],\n",
       "  [568030.9899825661, 6749198.999895938],\n",
       "  [568040.5400051246, 6749203.419887966],\n",
       "  [568040.47003637, 6749203.579837556],\n",
       "  [568097.2858754733, 6749227.430248188],\n",
       "  [566442.440121067, 6750640.689897401],\n",
       "  [565825.9900730611, 6753656.519927607],\n",
       "  [565809.7600556628, 6753694.09984451],\n",
       "  [565684.1500545887, 6753872.3298584],\n",
       "  [565624.1399866684, 6753912.329886557],\n",
       "  [565594.6799618596, 6753907.879832775],\n",
       "  [565356.6899862359, 6754194.159827246],\n",
       "  [564817.2599831593, 6754837.17991869],\n",
       "  [564521.7800103601, 6755206.169901623],\n",
       "  [564514.7199812812, 6755214.079921304],\n",
       "  [563899.2011781419, 6755834.658824679]]]"
      ]
     },
     "execution_count": 57,
     "metadata": {},
     "output_type": "execute_result"
    }
   ],
   "source": [
    "ee.Geometry.Polygon(polygon[\"coordinates\"]).getInfo()[\"coordinates\"]"
   ]
  },
  {
   "cell_type": "code",
   "execution_count": null,
   "id": "eef61a7b",
   "metadata": {},
   "outputs": [],
   "source": [
    "538396,6.75601e+06, 538147,6.74546e+06\n"
   ]
  },
  {
   "cell_type": "code",
   "execution_count": 39,
   "id": "c302df5b",
   "metadata": {},
   "outputs": [],
   "source": [
    "icol = ee.ImageCollection(\"COPERNICUS/S2_SR_HARMONIZED\")\\\n",
    "    .filterBounds(ee.Geometry.Rectangle([, 0.23, 0.24]))\\\n",
    "    .select([\"B\"])"
   ]
  },
  {
   "cell_type": "code",
   "execution_count": 43,
   "id": "d766891c",
   "metadata": {},
   "outputs": [
    {
     "data": {
      "text/plain": [
       "{'type': 'ImageCollection',\n",
       " 'bands': [],\n",
       " 'id': 'COPERNICUS/S2_SR_HARMONIZED',\n",
       " 'version': 1683814929787050.0,\n",
       " 'properties': {'date_range': [1490659200000, 1647907200000],\n",
       "  'period': 0,\n",
       "  'system:visualization_0_min': '0.0',\n",
       "  'type_name': 'ImageCollection',\n",
       "  'keywords': ['copernicus',\n",
       "   'esa',\n",
       "   'eu',\n",
       "   'msi',\n",
       "   'reflectance',\n",
       "   'sentinel',\n",
       "   'sr'],\n",
       "  'system:visualization_0_bands': 'B4,B3,B2',\n",
       "  'thumb': 'https://mw1.google.com/ges/dd/images/COPERNICUS_S2_SR_thumb.png',\n",
       "  'description': '<p>Sentinel-2 is a wide-swath, high-resolution, multi-spectral\\nimaging mission supporting Copernicus Land Monitoring studies,\\nincluding the monitoring of vegetation, soil and water cover,\\nas well as observation of inland waterways and coastal areas.</p><p>The Sentinel-2 L2 data are downloaded from scihub. They were\\ncomputed by running sen2cor. WARNING: ESA did not produce L2 data\\nfor all L1 assets, and earlier L2 coverage is not global.</p><p>The assets contain\\n12 UINT16 spectral bands representing SR scaled by 10000 (unlike in L1 data,\\nthere is no B10). There are also several more L2-specific bands (see band\\nlist for details). See the\\n<a href=\"https://sentinel.esa.int/documents/247904/685211/Sentinel-2_User_Handbook\">Sentinel-2 User Handbook</a>\\nfor details. In addition, three QA bands are present where one\\n(QA60) is a bitmask band with cloud mask information. For more\\ndetails, <a href=\"https://sentinel.esa.int/web/sentinel/technical-guides/sentinel-2-msi/level-1c/cloud-masks\">see the full explanation of how cloud masks are computed.</a></p><p>EE asset ids for Sentinel-2 L2 assets have the following format:\\nCOPERNICUS/S2_SR/20151128T002653_20151128T102149_T56MNN. Here the\\nfirst numeric part represents the sensing date and time, the\\nsecond numeric part represents the product generation date and\\ntime, and the final 6-character string is a unique granule identifier\\nindicating its UTM grid reference (see <a href=\"https://en.wikipedia.org/wiki/Military_Grid_Reference_System\">MGRS</a>).</p><p>Clouds can be removed by using\\n<a href=\"COPERNICUS_S2_CLOUD_PROBABILITY\">COPERNICUS/S2_CLOUD_PROBABILITY</a>.\\nSee\\n<a href=\"https://developers.google.com/earth-engine/tutorials/community/sentinel-2-s2cloudless\">this tutorial</a>\\nexplaining how to apply the cloud mask.</p><p>For more details on Sentinel-2 radiometric resolution, <a href=\"https://earth.esa.int/web/sentinel/user-guides/sentinel-2-msi/resolutions/radiometric\">see this page</a>.</p><p><b>Provider: <a href=\"https://earth.esa.int/web/sentinel/user-guides/sentinel-2-msi/product-types/level-2a\">European Union/ESA/Copernicus</a></b><br><p><b>Revisit Interval</b><br>\\n  5 days\\n</p><p><b>Bands</b><table class=\"eecat\"><tr><th scope=\"col\">Name</th><th scope=\"col\">Description</th></tr><tr><td>B1</td><td><p>Aerosols</p></td></tr><tr><td>B2</td><td><p>Blue</p></td></tr><tr><td>B3</td><td><p>Green</p></td></tr><tr><td>B4</td><td><p>Red</p></td></tr><tr><td>B5</td><td><p>Red Edge 1</p></td></tr><tr><td>B6</td><td><p>Red Edge 2</p></td></tr><tr><td>B7</td><td><p>Red Edge 3</p></td></tr><tr><td>B8</td><td><p>NIR</p></td></tr><tr><td>B8A</td><td><p>Red Edge 4</p></td></tr><tr><td>B9</td><td><p>Water vapor</p></td></tr><tr><td>B11</td><td><p>SWIR 1</p></td></tr><tr><td>B12</td><td><p>SWIR 2</p></td></tr><tr><td>AOT</td><td><p>Aerosol Optical Thickness</p></td></tr><tr><td>WVP</td><td><p>Water Vapor Pressure. The height the water would occupy if the vapor were condensed into\\nliquid and spread evenly across the column.</p></td></tr><tr><td>SCL</td><td><p>Scene Classification Map (The &quot;No Data&quot; value of 0 is masked out)</p></td></tr><tr><td>TCI_R</td><td><p>True Color Image, Red channel</p></td></tr><tr><td>TCI_G</td><td><p>True Color Image, Green channel</p></td></tr><tr><td>TCI_B</td><td><p>True Color Image, Blue channel</p></td></tr><tr><td>MSK_CLDPRB</td><td><p>Cloud Probability Map (missing in some products)</p></td></tr><tr><td>MSK_SNWPRB</td><td><p>Snow Probability Map (missing in some products)</p></td></tr><tr><td>QA10</td><td><p>Always empty</p></td></tr><tr><td>QA20</td><td><p>Always empty</p></td></tr><tr><td>QA60</td><td><p>Cloud mask</p></td></tr><tr><td colspan=100>\\n      Bitmask for QA60\\n<ul><li>\\n          Bit 10: Opaque clouds\\n<ul><li>0: No opaque clouds</li><li>1: Opaque clouds present</li></ul></li><li>\\n          Bit 11: Cirrus clouds\\n<ul><li>0: No cirrus clouds</li><li>1: Cirrus clouds present</li></ul></li></ul></td></tr></table><p><b>Image Properties</b><table class=\"eecat\"><tr><th scope=\"col\">Name</th><th scope=\"col\">Type</th><th scope=\"col\">Description</th></tr><tr><td>AOT_RETRIEVAL_ACCURACY</td><td>DOUBLE</td><td><p>Accuracy of Aerosol Optical thickness model</p></td></tr><tr><td>CLOUDY_PIXEL_PERCENTAGE</td><td>DOUBLE</td><td><p>Granule-specific cloudy pixel percentage taken from the original metadata</p></td></tr><tr><td>CLOUD_COVERAGE_ASSESSMENT</td><td>DOUBLE</td><td><p>Cloudy pixel percentage for the whole archive that\\ncontains this granule. Taken from the original metadata</p></td></tr><tr><td>CLOUDY_SHADOW_PERCENTAGE</td><td>DOUBLE</td><td><p>Percentage of pixels classified as cloud shadow</p></td></tr><tr><td>DARK_FEATURES_PERCENTAGE</td><td>DOUBLE</td><td><p>Percentage of pixels classified as dark features or shadows</p></td></tr><tr><td>DATASTRIP_ID</td><td>STRING</td><td><p>Unique identifier of the datastrip Product Data Item (PDI)</p></td></tr><tr><td>DATATAKE_IDENTIFIER</td><td>STRING</td><td><p>Uniquely identifies a given Datatake. The ID contains\\nthe Sentinel-2 satellite, start date and time, absolute orbit\\nnumber, and processing baseline.</p></td></tr><tr><td>DATATAKE_TYPE</td><td>STRING</td><td><p>MSI operation mode</p></td></tr><tr><td>DEGRADED_MSI_DATA_PERCENTAGE</td><td>DOUBLE</td><td><p>Percentage of degraded MSI and ancillary data</p></td></tr><tr><td>FORMAT_CORRECTNESS</td><td>STRING</td><td><p>Synthesis of the On-Line Quality Control (OLQC) checks\\nperformed at granule (Product_Syntax) and datastrip (Product\\nSyntax and DS_Consistency) levels</p></td></tr><tr><td>GENERAL_QUALITY</td><td>STRING</td><td><p>Synthesis of the OLQC checks performed at the datastrip level (Relative_Orbit_Number)</p></td></tr><tr><td>GENERATION_TIME</td><td>DOUBLE</td><td><p>Product generation time</p></td></tr><tr><td>GEOMETRIC_QUALITY</td><td>STRING</td><td><p>Synthesis of the OLQC checks performed at the datastrip level (Attitude_Quality_Indicator)</p></td></tr><tr><td>GRANULE_ID</td><td>STRING</td><td><p>Unique identifier of the granule PDI (PDI_ID)</p></td></tr><tr><td>HIGH_PROBA_CLOUDS_PERCENTAGE</td><td>DOUBLE</td><td><p>Percentage of pixels classified as high probability clouds</p></td></tr><tr><td>MEAN_INCIDENCE_AZIMUTH_ANGLE_B1</td><td>DOUBLE</td><td><p>Mean value containing viewing incidence azimuth angle average for band B1 and for all detectors</p></td></tr><tr><td>MEAN_INCIDENCE_AZIMUTH_ANGLE_B2</td><td>DOUBLE</td><td><p>Mean value containing viewing incidence azimuth angle average for band B2 and for all detectors</p></td></tr><tr><td>MEAN_INCIDENCE_AZIMUTH_ANGLE_B3</td><td>DOUBLE</td><td><p>Mean value containing viewing incidence azimuth angle average for band B3 and for all detectors</p></td></tr><tr><td>MEAN_INCIDENCE_AZIMUTH_ANGLE_B4</td><td>DOUBLE</td><td><p>Mean value containing viewing incidence azimuth angle average for band B4 and for all detectors</p></td></tr><tr><td>MEAN_INCIDENCE_AZIMUTH_ANGLE_B5</td><td>DOUBLE</td><td><p>Mean value containing viewing incidence azimuth angle average for band B5 and for all detectors</p></td></tr><tr><td>MEAN_INCIDENCE_AZIMUTH_ANGLE_B6</td><td>DOUBLE</td><td><p>Mean value containing viewing incidence azimuth angle average for band B6 and for all detectors</p></td></tr><tr><td>MEAN_INCIDENCE_AZIMUTH_ANGLE_B7</td><td>DOUBLE</td><td><p>Mean value containing viewing incidence azimuth angle average for band B7 and for all detectors</p></td></tr><tr><td>MEAN_INCIDENCE_AZIMUTH_ANGLE_B8</td><td>DOUBLE</td><td><p>Mean value containing viewing incidence azimuth angle average for band B8 and for all detectors</p></td></tr><tr><td>MEAN_INCIDENCE_AZIMUTH_ANGLE_B8A</td><td>DOUBLE</td><td><p>Mean value containing viewing incidence azimuth angle average for band B8a and for all detectors</p></td></tr><tr><td>MEAN_INCIDENCE_AZIMUTH_ANGLE_B9</td><td>DOUBLE</td><td><p>Mean value containing viewing incidence azimuth angle average for band B9 and for all detectors</p></td></tr><tr><td>MEAN_INCIDENCE_AZIMUTH_ANGLE_B10</td><td>DOUBLE</td><td><p>Mean value containing viewing incidence azimuth angle average for band B10 and for all detectors</p></td></tr><tr><td>MEAN_INCIDENCE_AZIMUTH_ANGLE_B11</td><td>DOUBLE</td><td><p>Mean value containing viewing incidence azimuth angle average for band B11 and for all detectors</p></td></tr><tr><td>MEAN_INCIDENCE_AZIMUTH_ANGLE_B12</td><td>DOUBLE</td><td><p>Mean value containing viewing incidence azimuth angle average for band B12 and for all detectors</p></td></tr><tr><td>MEAN_INCIDENCE_ZENITH_ANGLE_B1</td><td>DOUBLE</td><td><p>Mean value containing viewing incidence zenith angle average for band B1 and for all detectors</p></td></tr><tr><td>MEAN_INCIDENCE_ZENITH_ANGLE_B2</td><td>DOUBLE</td><td><p>Mean value containing viewing incidence zenith angle average for band B2 and for all detectors</p></td></tr><tr><td>MEAN_INCIDENCE_ZENITH_ANGLE_B3</td><td>DOUBLE</td><td><p>Mean value containing viewing incidence zenith angle average for band B3 and for all detectors</p></td></tr><tr><td>MEAN_INCIDENCE_ZENITH_ANGLE_B4</td><td>DOUBLE</td><td><p>Mean value containing viewing incidence zenith angle average for band B4 and for all detectors</p></td></tr><tr><td>MEAN_INCIDENCE_ZENITH_ANGLE_B5</td><td>DOUBLE</td><td><p>Mean value containing viewing incidence zenith angle average for band B5 and for all detectors</p></td></tr><tr><td>MEAN_INCIDENCE_ZENITH_ANGLE_B6</td><td>DOUBLE</td><td><p>Mean value containing viewing incidence zenith angle average for band B6 and for all detectors</p></td></tr><tr><td>MEAN_INCIDENCE_ZENITH_ANGLE_B7</td><td>DOUBLE</td><td><p>Mean value containing viewing incidence zenith angle average for band B7 and for all detectors</p></td></tr><tr><td>MEAN_INCIDENCE_ZENITH_ANGLE_B8</td><td>DOUBLE</td><td><p>Mean value containing viewing incidence zenith angle average for band B8 and for all detectors</p></td></tr><tr><td>MEAN_INCIDENCE_ZENITH_ANGLE_B8A</td><td>DOUBLE</td><td><p>Mean value containing viewing incidence zenith angle average for band B8a and for all detectors</p></td></tr><tr><td>MEAN_INCIDENCE_ZENITH_ANGLE_B9</td><td>DOUBLE</td><td><p>Mean value containing viewing incidence zenith angle average for band B9 and for all detectors</p></td></tr><tr><td>MEAN_INCIDENCE_ZENITH_ANGLE_B10</td><td>DOUBLE</td><td><p>Mean value containing viewing incidence zenith angle average for band B10 and for all detectors</p></td></tr><tr><td>MEAN_INCIDENCE_ZENITH_ANGLE_B11</td><td>DOUBLE</td><td><p>Mean value containing viewing incidence zenith angle average for band B11 and for all detectors</p></td></tr><tr><td>MEAN_INCIDENCE_ZENITH_ANGLE_B12</td><td>DOUBLE</td><td><p>Mean value containing viewing incidence zenith angle average for band B12 and for all detectors</p></td></tr><tr><td>MEAN_SOLAR_AZIMUTH_ANGLE</td><td>DOUBLE</td><td><p>Mean value containing sun azimuth angle average for all bands and detectors</p></td></tr><tr><td>MEAN_SOLAR_ZENITH_ANGLE</td><td>DOUBLE</td><td><p>Mean value containing sun zenith angle average for all bands and detectors</p></td></tr><tr><td>MEDIUM_PROBA_CLOUDS_PERCENTAGE</td><td>DOUBLE</td><td><p>Percentage of pixels classified as medium probability clouds</p></td></tr><tr><td>MGRS_TILE</td><td>STRING</td><td><p>US-Military Grid Reference System (MGRS) tile</p></td></tr><tr><td>NODATA_PIXEL_PERCENTAGE</td><td>DOUBLE</td><td><p>Percentage of No Data pixels</p></td></tr><tr><td>NOT_VEGETATED_PERCENTAGE</td><td>DOUBLE</td><td><p>Percentage of pixels classified as non-vegetated</p></td></tr><tr><td>PROCESSING_BASELINE</td><td>STRING</td><td><p>Configuration baseline used at the time of the product\\ngeneration in terms of processor software version and major Ground\\nImage Processing Parameters (GIPP) version</p></td></tr><tr><td>PRODUCT_ID</td><td>STRING</td><td><p>The full id of the original Sentinel-2 product</p></td></tr><tr><td>RADIATIVE_TRANSFER_ACCURACY</td><td>DOUBLE</td><td><p>Accuracy of radiative transfer model</p></td></tr><tr><td>RADIOMETRIC_QUALITY</td><td>STRING</td><td><p>Based on the OLQC reports contained in the Datastrips/QI_DATA with RADIOMETRIC_QUALITY checklist name</p></td></tr><tr><td>REFLECTANCE_CONVERSION_CORRECTION</td><td>DOUBLE</td><td><p>Earth-Sun distance correction factor</p></td></tr><tr><td>SATURATED_DEFECTIVE_PIXEL_PERCENTAGE</td><td>DOUBLE</td><td><p>Percentage of saturated or defective pixels</p></td></tr><tr><td>SENSING_ORBIT_DIRECTION</td><td>STRING</td><td><p>Imaging orbit direction</p></td></tr><tr><td>SENSING_ORBIT_NUMBER</td><td>DOUBLE</td><td><p>Imaging orbit number</p></td></tr><tr><td>SENSOR_QUALITY</td><td>STRING</td><td><p>Synthesis of the OLQC checks performed at granule\\n(Missing_Lines, Corrupted_ISP, and Sensing_Time) and datastrip\\n(Degraded_SAD and Datation_Model) levels</p></td></tr><tr><td>SOLAR_IRRADIANCE_B1</td><td>DOUBLE</td><td><p>Mean solar exoatmospheric irradiance for band B1</p></td></tr><tr><td>SOLAR_IRRADIANCE_B2</td><td>DOUBLE</td><td><p>Mean solar exoatmospheric irradiance for band B2</p></td></tr><tr><td>SOLAR_IRRADIANCE_B3</td><td>DOUBLE</td><td><p>Mean solar exoatmospheric irradiance for band B3</p></td></tr><tr><td>SOLAR_IRRADIANCE_B4</td><td>DOUBLE</td><td><p>Mean solar exoatmospheric irradiance for band B4</p></td></tr><tr><td>SOLAR_IRRADIANCE_B5</td><td>DOUBLE</td><td><p>Mean solar exoatmospheric irradiance for band B5</p></td></tr><tr><td>SOLAR_IRRADIANCE_B6</td><td>DOUBLE</td><td><p>Mean solar exoatmospheric irradiance for band B6</p></td></tr><tr><td>SOLAR_IRRADIANCE_B7</td><td>DOUBLE</td><td><p>Mean solar exoatmospheric irradiance for band B7</p></td></tr><tr><td>SOLAR_IRRADIANCE_B8</td><td>DOUBLE</td><td><p>Mean solar exoatmospheric irradiance for band B8</p></td></tr><tr><td>SOLAR_IRRADIANCE_B8A</td><td>DOUBLE</td><td><p>Mean solar exoatmospheric irradiance for band B8a</p></td></tr><tr><td>SOLAR_IRRADIANCE_B9</td><td>DOUBLE</td><td><p>Mean solar exoatmospheric irradiance for band B9</p></td></tr><tr><td>SOLAR_IRRADIANCE_B10</td><td>DOUBLE</td><td><p>Mean solar exoatmospheric irradiance for band B10</p></td></tr><tr><td>SOLAR_IRRADIANCE_B11</td><td>DOUBLE</td><td><p>Mean solar exoatmospheric irradiance for band B11</p></td></tr><tr><td>SOLAR_IRRADIANCE_B12</td><td>DOUBLE</td><td><p>Mean solar exoatmospheric irradiance for band B12</p></td></tr><tr><td>SNOW_ICE_PERCENTAGE</td><td>DOUBLE</td><td><p>Percentage of pixels classified as snow or ice</p></td></tr><tr><td>SPACECRAFT_NAME</td><td>STRING</td><td><p>Sentinel-2 spacecraft name: Sentinel-2A, Sentinel-2B</p></td></tr><tr><td>THIN_CIRRUS_PERCENTAGE</td><td>DOUBLE</td><td><p>Percentage of pixels classified as thin cirrus clouds</p></td></tr><tr><td>UNCLASSIFIED_PERCENTAGE</td><td>DOUBLE</td><td><p>Percentage of unclassified pixels</p></td></tr><tr><td>VEGETATION_PERCENTAGE</td><td>DOUBLE</td><td><p>Percentage of pixels classified as vegetation</p></td></tr><tr><td>WATER_PERCENTAGE</td><td>DOUBLE</td><td><p>Percentage of pixels classified as water</p></td></tr><tr><td>WATER_VAPOUR_RETRIEVAL_ACCURACY</td><td>DOUBLE</td><td><p>Declared accuracy of the Water Vapor model</p></td></tr></table><p><b>Terms of Use</b><br><p>The use of Sentinel data is governed by the <a href=\"https://scihub.copernicus.eu/twiki/pub/SciHubWebPortal/TermsConditions/Sentinel_Data_Terms_and_Conditions.pdf\">Copernicus\\nSentinel Data Terms and Conditions.</a></p><style>\\n  table.eecat {\\n  border: 1px solid black;\\n  border-collapse: collapse;\\n  font-size: 13px;\\n  }\\n  table.eecat td, tr, th {\\n  text-align: left; vertical-align: top;\\n  border: 1px solid gray; padding: 3px;\\n  }\\n  td.nobreak { white-space: nowrap; }\\n</style>',\n",
       "  'source_tags': ['eu', 'esa', 'copernicus', 'sentinel'],\n",
       "  'visualization_0_max': '3000.0',\n",
       "  'provider_url': 'https://earth.esa.int/web/sentinel/user-guides/sentinel-2-msi/product-types/level-2a',\n",
       "  'title': 'Sentinel-2 MSI: MultiSpectral Instrument, Level-2A',\n",
       "  'sample': 'https://mw1.google.com/ges/dd/images/COPERNICUS_S2_SR_sample.png',\n",
       "  'tags': ['copernicus', 'esa', 'eu', 'msi', 'reflectance', 'sentinel', 'sr'],\n",
       "  'system:visualization_0_max': '3000.0',\n",
       "  'product_tags': ['msi', 'sr', 'reflectance'],\n",
       "  'provider': 'European Union/ESA/Copernicus',\n",
       "  'visualization_0_min': '0.0',\n",
       "  'system:visualization_0_name': 'RGB',\n",
       "  'visualization_0_name': 'RGB',\n",
       "  'visualization_0_bands': 'B4,B3,B2'},\n",
       " 'features': []}"
      ]
     },
     "execution_count": 43,
     "metadata": {},
     "output_type": "execute_result"
    }
   ],
   "source": [
    "icol.getInfo()"
   ]
  },
  {
   "cell_type": "code",
   "execution_count": 45,
   "id": "68b46199",
   "metadata": {},
   "outputs": [
    {
     "data": {
      "text/plain": [
       "0"
      ]
     },
     "execution_count": 45,
     "metadata": {},
     "output_type": "execute_result"
    }
   ],
   "source": [
    "icol.size().getInfo()"
   ]
  },
  {
   "cell_type": "code",
   "execution_count": 47,
   "id": "7f8ae58d",
   "metadata": {},
   "outputs": [
    {
     "data": {
      "text/plain": [
       "<ee.ee_list.List at 0x7f34fafcf6d0>"
      ]
     },
     "execution_count": 47,
     "metadata": {},
     "output_type": "execute_result"
    }
   ],
   "source": [
    "icol.toList(icol.size())"
   ]
  },
  {
   "cell_type": "code",
   "execution_count": 52,
   "id": "2102702d",
   "metadata": {},
   "outputs": [
    {
     "data": {
      "text/plain": [
       "{'value': 10, 'root': 'usr/'}"
      ]
     },
     "execution_count": 52,
     "metadata": {},
     "output_type": "execute_result"
    }
   ],
   "source": [
    "import argparse\n",
    "args = argparse.Namespace()\n",
    "args.value = 10\n",
    "args.root = \"usr/\"\n",
    "vars(args)"
   ]
  },
  {
   "cell_type": "code",
   "execution_count": null,
   "id": "a5504baf",
   "metadata": {},
   "outputs": [],
   "source": []
  }
 ],
 "metadata": {
  "kernelspec": {
   "display_name": "Python (bfs-3.7)",
   "language": "python",
   "name": "bfs-3.7"
  },
  "language_info": {
   "codemirror_mode": {
    "name": "ipython",
    "version": 3
   },
   "file_extension": ".py",
   "mimetype": "text/x-python",
   "name": "python",
   "nbconvert_exporter": "python",
   "pygments_lexer": "ipython3",
   "version": "3.7.4"
  }
 },
 "nbformat": 4,
 "nbformat_minor": 5
}
