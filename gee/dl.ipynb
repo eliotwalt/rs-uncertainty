{
 "cells": [
  {
   "cell_type": "code",
   "execution_count": 3,
   "id": "64e3ab3a",
   "metadata": {},
   "outputs": [],
   "source": [
    "import ee, os\n",
    "from pathlib import Path\n",
    "from datetime import datetime\n",
    "from tqdm import tqdm\n",
    "import time\n",
    "import rasterio\n",
    "import rasterio.warp\n",
    "from utils import get_project_data"
   ]
  },
  {
   "cell_type": "code",
   "execution_count": 4,
   "id": "0e165bca",
   "metadata": {},
   "outputs": [],
   "source": [
    "# Project data\n",
    "gt_file, gt, gt_date, gt_crs, polygon, bounds = get_project_data(\n",
    "    \"498\",\n",
    "    gt_dir=\"../assets/data/preprocessed\",\n",
    "    gt_data_bands=list(range(1,6)),\n",
    "    shapefile_paths=['../assets/data/NHM_projectDekning_AOI_edit2015_V2.shp', \n",
    "                    '../assets/data/ALS_projects_Dz_all_norway.shp']\n",
    ")"
   ]
  },
  {
   "cell_type": "code",
   "execution_count": 7,
   "id": "81b6b465",
   "metadata": {},
   "outputs": [
    {
     "data": {
      "text/plain": [
       "[(9.703842793092072, 60.7253957927164),\n",
       " (10.258106843349504, 60.933251765941094)]"
      ]
     },
     "execution_count": 7,
     "metadata": {},
     "output_type": "execute_result"
    }
   ],
   "source": [
    "bounds[0][0]"
   ]
  },
  {
   "cell_type": "code",
   "execution_count": 5,
   "id": "170c8dbb",
   "metadata": {},
   "outputs": [],
   "source": [
    "import ee\n",
    "ee.Initialize(project=\"ee-walteliot\")"
   ]
  },
  {
   "cell_type": "code",
   "execution_count": 131,
   "id": "def067cc",
   "metadata": {
    "scrolled": true
   },
   "outputs": [
    {
     "name": "stdout",
     "output_type": "stream",
     "text": [
      "Exporting icol with 2 images.\n",
      "Submitted new task: taskId=NMSE6VT7MIYRSLMVVI7MKFFT, name=498-geetoolsWithFn-20170526T105031-20231605T135247, description=20170702T104021_20170702T104252_T32VNN\n",
      "Submitted new task: taskId=FJEIFC6GWFAQT47FXC4P3U5N, name=498-geetoolsWithFn-20170526T105031-20231605T135250, description=20170705T105031_20170705T105026_T32VNN\n",
      "Reached end of image list at index: 2\n",
      "<Task NAANTYZR6L36FP5QKWY6T6QA EXPORT_IMAGE: 498-test-list-13-reprojected-clipped-20170526T105031 (UNSUBMITTED)> -> 498-geetoolsWithFn-20170526T105031-20231605T135247\n",
      "<Task NAANTYZR6L36FP5QKWY6T6QA EXPORT_IMAGE: 498-test-list-13-reprojected-clipped-20170526T105031 (UNSUBMITTED)> -> 498-geetoolsWithFn-20170526T105031-20231605T135250\n"
     ]
    }
   ],
   "source": [
    "import geetools\n",
    "import ee\n",
    "from uuid import uuid4\n",
    "from geetools.utils import makeName\n",
    "from geetools import tools\n",
    "from geetools.batch import utils\n",
    "from hashlib import sha256\n",
    "\n",
    "def exportImageCollectionToDrive(\n",
    "    collection, \n",
    "    fn_prefix, \n",
    "    folder, \n",
    "    scale, \n",
    "    datatype, \n",
    "    region, \n",
    "    crs, \n",
    "    verbose=False, \n",
    "    **kwargs\n",
    "):\n",
    "    \"\"\"\n",
    "    Slight modification of geetools.batch.Export.imagecollection.toDrive to use a filename prefix \n",
    "    to define the name property when exporting images\n",
    "    \"\"\"\n",
    "    # compat\n",
    "    namePattern='{id}'\n",
    "    datePattern=None\n",
    "    extra=None\n",
    "    dataType=datatype\n",
    "    # empty tasks list\n",
    "    tasklist, filenames = [], []\n",
    "    # get region\n",
    "    if region:\n",
    "        region = tools.geometry.getRegion(region)\n",
    "    # Make a list of images\n",
    "    img_list = collection.toList(collection.size())\n",
    "    n = 0\n",
    "    while True:\n",
    "        try:\n",
    "            img = ee.Image(img_list.get(n))\n",
    "            name = fn_prefix+\"{}-{}\".format(\n",
    "                image.id().getInfo().split(\"_\")[0], \n",
    "                datetime.now().strftime(\"%Y%d%mT%H%M%S\"))\n",
    "            description = utils.matchDescription(makeName(img, namePattern, datePattern, extra).getInfo())\n",
    "            # convert data type\n",
    "            img = utils.convertDataType(dataType)(img)\n",
    "            if region is None:\n",
    "                region = tools.geometry.getRegion(img)\n",
    "            task = ee.batch.Export.image.toDrive(image=img,\n",
    "                                                 description=description,\n",
    "                                                 folder=folder,\n",
    "                                                 fileNamePrefix=name,\n",
    "                                                 region=region,\n",
    "                                                 scale=scale,\n",
    "                                                 crs=crs)\n",
    "            task.start()\n",
    "            if verbose: print(f\"Submitted new task: taskId={task.id}, name={name}, description={description}\")\n",
    "            tasklist.append(task)\n",
    "            filenames.append(name)\n",
    "            n += 1\n",
    "        except Exception as e:\n",
    "            error = str(e).split(':')\n",
    "            if error[0] == 'List.get': \n",
    "                if verbose: print(f\"Reached end of image list at index: {n}\")\n",
    "                break\n",
    "            else: raise e\n",
    "    return tasklist, filenames\n",
    "\n",
    "projection = ee.Projection('EPSG:4326')\n",
    "geometry = ee.Geometry.Rectangle(bounds[0][0], proj=projection)\n",
    "dates = (ee.Date('2017-07-01'), ee.Date('2017-07-11'))\n",
    "s2_bands = ['B1','B2','B3','B4','B5','B6','B7','B8','B8A', 'B9', 'B11','B12','MSK_CLDPRB']\n",
    "icol = (ee.ImageCollection(\"COPERNICUS/S2_SR_HARMONIZED\")\n",
    "       .filterBounds(geometry)\n",
    "       .filterDate(*dates)\n",
    "       .select(s2_bands))\n",
    "print(\"Exporting icol with\", icol.size().getInfo(), \"images.\")\n",
    "# Geetools export\n",
    "tasks, filenames = exportImageCollectionToDrive(\n",
    "    collection=icol,\n",
    "    region=geometry,\n",
    "    folder=\"geeExports\",\n",
    "    scale=10,\n",
    "    fn_prefix=\"498-geetoolsWithFn-\",\n",
    "    datatype=\"uint16\",\n",
    "    crs=projection.getInfo()[\"crs\"],\n",
    "    verbose=True\n",
    ")\n",
    "for t, f in zip(tasks, filenames):\n",
    "    print(task, \"->\", f)"
   ]
  },
  {
   "cell_type": "code",
   "execution_count": 133,
   "id": "c6c33e4d",
   "metadata": {},
   "outputs": [
    {
     "data": {
      "text/plain": [
       "'NMSE6VT7MIYRSLMVVI7MKFFT'"
      ]
     },
     "execution_count": 133,
     "metadata": {},
     "output_type": "execute_result"
    }
   ],
   "source": [
    "tasks[0].id"
   ]
  },
  {
   "cell_type": "code",
   "execution_count": 134,
   "id": "561dd155",
   "metadata": {},
   "outputs": [],
   "source": [
    "import ee\n",
    "from datetime import datetime\n",
    "\n",
    "def cast_image(image, datatype):\n",
    "    try:\n",
    "        return {\n",
    "            \"float\":image.toFloat(), \n",
    "            \"byte\":image.toByte(), \n",
    "            \"int\":image.toInt(),\n",
    "            \"double\":image.toDouble(),\n",
    "            \"long\": image.toLong(),\n",
    "            \"short\": image.toShort(),\n",
    "            \"int8\": image.toInt8(),\n",
    "            \"int16\": image.toInt16(),\n",
    "            \"int32\": image.toInt32(),\n",
    "            \"int64\": image.toInt64(),\n",
    "            \"uint8\": image.toUint8(),\n",
    "            \"uint16\": image.toUint16(),\n",
    "            \"uint32\": image.toUint32()\n",
    "        }[datatype]\n",
    "    except KeyError as e:\n",
    "        raise KeyError(f\"Invalid datatype\")\n",
    "\n",
    "class GEEDownloader:\n",
    "    def __init__(\n",
    "        self,\n",
    "        gee_project: str,\n",
    "        crs: str=\"EPSG:4326\",\n",
    "        collection_name: str=\"COPERNICUS/S2_SR_HARMONIZED\"\n",
    "    ):\n",
    "        ee.Initialize(project=gee_project)\n",
    "        self.projection = ee.Projection(crs)\n",
    "        self.crs = self.projection.getInfo()[\"crs\"]\n",
    "        self.crsTrasform = self.projection.getInfo()[\"transform\"]\n",
    "        self.collection_name = collection_name\n",
    "    \n",
    "    def downloadTimeserie(\n",
    "        self,\n",
    "        bbox: list, # [[xmin,ymin],[xmax,ymax]]\n",
    "        fn_prefix: str, # i.e. projectId\n",
    "        drive_folder: str,\n",
    "        gt_date: datetime,\n",
    "        date_offset_amount: int,\n",
    "        date_offset_unit: str=\"day\",\n",
    "        date_offset_policy: str=\"both\",\n",
    "        bands: list=['B1','B2','B3','B4','B5','B6','B7','B8','B8A', 'B9', 'B11','B12','MSK_CLDPRB'],\n",
    "        datatype: str=\"uint16\"\n",
    "    ):\n",
    "        assert date_offset_policy in [\"before\", \"after\", \"both\"], f'Invalid date_offset_policy: {date_offset_policy}. Value must be in {[\"before\", \"after\", \"both\"]}.'\n",
    "        # Configure\n",
    "        geometry = ee.Geometry.Rectangle(bbox, proj=self.projection)\n",
    "        if date_offset_policy == \"before\": start_offset, end_offset = -date_offset_amount, 0\n",
    "        elif date_offset_policy == \"after\": start_offset, end_offset = 0, date_offset_amount\n",
    "        else: start_offset, end_offset = -date_offset_amount, date_offset_amount\n",
    "        dates = (\n",
    "            ee.Date(gt_date).advance(start_offset, date_offset_unit), \n",
    "            ee.Date(gt_date).advance(end_offset, date_offset_unit)\n",
    "        )\n",
    "        # ImageCollection\n",
    "        icol = (ee.ImageCollection(self.collection_name)\n",
    "           .filterBounds(geometry)\n",
    "           .filterDate(*dates)\n",
    "           .select(s2_bands))\n",
    "        # Create download tasks\n",
    "        fn_prefix = fn_prefix+\"-GEE-\"+self.collection_name.replace(\"/\", \"_\")+\"-\"\n",
    "        tasks, filenames = exportImageCollectionToDrive(\n",
    "            collection=icol,\n",
    "            region=geometry,\n",
    "            folder=drive_folder,\n",
    "            scale=10,\n",
    "            fn_prefix=fn_prefix,\n",
    "            datatype=datatype,\n",
    "            crs=projection.getInfo()[\"crs\"],\n",
    "            verbose=True\n",
    "        )\n",
    "        return tasks, filenames\n",
    "    \n",
    "def download_gee_tasks(drive, tasks, filenames, drive_folder, local_folder):\n",
    "    folderId = drive.getFolderId(drive_folder)\n",
    "    while len(tasks)>0:\n",
    "        for filename, task in zip(filenames, tasks):\n",
    "            if task.state == \"COMPLETED\":\n",
    "                try:\n",
    "                    print(f\"Downloading {drive_folder}/{filename}\")\n",
    "                    fileId = drive.getFileId(folename, folderId)\n",
    "                    drive.downloadFile(fileId=fileId, localdir=local_folder)\n",
    "                    try:\n",
    "                        drive.deleteFile(fileId)\n",
    "                        tasks.remove(task)\n",
    "                        filenames.remove(filename)\n",
    "                    except:\n",
    "                        print(f\"Could not delete file: fileId={fileId}, filename={filename}\")\n",
    "                        print(e)\n",
    "                except:\n",
    "                    print(f\"Could not download task: taskId={task.id}, filename={filename}\")\n",
    "                    print(e)                            \n",
    "            elif task.state == \"FAILED\": \n",
    "                tasks.remove(task)\n",
    "                filenames.remove(task)\n",
    "                print(f\"Task(taskId={task.id}, fileName={filename}) has failed.\")\n",
    "            elif task.state == \"CANCELLED\": \n",
    "                tasks.remove(task)\n",
    "                filenames.remove(task)\n",
    "                print(f\"Task(taskId={task.id}, fileName={filename}) was cancelled.\")\n",
    "            else:\n",
    "                print(f\"Unkown task state: {task.state}\")"
   ]
  },
  {
   "cell_type": "code",
   "execution_count": 138,
   "id": "295d727b",
   "metadata": {},
   "outputs": [
    {
     "ename": "UnboundLocalError",
     "evalue": "local variable 'creds' referenced before assignment",
     "output_type": "error",
     "traceback": [
      "\u001b[0;31m---------------------------------------------------------------------------\u001b[0m",
      "\u001b[0;31mUnboundLocalError\u001b[0m                         Traceback (most recent call last)",
      "\u001b[0;32m/tmp/ipykernel_1108747/141858902.py\u001b[0m in \u001b[0;36m<module>\u001b[0;34m\u001b[0m\n\u001b[1;32m      1\u001b[0m \u001b[0;32mfrom\u001b[0m \u001b[0mgdrive_handler\u001b[0m \u001b[0;32mimport\u001b[0m \u001b[0mGDriveV3Wrapper\u001b[0m\u001b[0;34m\u001b[0m\u001b[0;34m\u001b[0m\u001b[0m\n\u001b[0;32m----> 2\u001b[0;31m \u001b[0mdrive\u001b[0m \u001b[0;34m=\u001b[0m \u001b[0mGDriveV3Wrapper\u001b[0m\u001b[0;34m(\u001b[0m\u001b[0;34m)\u001b[0m\u001b[0;34m\u001b[0m\u001b[0;34m\u001b[0m\u001b[0m\n\u001b[0m",
      "\u001b[0;32m/scratch/ewalt/pdm/rs-uncertainty/gee/gdrive_handler.py\u001b[0m in \u001b[0;36m__init__\u001b[0;34m(self, token_file, credentials_file, scopes, verbose)\u001b[0m\n\u001b[1;32m     27\u001b[0m         \u001b[0mself\u001b[0m\u001b[0;34m.\u001b[0m\u001b[0mverbose\u001b[0m \u001b[0;34m=\u001b[0m \u001b[0mverbose\u001b[0m\u001b[0;34m\u001b[0m\u001b[0;34m\u001b[0m\u001b[0m\n\u001b[1;32m     28\u001b[0m         \u001b[0;31m# connect\u001b[0m\u001b[0;34m\u001b[0m\u001b[0;34m\u001b[0m\u001b[0;34m\u001b[0m\u001b[0m\n\u001b[0;32m---> 29\u001b[0;31m         \u001b[0mself\u001b[0m\u001b[0;34m.\u001b[0m\u001b[0mservice\u001b[0m \u001b[0;34m=\u001b[0m \u001b[0mself\u001b[0m\u001b[0;34m.\u001b[0m\u001b[0mgetService\u001b[0m\u001b[0;34m(\u001b[0m\u001b[0;34m)\u001b[0m\u001b[0;34m\u001b[0m\u001b[0;34m\u001b[0m\u001b[0m\n\u001b[0m\u001b[1;32m     30\u001b[0m         \u001b[0mself\u001b[0m\u001b[0;34m.\u001b[0m\u001b[0mfolderIdsMap\u001b[0m \u001b[0;34m=\u001b[0m \u001b[0;34m{\u001b[0m\u001b[0;34m}\u001b[0m\u001b[0;34m\u001b[0m\u001b[0;34m\u001b[0m\u001b[0m\n\u001b[1;32m     31\u001b[0m \u001b[0;34m\u001b[0m\u001b[0m\n",
      "\u001b[0;32m/scratch/ewalt/pdm/rs-uncertainty/gee/gdrive_handler.py\u001b[0m in \u001b[0;36mgetService\u001b[0;34m(self)\u001b[0m\n\u001b[1;32m     42\u001b[0m             \u001b[0;32mif\u001b[0m \u001b[0mcreds\u001b[0m\u001b[0;34m.\u001b[0m\u001b[0mvalid\u001b[0m\u001b[0;34m:\u001b[0m \u001b[0mself\u001b[0m\u001b[0;34m.\u001b[0m\u001b[0mverbose_print\u001b[0m\u001b[0;34m(\u001b[0m\u001b[0;34m\"Token authorized.\"\u001b[0m\u001b[0;34m)\u001b[0m\u001b[0;34m\u001b[0m\u001b[0;34m\u001b[0m\u001b[0m\n\u001b[1;32m     43\u001b[0m             \u001b[0;32melse\u001b[0m\u001b[0;34m:\u001b[0m \u001b[0mself\u001b[0m\u001b[0;34m.\u001b[0m\u001b[0mverbose_print\u001b[0m\u001b[0;34m(\u001b[0m\u001b[0;34m\"Token could not be authorized.\"\u001b[0m\u001b[0;34m)\u001b[0m\u001b[0;34m\u001b[0m\u001b[0;34m\u001b[0m\u001b[0m\n\u001b[0;32m---> 44\u001b[0;31m         \u001b[0;31m# Get token through login\u001b[0m\u001b[0;34m\u001b[0m\u001b[0;34m\u001b[0m\u001b[0;34m\u001b[0m\u001b[0m\n\u001b[0m\u001b[1;32m     45\u001b[0m         \u001b[0;32mif\u001b[0m \u001b[0;32mnot\u001b[0m \u001b[0mcreds\u001b[0m \u001b[0;32mor\u001b[0m \u001b[0;32mnot\u001b[0m \u001b[0mcreds\u001b[0m\u001b[0;34m.\u001b[0m\u001b[0mvalid\u001b[0m\u001b[0;34m:\u001b[0m\u001b[0;34m\u001b[0m\u001b[0;34m\u001b[0m\u001b[0m\n\u001b[1;32m     46\u001b[0m             \u001b[0mself\u001b[0m\u001b[0;34m.\u001b[0m\u001b[0mverbose_print\u001b[0m\u001b[0;34m(\u001b[0m\u001b[0;34mf\"Authenticating...\"\u001b[0m\u001b[0;34m)\u001b[0m\u001b[0;34m\u001b[0m\u001b[0;34m\u001b[0m\u001b[0m\n",
      "\u001b[0;31mUnboundLocalError\u001b[0m: local variable 'creds' referenced before assignment"
     ]
    }
   ],
   "source": [
    "from gdrive_handler import GDriveV3Wrapper\n",
    "drive = GDriveV3Wrapper()"
   ]
  },
  {
   "cell_type": "code",
   "execution_count": 139,
   "id": "1aa5e723",
   "metadata": {},
   "outputs": [
    {
     "data": {
      "text/plain": [
       "PosixPath('whatever/the/path/is/this/5454593453245-ggdfsd_reprojected.tif')"
      ]
     },
     "execution_count": 139,
     "metadata": {},
     "output_type": "execute_result"
    }
   ],
   "source": [
    "from pathlib import Path\n",
    "input_path = Path(\"whatever/the/path/is/this/5454593453245-ggdfsd.tif\")\n",
    "Path(str(input_path).replace(input_path.stem, input_path.stem+\"_reprojected\"))"
   ]
  },
  {
   "cell_type": "code",
   "execution_count": null,
   "id": "7d272304",
   "metadata": {},
   "outputs": [],
   "source": [
    "with gdal.Open(self.label) as label_file:\n",
    "    proj_ = label_file.GetProjectionRef()\n",
    "    warp_opts = gdal.WarpOptions(\n",
    "        format=\"GTiff\",\n",
    "        dstSRS=proj_,\n",
    "        xRes=10.0, yRes=-10.0)\n",
    "    x_ds = gdal.Warp(output_path, input_path, options=warp_opts)\n",
    "    x_ds = None "
   ]
  }
 ],
 "metadata": {
  "kernelspec": {
   "display_name": "Python (bfs-3.7)",
   "language": "python",
   "name": "bfs-3.7"
  },
  "language_info": {
   "codemirror_mode": {
    "name": "ipython",
    "version": 3
   },
   "file_extension": ".py",
   "mimetype": "text/x-python",
   "name": "python",
   "nbconvert_exporter": "python",
   "pygments_lexer": "ipython3",
   "version": "3.7.4"
  }
 },
 "nbformat": 4,
 "nbformat_minor": 5
}
