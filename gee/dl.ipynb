{
 "cells": [
  {
   "cell_type": "code",
   "execution_count": 1,
   "id": "4eb74493",
   "metadata": {},
   "outputs": [],
   "source": [
    "%load_ext autoreload\n",
    "%autoreload 2"
   ]
  },
  {
   "cell_type": "code",
   "execution_count": 140,
   "id": "64e3ab3a",
   "metadata": {},
   "outputs": [],
   "source": [
    "import ee, os\n",
    "from pathlib import Path\n",
    "from datetime import datetime\n",
    "from tqdm import tqdm\n",
    "import time\n",
    "import rasterio\n",
    "import rasterio.warp\n",
    "from utils import get_project_data"
   ]
  },
  {
   "cell_type": "code",
   "execution_count": 4,
   "id": "0e165bca",
   "metadata": {},
   "outputs": [],
   "source": [
    "# Project data\n",
    "gt_file, gt, gt_date, gt_crs, polygon, bounds = get_project_data(\n",
    "    \"498\",\n",
    "    gt_dir=\"../assets/data/preprocessed\",\n",
    "    gt_data_bands=list(range(1,6)),\n",
    "    shapefile_paths=['../assets/data/NHM_projectDekning_AOI_edit2015_V2.shp', \n",
    "                    '../assets/data/ALS_projects_Dz_all_norway.shp']\n",
    ")"
   ]
  },
  {
   "cell_type": "code",
   "execution_count": 7,
   "id": "81b6b465",
   "metadata": {},
   "outputs": [
    {
     "data": {
      "text/plain": [
       "[(9.703842793092072, 60.7253957927164),\n",
       " (10.258106843349504, 60.933251765941094)]"
      ]
     },
     "execution_count": 7,
     "metadata": {},
     "output_type": "execute_result"
    }
   ],
   "source": [
    "bounds[0][0]"
   ]
  },
  {
   "cell_type": "code",
   "execution_count": 5,
   "id": "170c8dbb",
   "metadata": {},
   "outputs": [],
   "source": [
    "import ee\n",
    "ee.Initialize(project=\"ee-walteliot\")"
   ]
  },
  {
   "cell_type": "code",
   "execution_count": 131,
   "id": "def067cc",
   "metadata": {
    "scrolled": true
   },
   "outputs": [
    {
     "name": "stdout",
     "output_type": "stream",
     "text": [
      "Exporting icol with 2 images.\n",
      "Submitted new task: taskId=NMSE6VT7MIYRSLMVVI7MKFFT, name=498-geetoolsWithFn-20170526T105031-20231605T135247, description=20170702T104021_20170702T104252_T32VNN\n",
      "Submitted new task: taskId=FJEIFC6GWFAQT47FXC4P3U5N, name=498-geetoolsWithFn-20170526T105031-20231605T135250, description=20170705T105031_20170705T105026_T32VNN\n",
      "Reached end of image list at index: 2\n",
      "<Task NAANTYZR6L36FP5QKWY6T6QA EXPORT_IMAGE: 498-test-list-13-reprojected-clipped-20170526T105031 (UNSUBMITTED)> -> 498-geetoolsWithFn-20170526T105031-20231605T135247\n",
      "<Task NAANTYZR6L36FP5QKWY6T6QA EXPORT_IMAGE: 498-test-list-13-reprojected-clipped-20170526T105031 (UNSUBMITTED)> -> 498-geetoolsWithFn-20170526T105031-20231605T135250\n"
     ]
    }
   ],
   "source": [
    "import geetools\n",
    "import ee\n",
    "from uuid import uuid4\n",
    "from geetools.utils import makeName\n",
    "from geetools import tools\n",
    "from geetools.batch import utils\n",
    "from hashlib import sha256\n",
    "\n",
    "def exportImageCollectionToDrive(\n",
    "    collection, \n",
    "    fn_prefix, \n",
    "    folder, \n",
    "    scale, \n",
    "    datatype, \n",
    "    region, \n",
    "    crs, \n",
    "    verbose=False, \n",
    "    **kwargs\n",
    "):\n",
    "    \"\"\"\n",
    "    Slight modification of geetools.batch.Export.imagecollection.toDrive to use a filename prefix \n",
    "    to define the name property when exporting images\n",
    "    \"\"\"\n",
    "    # compat\n",
    "    namePattern='{id}'\n",
    "    datePattern=None\n",
    "    extra=None\n",
    "    dataType=datatype\n",
    "    # empty tasks list\n",
    "    tasklist, filenames = [], []\n",
    "    # get region\n",
    "    if region:\n",
    "        region = tools.geometry.getRegion(region)\n",
    "    # Make a list of images\n",
    "    img_list = collection.toList(collection.size())\n",
    "    n = 0\n",
    "    while True:\n",
    "        try:\n",
    "            img = ee.Image(img_list.get(n))\n",
    "            name = fn_prefix+\"{}-{}\".format(\n",
    "                image.id().getInfo().split(\"_\")[0], \n",
    "                datetime.now().strftime(\"%Y%d%mT%H%M%S\"))\n",
    "            description = utils.matchDescription(makeName(img, namePattern, datePattern, extra).getInfo())\n",
    "            # convert data type\n",
    "            img = utils.convertDataType(dataType)(img)\n",
    "            if region is None:\n",
    "                region = tools.geometry.getRegion(img)\n",
    "            task = ee.batch.Export.image.toDrive(image=img,\n",
    "                                                 description=description,\n",
    "                                                 folder=folder,\n",
    "                                                 fileNamePrefix=name,\n",
    "                                                 region=region,\n",
    "                                                 scale=scale,\n",
    "                                                 crs=crs)\n",
    "            task.start()\n",
    "            if verbose: print(f\"Submitted new task: taskId={task.id}, name={name}, description={description}\")\n",
    "            tasklist.append(task)\n",
    "            filenames.append(name)\n",
    "            n += 1\n",
    "        except Exception as e:\n",
    "            error = str(e).split(':')\n",
    "            if error[0] == 'List.get': \n",
    "                if verbose: print(f\"Reached end of image list at index: {n}\")\n",
    "                break\n",
    "            else: raise e\n",
    "    return tasklist, filenames\n",
    "\n",
    "projection = ee.Projection('EPSG:4326')\n",
    "geometry = ee.Geometry.Rectangle(bounds[0][0], proj=projection)\n",
    "dates = (ee.Date('2017-07-01'), ee.Date('2017-07-11'))\n",
    "s2_bands = ['B1','B2','B3','B4','B5','B6','B7','B8','B8A', 'B9', 'B11','B12','MSK_CLDPRB']\n",
    "icol = (ee.ImageCollection(\"COPERNICUS/S2_SR_HARMONIZED\")\n",
    "       .filterBounds(geometry)\n",
    "       .filterDate(*dates)\n",
    "       .select(s2_bands))\n",
    "print(\"Exporting icol with\", icol.size().getInfo(), \"images.\")\n",
    "# Geetools export\n",
    "tasks, filenames = exportImageCollectionToDrive(\n",
    "    collection=icol,\n",
    "    region=geometry,\n",
    "    folder=\"geeExports\",\n",
    "    scale=10,\n",
    "    fn_prefix=\"498-geetoolsWithFn-\",\n",
    "    datatype=\"uint16\",\n",
    "    crs=projection.getInfo()[\"crs\"],\n",
    "    verbose=True\n",
    ")\n",
    "for t, f in zip(tasks, filenames):\n",
    "    print(task, \"->\", f)"
   ]
  },
  {
   "cell_type": "code",
   "execution_count": 133,
   "id": "c6c33e4d",
   "metadata": {},
   "outputs": [
    {
     "data": {
      "text/plain": [
       "'NMSE6VT7MIYRSLMVVI7MKFFT'"
      ]
     },
     "execution_count": 133,
     "metadata": {},
     "output_type": "execute_result"
    }
   ],
   "source": [
    "tasks[0].id"
   ]
  },
  {
   "cell_type": "code",
   "execution_count": 134,
   "id": "561dd155",
   "metadata": {},
   "outputs": [],
   "source": [
    "import ee\n",
    "from datetime import datetime\n",
    "\n",
    "def cast_image(image, datatype):\n",
    "    try:\n",
    "        return {\n",
    "            \"float\":image.toFloat(), \n",
    "            \"byte\":image.toByte(), \n",
    "            \"int\":image.toInt(),\n",
    "            \"double\":image.toDouble(),\n",
    "            \"long\": image.toLong(),\n",
    "            \"short\": image.toShort(),\n",
    "            \"int8\": image.toInt8(),\n",
    "            \"int16\": image.toInt16(),\n",
    "            \"int32\": image.toInt32(),\n",
    "            \"int64\": image.toInt64(),\n",
    "            \"uint8\": image.toUint8(),\n",
    "            \"uint16\": image.toUint16(),\n",
    "            \"uint32\": image.toUint32()\n",
    "        }[datatype]\n",
    "    except KeyError as e:\n",
    "        raise KeyError(f\"Invalid datatype\")\n",
    "\n",
    "class GEEDownloader:\n",
    "    def __init__(\n",
    "        self,\n",
    "        gee_project: str,\n",
    "        crs: str=\"EPSG:4326\",\n",
    "        collection_name: str=\"COPERNICUS/S2_SR_HARMONIZED\"\n",
    "    ):\n",
    "        ee.Initialize(project=gee_project)\n",
    "        self.projection = ee.Projection(crs)\n",
    "        self.crs = self.projection.getInfo()[\"crs\"]\n",
    "        self.crsTrasform = self.projection.getInfo()[\"transform\"]\n",
    "        self.collection_name = collection_name\n",
    "    \n",
    "    def downloadTimeserie(\n",
    "        self,\n",
    "        bbox: list, # [[xmin,ymin],[xmax,ymax]]\n",
    "        fn_prefix: str, # i.e. projectId\n",
    "        drive_folder: str,\n",
    "        gt_date: datetime,\n",
    "        date_offset_amount: int,\n",
    "        date_offset_unit: str=\"day\",\n",
    "        date_offset_policy: str=\"both\",\n",
    "        bands: list=['B1','B2','B3','B4','B5','B6','B7','B8','B8A', 'B9', 'B11','B12','MSK_CLDPRB'],\n",
    "        datatype: str=\"uint16\"\n",
    "    ):\n",
    "        assert date_offset_policy in [\"before\", \"after\", \"both\"], f'Invalid date_offset_policy: {date_offset_policy}. Value must be in {[\"before\", \"after\", \"both\"]}.'\n",
    "        # Configure\n",
    "        geometry = ee.Geometry.Rectangle(bbox, proj=self.projection)\n",
    "        if date_offset_policy == \"before\": start_offset, end_offset = -date_offset_amount, 0\n",
    "        elif date_offset_policy == \"after\": start_offset, end_offset = 0, date_offset_amount\n",
    "        else: start_offset, end_offset = -date_offset_amount, date_offset_amount\n",
    "        dates = (\n",
    "            ee.Date(gt_date).advance(start_offset, date_offset_unit), \n",
    "            ee.Date(gt_date).advance(end_offset, date_offset_unit)\n",
    "        )\n",
    "        # ImageCollection\n",
    "        icol = (ee.ImageCollection(self.collection_name)\n",
    "           .filterBounds(geometry)\n",
    "           .filterDate(*dates)\n",
    "           .select(s2_bands))\n",
    "        # Create download tasks\n",
    "        fn_prefix = fn_prefix+\"-GEE-\"+self.collection_name.replace(\"/\", \"_\")+\"-\"\n",
    "        tasks, filenames = exportImageCollectionToDrive(\n",
    "            collection=icol,\n",
    "            region=geometry,\n",
    "            folder=drive_folder,\n",
    "            scale=10,\n",
    "            fn_prefix=fn_prefix,\n",
    "            datatype=datatype,\n",
    "            crs=projection.getInfo()[\"crs\"],\n",
    "            verbose=True\n",
    "        )\n",
    "        return tasks, filenames\n",
    "    \n",
    "def download_gee_tasks(drive, tasks, filenames, drive_folder, local_folder):\n",
    "    folderId = drive.getFolderId(drive_folder)\n",
    "    while len(tasks)>0:\n",
    "        for filename, task in zip(filenames, tasks):\n",
    "            if task.state == \"COMPLETED\":\n",
    "                try:\n",
    "                    print(f\"Downloading {drive_folder}/{filename}\")\n",
    "                    fileId = drive.getFileId(folename, folderId)\n",
    "                    drive.downloadFile(fileId=fileId, localdir=local_folder)\n",
    "                    try:\n",
    "                        drive.deleteFile(fileId)\n",
    "                        tasks.remove(task)\n",
    "                        filenames.remove(filename)\n",
    "                    except:\n",
    "                        print(f\"Could not delete file: fileId={fileId}, filename={filename}\")\n",
    "                        print(e)\n",
    "                except:\n",
    "                    print(f\"Could not download task: taskId={task.id}, filename={filename}\")\n",
    "                    print(e)                            \n",
    "            elif task.state == \"FAILED\": \n",
    "                tasks.remove(task)\n",
    "                filenames.remove(task)\n",
    "                print(f\"Task(taskId={task.id}, fileName={filename}) has failed.\")\n",
    "            elif task.state == \"CANCELLED\": \n",
    "                tasks.remove(task)\n",
    "                filenames.remove(task)\n",
    "                print(f\"Task(taskId={task.id}, fileName={filename}) was cancelled.\")\n",
    "            else:\n",
    "                print(f\"Unkown task state: {task.state}\")"
   ]
  },
  {
   "cell_type": "markdown",
   "id": "7f56e8f3",
   "metadata": {},
   "source": [
    "# Reprojection"
   ]
  },
  {
   "cell_type": "code",
   "execution_count": 1,
   "id": "c8a1aa54",
   "metadata": {},
   "outputs": [],
   "source": [
    "import gdal\n",
    "import os\n",
    "from utils import get_project_data\n",
    "from pathlib import Path"
   ]
  },
  {
   "cell_type": "code",
   "execution_count": 2,
   "id": "ccc537a4",
   "metadata": {
    "scrolled": true
   },
   "outputs": [],
   "source": [
    "# GT data\n",
    "gt_path, gt_file, _, gt_date, gt_crs, _, bbox = get_project_data(\n",
    "    \"498\",\n",
    "    gt_dir=\"../assets/data/preprocessed\",\n",
    "    gt_data_bands=list(range(1,6)),\n",
    "    shapefile_paths=['../assets/data/NHM_projectDekning_AOI_edit2015_V2.shp', \n",
    "                    '../assets/data/ALS_projects_Dz_all_norway.shp']\n",
    ")\n",
    "\n",
    "# Reference files\n",
    "ref_paths = [p.path for p in os.scandir(\"../assets/data/sentinel_data/s2_reprojected/764\") \n",
    "             if p.path.endswith(\".tif\")]\n",
    "# GEE paths\n",
    "gee_paths = [p.path for p in os.scandir(\"../gee_data_dev/764\") if p.path.endswith(\".tif\")]"
   ]
  },
  {
   "cell_type": "code",
   "execution_count": 3,
   "id": "03ae246b",
   "metadata": {},
   "outputs": [
    {
     "data": {
      "text/plain": [
       "'../assets/data/preprocessed/498.tif'"
      ]
     },
     "execution_count": 3,
     "metadata": {},
     "output_type": "execute_result"
    }
   ],
   "source": [
    "gt_file.name"
   ]
  },
  {
   "cell_type": "code",
   "execution_count": 8,
   "id": "f0bb6fbb",
   "metadata": {},
   "outputs": [],
   "source": [
    "def warp(input_path, ref_path):\n",
    "    # Set vars\n",
    "    os.environ['PROJ_LIB'] = '/scratch/ewalt/miniconda3/envs/bfs-3.7/share/proj'\n",
    "    os.environ['GDAL_DATA'] = '/scratch/ewalt/miniconda3/envs/bfs-3.7/share/'\n",
    "    # Paths\n",
    "    input_path = str(input_path)\n",
    "    output_path = str(input_path).replace(Path(input_path).stem, Path(input_path).stem+\"_reprojected\")\n",
    "    ref_path = str(ref_path)\n",
    "    print(f\"Warping {input_path} to {output_path} according to {ref_path}\")\n",
    "    # Load reference dataset\n",
    "    ref_ds = gdal.Open(ref_path)\n",
    "    # warp options\n",
    "    warp_options = gdal.WarpOptions(\n",
    "        format=\"GTiff\",\n",
    "        dstSRS=ref_ds.GetProjectionRef(),\n",
    "        xRes=10.0, yRes=-10.0\n",
    "    )\n",
    "    # reproject\n",
    "    out_ds = gdal.Warp(output_path, input_path, options=warp_options)\n",
    "    # Unset vars\n",
    "    os.environ['PROJ_LIB'] = \"\"\n",
    "    os.environ['GDAL_DATA'] = \"\"\n",
    "    return ref_ds, out_ds"
   ]
  },
  {
   "cell_type": "code",
   "execution_count": 9,
   "id": "b7704ee2",
   "metadata": {},
   "outputs": [],
   "source": [
    "def compute_intersection(ds1, ds2):\n",
    "    assert ds1.GetProjectionRef() == ds2.GetProjectionRef()\n",
    "    origin_x1, a1, b1, origin_y1, d1, e1 = ds1.GetGeoTransform()\n",
    "    origin_x2, a2, b2, origin_y2, d2, e2 = ds2.GetGeoTransform()\n",
    "    r1 = [\n",
    "        origin_x1, origin_y1 ,origin_x1 + (a1* ds1.RasterXSize), \n",
    "        origin_y1 + (e1 * ds1.RasterYSize)\n",
    "    ]    \n",
    "    r2 = [\n",
    "        origin_x2, origin_y2 ,origin_x2 + (a2* ds2.RasterXSize), \n",
    "        origin_y2 + (e2 * ds2.RasterYSize)\n",
    "    ]\n",
    "    assert (a1 == a2 and e1 == e2)  \n",
    "    xmin = max(r1[0], r2[0])\n",
    "    ymax = min(r1[1], r2[1])\n",
    "    xmax = min(r1[2], r2[2])\n",
    "    ymin = max(r1[3], r2[3])\n",
    "    return (xmin,ymin,xmax,ymax)\n",
    "\n",
    "def geo_coords_tooffset(ds, lims):\n",
    "    xmin,ymin,xmax,ymax = lims  \n",
    "    origin_x, pixel_w, b, origin_y, d, pixel_h = ds.GetGeoTransform()\n",
    "    xoff = int((xmin - origin_x)/pixel_w)\n",
    "    yoff = int((origin_y - ymax)/pixel_w)\n",
    "    xsize = int((xmax - xmin)/pixel_w)\n",
    "    ysize = int((ymax - ymin)/pixel_w)  \n",
    "    return (xoff, yoff,xsize,ysize)"
   ]
  },
  {
   "cell_type": "code",
   "execution_count": 10,
   "id": "1c27c08d",
   "metadata": {},
   "outputs": [
    {
     "name": "stdout",
     "output_type": "stream",
     "text": [
      "Warping ../gee_data_dev/764/764-GEE_COPERNICUS_S2_SR_HARMONIZED-20170406T105021-20231605T191639.tif to ../gee_data_dev/764/764-GEE_COPERNICUS_S2_SR_HARMONIZED-20170406T105021-20231605T191639_reprojected.tif according to ../assets/data/sentinel_data/s2_reprojected/764/764_S2A_MSIL2A_20170523T104031_N9999_R008_T32VNM_20201207T090240.tif\n"
     ]
    }
   ],
   "source": [
    "ref_ds, out_ds = warp(gee_paths[1], ref_paths[0])"
   ]
  },
  {
   "cell_type": "code",
   "execution_count": 11,
   "id": "b266b292",
   "metadata": {},
   "outputs": [
    {
     "name": "stdout",
     "output_type": "stream",
     "text": [
      "ref size: (1743, 3845), out size: (1884, 3846)\n"
     ]
    }
   ],
   "source": [
    "print(f\"ref size: {ref_ds.RasterXSize, ref_ds.RasterYSize}, out size: {out_ds.RasterXSize, out_ds.RasterYSize}\")"
   ]
  },
  {
   "cell_type": "code",
   "execution_count": 27,
   "id": "5fd14c01",
   "metadata": {},
   "outputs": [
    {
     "data": {
      "text/plain": [
       "(558766.7500601338, 6732407.033205436, 568185.6051443298, 6649259.037182807)"
      ]
     },
     "execution_count": 27,
     "metadata": {},
     "output_type": "execute_result"
    }
   ],
   "source": [
    "compute_intersection(ref_ds, out_ds)"
   ]
  },
  {
   "cell_type": "code",
   "execution_count": 15,
   "id": "660dfa2e",
   "metadata": {},
   "outputs": [
    {
     "data": {
      "text/plain": [
       "'../gee_data/764_reprojected'"
      ]
     },
     "execution_count": 15,
     "metadata": {},
     "output_type": "execute_result"
    }
   ],
   "source": [
    "out_dir = os.path.dirname(gee_paths[0])+\"_reprojected\""
   ]
  },
  {
   "cell_type": "code",
   "execution_count": 16,
   "id": "96488095",
   "metadata": {},
   "outputs": [
    {
     "ename": "NameError",
     "evalue": "name 'gt_file' is not defined",
     "output_type": "error",
     "traceback": [
      "\u001b[0;31m---------------------------------------------------------------------------\u001b[0m",
      "\u001b[0;31mNameError\u001b[0m                                 Traceback (most recent call last)",
      "\u001b[0;32m/tmp/ipykernel_1357258/2959435449.py\u001b[0m in \u001b[0;36m<module>\u001b[0;34m\u001b[0m\n\u001b[0;32m----> 1\u001b[0;31m \u001b[0mgt_file\u001b[0m\u001b[0;34m\u001b[0m\u001b[0;34m\u001b[0m\u001b[0m\n\u001b[0m",
      "\u001b[0;31mNameError\u001b[0m: name 'gt_file' is not defined"
     ]
    }
   ],
   "source": [
    "gt_file"
   ]
  },
  {
   "cell_type": "code",
   "execution_count": 23,
   "id": "187909f3",
   "metadata": {},
   "outputs": [
    {
     "name": "stdout",
     "output_type": "stream",
     "text": [
      "/scratch/ewalt/miniconda3/bin/python\r\n"
     ]
    }
   ],
   "source": [
    "!which python"
   ]
  },
  {
   "cell_type": "code",
   "execution_count": 47,
   "id": "384911cd",
   "metadata": {},
   "outputs": [
    {
     "data": {
      "text/plain": [
       "('../assets/data/sentinel_data/s2_reprojected/764/764_S2A_MSIL2A_20170523T104031_N9999_R008_T32VNM_20201207T090240.tif',\n",
       " '../gee_data/764/764-GEE_COPERNICUS_S2_SR_HARMONIZED-20170403T104021-20231605T191636.tif')"
      ]
     },
     "execution_count": 47,
     "metadata": {},
     "output_type": "execute_result"
    }
   ],
   "source": [
    "ref_paths[0], gee_paths[0]"
   ]
  },
  {
   "cell_type": "code",
   "execution_count": 48,
   "id": "48b22030",
   "metadata": {},
   "outputs": [
    {
     "data": {
      "text/plain": [
       "True"
      ]
     },
     "execution_count": 48,
     "metadata": {},
     "output_type": "execute_result"
    }
   ],
   "source": [
    "os.path.exists(\"../gee_data/764/764-GEE_COPERNICUS_S2_SR_HARMONIZED-20170403T104021-20231605T191636_reprojected.tif\")"
   ]
  },
  {
   "cell_type": "code",
   "execution_count": 43,
   "id": "bc3027b7",
   "metadata": {},
   "outputs": [
    {
     "data": {
      "text/plain": [
       "(1884, 3846)"
      ]
     },
     "execution_count": 43,
     "metadata": {},
     "output_type": "execute_result"
    }
   ],
   "source": [
    "out_ds.RasterXSize, out_ds.RasterYSize"
   ]
  },
  {
   "cell_type": "code",
   "execution_count": 19,
   "id": "eb5b542d",
   "metadata": {},
   "outputs": [
    {
     "name": "stderr",
     "output_type": "stream",
     "text": [
      "ERROR 1: PROJ: pj_obj_create: Open of /scratch/ewalt/miniconda3/envs/bfs-3.7/share/proj failed\n",
      "ERROR 1: PROJ: createGeodeticReferenceFrame: Open of /scratch/ewalt/miniconda3/envs/bfs-3.7/share/proj failed\n",
      "ERROR 1: PROJ: proj_as_wkt: Open of /scratch/ewalt/miniconda3/envs/bfs-3.7/share/proj failed\n",
      "ERROR 1: PROJ: proj_create_from_wkt: Open of /scratch/ewalt/miniconda3/envs/bfs-3.7/share/proj failed\n",
      "ERROR 1: PROJ: proj_as_wkt: Open of /scratch/ewalt/miniconda3/envs/bfs-3.7/share/proj failed\n",
      "ERROR 1: PROJ: proj_create_from_wkt: Open of /scratch/ewalt/miniconda3/envs/bfs-3.7/share/proj failed\n",
      "ERROR 1: PROJ: createGeodeticReferenceFrame: Open of /scratch/ewalt/miniconda3/envs/bfs-3.7/share/proj failed\n",
      "ERROR 1: PROJ: pj_obj_create: Open of /scratch/ewalt/miniconda3/envs/bfs-3.7/share/proj failed\n",
      "ERROR 1: PROJ: proj_as_wkt: Open of /scratch/ewalt/miniconda3/envs/bfs-3.7/share/proj failed\n",
      "ERROR 1: PROJ: proj_as_wkt: Open of /scratch/ewalt/miniconda3/envs/bfs-3.7/share/proj failed\n",
      "ERROR 1: PROJ: proj_create_from_wkt: Open of /scratch/ewalt/miniconda3/envs/bfs-3.7/share/proj failed\n",
      "ERROR 1: PROJ: proj_as_wkt: Open of /scratch/ewalt/miniconda3/envs/bfs-3.7/share/proj failed\n",
      "ERROR 1: PROJ: proj_create_from_wkt: Open of /scratch/ewalt/miniconda3/envs/bfs-3.7/share/proj failed\n"
     ]
    },
    {
     "ename": "SystemError",
     "evalue": "<built-in function wrapper_GDALWarpDestName> returned NULL without setting an error",
     "output_type": "error",
     "traceback": [
      "\u001b[0;31m---------------------------------------------------------------------------\u001b[0m",
      "\u001b[0;31mSystemError\u001b[0m                               Traceback (most recent call last)",
      "\u001b[0;32m/tmp/ipykernel_1352076/151239248.py\u001b[0m in \u001b[0;36m<module>\u001b[0;34m\u001b[0m\n\u001b[1;32m     12\u001b[0m )\n\u001b[1;32m     13\u001b[0m \u001b[0;31m# reproject dataset\u001b[0m\u001b[0;34m\u001b[0m\u001b[0;34m\u001b[0m\u001b[0;34m\u001b[0m\u001b[0m\n\u001b[0;32m---> 14\u001b[0;31m \u001b[0mreprojected_dataset\u001b[0m \u001b[0;34m=\u001b[0m \u001b[0mgdal\u001b[0m\u001b[0;34m.\u001b[0m\u001b[0mWarp\u001b[0m\u001b[0;34m(\u001b[0m\u001b[0moutput_path\u001b[0m\u001b[0;34m,\u001b[0m \u001b[0minput_path\u001b[0m\u001b[0;34m,\u001b[0m \u001b[0moptions\u001b[0m\u001b[0;34m=\u001b[0m\u001b[0mwarp_options\u001b[0m\u001b[0;34m)\u001b[0m\u001b[0;34m\u001b[0m\u001b[0;34m\u001b[0m\u001b[0m\n\u001b[0m\u001b[1;32m     15\u001b[0m \u001b[0mgt_proj\u001b[0m\u001b[0;34m\u001b[0m\u001b[0;34m\u001b[0m\u001b[0m\n",
      "\u001b[0;32m/scratch/ewalt/miniconda3/envs/bfs-3.7/lib/python3.7/site-packages/osgeo/gdal.py\u001b[0m in \u001b[0;36mWarp\u001b[0;34m(destNameOrDestDS, srcDSOrSrcDSTab, **kwargs)\u001b[0m\n\u001b[1;32m    623\u001b[0m \u001b[0;34m\u001b[0m\u001b[0m\n\u001b[1;32m    624\u001b[0m     \u001b[0;32mif\u001b[0m \u001b[0m_is_str_or_unicode\u001b[0m\u001b[0;34m(\u001b[0m\u001b[0mdestNameOrDestDS\u001b[0m\u001b[0;34m)\u001b[0m\u001b[0;34m:\u001b[0m\u001b[0;34m\u001b[0m\u001b[0;34m\u001b[0m\u001b[0m\n\u001b[0;32m--> 625\u001b[0;31m         \u001b[0;32mreturn\u001b[0m \u001b[0mwrapper_GDALWarpDestName\u001b[0m\u001b[0;34m(\u001b[0m\u001b[0mdestNameOrDestDS\u001b[0m\u001b[0;34m,\u001b[0m \u001b[0msrcDSTab\u001b[0m\u001b[0;34m,\u001b[0m \u001b[0mopts\u001b[0m\u001b[0;34m,\u001b[0m \u001b[0mcallback\u001b[0m\u001b[0;34m,\u001b[0m \u001b[0mcallback_data\u001b[0m\u001b[0;34m)\u001b[0m\u001b[0;34m\u001b[0m\u001b[0;34m\u001b[0m\u001b[0m\n\u001b[0m\u001b[1;32m    626\u001b[0m     \u001b[0;32melse\u001b[0m\u001b[0;34m:\u001b[0m\u001b[0;34m\u001b[0m\u001b[0;34m\u001b[0m\u001b[0m\n\u001b[1;32m    627\u001b[0m         \u001b[0;32mreturn\u001b[0m \u001b[0mwrapper_GDALWarpDestDS\u001b[0m\u001b[0;34m(\u001b[0m\u001b[0mdestNameOrDestDS\u001b[0m\u001b[0;34m,\u001b[0m \u001b[0msrcDSTab\u001b[0m\u001b[0;34m,\u001b[0m \u001b[0mopts\u001b[0m\u001b[0;34m,\u001b[0m \u001b[0mcallback\u001b[0m\u001b[0;34m,\u001b[0m \u001b[0mcallback_data\u001b[0m\u001b[0;34m)\u001b[0m\u001b[0;34m\u001b[0m\u001b[0;34m\u001b[0m\u001b[0m\n",
      "\u001b[0;32m/scratch/ewalt/miniconda3/envs/bfs-3.7/lib/python3.7/site-packages/osgeo/gdal.py\u001b[0m in \u001b[0;36mwrapper_GDALWarpDestName\u001b[0;34m(*args)\u001b[0m\n\u001b[1;32m   3408\u001b[0m \u001b[0;32mdef\u001b[0m \u001b[0mwrapper_GDALWarpDestName\u001b[0m\u001b[0;34m(\u001b[0m\u001b[0;34m*\u001b[0m\u001b[0margs\u001b[0m\u001b[0;34m)\u001b[0m\u001b[0;34m:\u001b[0m\u001b[0;34m\u001b[0m\u001b[0;34m\u001b[0m\u001b[0m\n\u001b[1;32m   3409\u001b[0m     \u001b[0;34m\"\"\"wrapper_GDALWarpDestName(char const * dest, int object_list_count, GDALWarpAppOptions warpAppOptions, GDALProgressFunc callback=0, void * callback_data=None) -> Dataset\"\"\"\u001b[0m\u001b[0;34m\u001b[0m\u001b[0;34m\u001b[0m\u001b[0m\n\u001b[0;32m-> 3410\u001b[0;31m     \u001b[0;32mreturn\u001b[0m \u001b[0m_gdal\u001b[0m\u001b[0;34m.\u001b[0m\u001b[0mwrapper_GDALWarpDestName\u001b[0m\u001b[0;34m(\u001b[0m\u001b[0;34m*\u001b[0m\u001b[0margs\u001b[0m\u001b[0;34m)\u001b[0m\u001b[0;34m\u001b[0m\u001b[0;34m\u001b[0m\u001b[0m\n\u001b[0m\u001b[1;32m   3411\u001b[0m \u001b[0;32mclass\u001b[0m \u001b[0mGDALVectorTranslateOptions\u001b[0m\u001b[0;34m(\u001b[0m\u001b[0m_object\u001b[0m\u001b[0;34m)\u001b[0m\u001b[0;34m:\u001b[0m\u001b[0;34m\u001b[0m\u001b[0;34m\u001b[0m\u001b[0m\n\u001b[1;32m   3412\u001b[0m     \u001b[0;34m\"\"\"Proxy of C++ GDALVectorTranslateOptions class.\"\"\"\u001b[0m\u001b[0;34m\u001b[0m\u001b[0;34m\u001b[0m\u001b[0m\n",
      "\u001b[0;31mSystemError\u001b[0m: <built-in function wrapper_GDALWarpDestName> returned NULL without setting an error"
     ]
    }
   ],
   "source": [
    "# Paths\n",
    "input_path = Path(gee_paths[0])\n",
    "output_path = Path(str(input_path).replace(input_path.stem, input_path.stem+\"_reprojected\"))\n",
    "output_path, gt_path = str(output_path), str(gt_path)\n",
    "# Read gt\n",
    "gt_ds = gdal.Open(str(gt_path))\n",
    "# warp options\n",
    "warp_options = gdal.WarpOptions(\n",
    "    format=\"GTiff\",\n",
    "    dstSRS=gt_ds.GetProjectionRef(),\n",
    "    xRes=10.0, yRes=-10.0\n",
    ")\n",
    "# reproject dataset\n",
    "reprojected_dataset = gdal.Warp(output_path, input_path, options=warp_options)\n",
    "gt_proj"
   ]
  },
  {
   "cell_type": "code",
   "execution_count": 13,
   "id": "20fd3b85",
   "metadata": {},
   "outputs": [
    {
     "name": "stderr",
     "output_type": "stream",
     "text": [
      "ERROR 1: PROJ: pj_obj_create: Open of /scratch/ewalt/miniconda3/envs/bfs-3.7/share/proj failed\n",
      "ERROR 1: PROJ: createGeodeticReferenceFrame: Open of /scratch/ewalt/miniconda3/envs/bfs-3.7/share/proj failed\n",
      "ERROR 1: PROJ: proj_as_wkt: Open of /scratch/ewalt/miniconda3/envs/bfs-3.7/share/proj failed\n",
      "ERROR 1: PROJ: proj_create_from_wkt: Open of /scratch/ewalt/miniconda3/envs/bfs-3.7/share/proj failed\n",
      "ERROR 1: PROJ: proj_as_wkt: Open of /scratch/ewalt/miniconda3/envs/bfs-3.7/share/proj failed\n",
      "ERROR 1: PROJ: proj_create_from_wkt: Open of /scratch/ewalt/miniconda3/envs/bfs-3.7/share/proj failed\n",
      "ERROR 1: PROJ: createGeodeticReferenceFrame: Open of /scratch/ewalt/miniconda3/envs/bfs-3.7/share/proj failed\n",
      "ERROR 1: PROJ: pj_obj_create: Open of /scratch/ewalt/miniconda3/envs/bfs-3.7/share/proj failed\n",
      "ERROR 1: PROJ: proj_as_wkt: Open of /scratch/ewalt/miniconda3/envs/bfs-3.7/share/proj failed\n",
      "ERROR 1: PROJ: proj_as_wkt: Open of /scratch/ewalt/miniconda3/envs/bfs-3.7/share/proj failed\n",
      "ERROR 1: PROJ: proj_create_from_wkt: Open of /scratch/ewalt/miniconda3/envs/bfs-3.7/share/proj failed\n",
      "ERROR 1: PROJ: proj_as_wkt: Open of /scratch/ewalt/miniconda3/envs/bfs-3.7/share/proj failed\n",
      "ERROR 1: PROJ: proj_create_from_wkt: Open of /scratch/ewalt/miniconda3/envs/bfs-3.7/share/proj failed\n"
     ]
    },
    {
     "ename": "SystemError",
     "evalue": "<built-in function wrapper_GDALWarpDestName> returned NULL without setting an error",
     "output_type": "error",
     "traceback": [
      "\u001b[0;31m---------------------------------------------------------------------------\u001b[0m",
      "\u001b[0;31mSystemError\u001b[0m                               Traceback (most recent call last)",
      "\u001b[0;32m/tmp/ipykernel_1352076/3796111163.py\u001b[0m in \u001b[0;36m<module>\u001b[0;34m\u001b[0m\n\u001b[0;32m----> 1\u001b[0;31m \u001b[0mgdal_reproject\u001b[0m\u001b[0;34m(\u001b[0m\u001b[0mgee_paths\u001b[0m\u001b[0;34m[\u001b[0m\u001b[0;36m0\u001b[0m\u001b[0;34m]\u001b[0m\u001b[0;34m,\u001b[0m \u001b[0mgt_path\u001b[0m\u001b[0;34m)\u001b[0m\u001b[0;34m\u001b[0m\u001b[0;34m\u001b[0m\u001b[0m\n\u001b[0m",
      "\u001b[0;32m/scratch/ewalt/pdm/rs-uncertainty/gee/gee_download.py\u001b[0m in \u001b[0;36mgdal_reproject\u001b[0;34m(input_path, gt_path)\u001b[0m\n\u001b[1;32m    117\u001b[0m         \u001b[0mdstSRS\u001b[0m\u001b[0;34m=\u001b[0m\u001b[0mproj_\u001b[0m\u001b[0;34m,\u001b[0m\u001b[0;34m\u001b[0m\u001b[0;34m\u001b[0m\u001b[0m\n\u001b[1;32m    118\u001b[0m         xRes=10.0, yRes=-10.0)\n\u001b[0;32m--> 119\u001b[0;31m     \u001b[0mx_ds\u001b[0m \u001b[0;34m=\u001b[0m \u001b[0mgdal\u001b[0m\u001b[0;34m.\u001b[0m\u001b[0mWarp\u001b[0m\u001b[0;34m(\u001b[0m\u001b[0moutput_path\u001b[0m\u001b[0;34m,\u001b[0m \u001b[0minput_path\u001b[0m\u001b[0;34m,\u001b[0m \u001b[0moptions\u001b[0m\u001b[0;34m=\u001b[0m\u001b[0mwarp_opts\u001b[0m\u001b[0;34m)\u001b[0m\u001b[0;34m\u001b[0m\u001b[0;34m\u001b[0m\u001b[0m\n\u001b[0m\u001b[1;32m    120\u001b[0m     \u001b[0mx_ds\u001b[0m \u001b[0;34m=\u001b[0m \u001b[0;32mNone\u001b[0m\u001b[0;34m\u001b[0m\u001b[0;34m\u001b[0m\u001b[0m\n\u001b[1;32m    121\u001b[0m \u001b[0;34m\u001b[0m\u001b[0m\n",
      "\u001b[0;32m/scratch/ewalt/miniconda3/envs/bfs-3.7/lib/python3.7/site-packages/osgeo/gdal.py\u001b[0m in \u001b[0;36mWarp\u001b[0;34m(destNameOrDestDS, srcDSOrSrcDSTab, **kwargs)\u001b[0m\n\u001b[1;32m    623\u001b[0m \u001b[0;34m\u001b[0m\u001b[0m\n\u001b[1;32m    624\u001b[0m     \u001b[0;32mif\u001b[0m \u001b[0m_is_str_or_unicode\u001b[0m\u001b[0;34m(\u001b[0m\u001b[0mdestNameOrDestDS\u001b[0m\u001b[0;34m)\u001b[0m\u001b[0;34m:\u001b[0m\u001b[0;34m\u001b[0m\u001b[0;34m\u001b[0m\u001b[0m\n\u001b[0;32m--> 625\u001b[0;31m         \u001b[0;32mreturn\u001b[0m \u001b[0mwrapper_GDALWarpDestName\u001b[0m\u001b[0;34m(\u001b[0m\u001b[0mdestNameOrDestDS\u001b[0m\u001b[0;34m,\u001b[0m \u001b[0msrcDSTab\u001b[0m\u001b[0;34m,\u001b[0m \u001b[0mopts\u001b[0m\u001b[0;34m,\u001b[0m \u001b[0mcallback\u001b[0m\u001b[0;34m,\u001b[0m \u001b[0mcallback_data\u001b[0m\u001b[0;34m)\u001b[0m\u001b[0;34m\u001b[0m\u001b[0;34m\u001b[0m\u001b[0m\n\u001b[0m\u001b[1;32m    626\u001b[0m     \u001b[0;32melse\u001b[0m\u001b[0;34m:\u001b[0m\u001b[0;34m\u001b[0m\u001b[0;34m\u001b[0m\u001b[0m\n\u001b[1;32m    627\u001b[0m         \u001b[0;32mreturn\u001b[0m \u001b[0mwrapper_GDALWarpDestDS\u001b[0m\u001b[0;34m(\u001b[0m\u001b[0mdestNameOrDestDS\u001b[0m\u001b[0;34m,\u001b[0m \u001b[0msrcDSTab\u001b[0m\u001b[0;34m,\u001b[0m \u001b[0mopts\u001b[0m\u001b[0;34m,\u001b[0m \u001b[0mcallback\u001b[0m\u001b[0;34m,\u001b[0m \u001b[0mcallback_data\u001b[0m\u001b[0;34m)\u001b[0m\u001b[0;34m\u001b[0m\u001b[0;34m\u001b[0m\u001b[0m\n",
      "\u001b[0;32m/scratch/ewalt/miniconda3/envs/bfs-3.7/lib/python3.7/site-packages/osgeo/gdal.py\u001b[0m in \u001b[0;36mwrapper_GDALWarpDestName\u001b[0;34m(*args)\u001b[0m\n\u001b[1;32m   3408\u001b[0m \u001b[0;32mdef\u001b[0m \u001b[0mwrapper_GDALWarpDestName\u001b[0m\u001b[0;34m(\u001b[0m\u001b[0;34m*\u001b[0m\u001b[0margs\u001b[0m\u001b[0;34m)\u001b[0m\u001b[0;34m:\u001b[0m\u001b[0;34m\u001b[0m\u001b[0;34m\u001b[0m\u001b[0m\n\u001b[1;32m   3409\u001b[0m     \u001b[0;34m\"\"\"wrapper_GDALWarpDestName(char const * dest, int object_list_count, GDALWarpAppOptions warpAppOptions, GDALProgressFunc callback=0, void * callback_data=None) -> Dataset\"\"\"\u001b[0m\u001b[0;34m\u001b[0m\u001b[0;34m\u001b[0m\u001b[0m\n\u001b[0;32m-> 3410\u001b[0;31m     \u001b[0;32mreturn\u001b[0m \u001b[0m_gdal\u001b[0m\u001b[0;34m.\u001b[0m\u001b[0mwrapper_GDALWarpDestName\u001b[0m\u001b[0;34m(\u001b[0m\u001b[0;34m*\u001b[0m\u001b[0margs\u001b[0m\u001b[0;34m)\u001b[0m\u001b[0;34m\u001b[0m\u001b[0;34m\u001b[0m\u001b[0m\n\u001b[0m\u001b[1;32m   3411\u001b[0m \u001b[0;32mclass\u001b[0m \u001b[0mGDALVectorTranslateOptions\u001b[0m\u001b[0;34m(\u001b[0m\u001b[0m_object\u001b[0m\u001b[0;34m)\u001b[0m\u001b[0;34m:\u001b[0m\u001b[0;34m\u001b[0m\u001b[0;34m\u001b[0m\u001b[0m\n\u001b[1;32m   3412\u001b[0m     \u001b[0;34m\"\"\"Proxy of C++ GDALVectorTranslateOptions class.\"\"\"\u001b[0m\u001b[0;34m\u001b[0m\u001b[0;34m\u001b[0m\u001b[0m\n",
      "\u001b[0;31mSystemError\u001b[0m: <built-in function wrapper_GDALWarpDestName> returned NULL without setting an error"
     ]
    }
   ],
   "source": [
    "gdal_reproject(gee_paths[0], gt_path)"
   ]
  },
  {
   "cell_type": "code",
   "execution_count": 5,
   "id": "a8c85fa7",
   "metadata": {},
   "outputs": [
    {
     "data": {
      "text/plain": [
       "PosixPath('../assets/data/preprocessed/764.tif')"
      ]
     },
     "execution_count": 5,
     "metadata": {},
     "output_type": "execute_result"
    }
   ],
   "source": [
    "gt_path"
   ]
  },
  {
   "cell_type": "code",
   "execution_count": 8,
   "id": "cd542467",
   "metadata": {},
   "outputs": [
    {
     "ename": "RuntimeError",
     "evalue": "not a string",
     "output_type": "error",
     "traceback": [
      "\u001b[0;31m---------------------------------------------------------------------------\u001b[0m",
      "\u001b[0;31mRuntimeError\u001b[0m                              Traceback (most recent call last)",
      "\u001b[0;32m/tmp/ipykernel_1352076/3979815488.py\u001b[0m in \u001b[0;36m<module>\u001b[0;34m\u001b[0m\n\u001b[0;32m----> 1\u001b[0;31m \u001b[0mgdal\u001b[0m\u001b[0;34m.\u001b[0m\u001b[0mOpen\u001b[0m\u001b[0;34m(\u001b[0m\u001b[0mgt_path\u001b[0m\u001b[0;34m)\u001b[0m\u001b[0;34m\u001b[0m\u001b[0;34m\u001b[0m\u001b[0m\n\u001b[0m",
      "\u001b[0;32m/scratch/ewalt/miniconda3/envs/bfs-3.7/lib/python3.7/site-packages/osgeo/gdal.py\u001b[0m in \u001b[0;36mOpen\u001b[0;34m(*args)\u001b[0m\n\u001b[1;32m   3306\u001b[0m \u001b[0;32mdef\u001b[0m \u001b[0mOpen\u001b[0m\u001b[0;34m(\u001b[0m\u001b[0;34m*\u001b[0m\u001b[0margs\u001b[0m\u001b[0;34m)\u001b[0m\u001b[0;34m:\u001b[0m\u001b[0;34m\u001b[0m\u001b[0;34m\u001b[0m\u001b[0m\n\u001b[1;32m   3307\u001b[0m     \u001b[0;34m\"\"\"Open(char const * utf8_path, GDALAccess eAccess) -> Dataset\"\"\"\u001b[0m\u001b[0;34m\u001b[0m\u001b[0;34m\u001b[0m\u001b[0m\n\u001b[0;32m-> 3308\u001b[0;31m     \u001b[0;32mreturn\u001b[0m \u001b[0m_gdal\u001b[0m\u001b[0;34m.\u001b[0m\u001b[0mOpen\u001b[0m\u001b[0;34m(\u001b[0m\u001b[0;34m*\u001b[0m\u001b[0margs\u001b[0m\u001b[0;34m)\u001b[0m\u001b[0;34m\u001b[0m\u001b[0;34m\u001b[0m\u001b[0m\n\u001b[0m\u001b[1;32m   3309\u001b[0m \u001b[0;34m\u001b[0m\u001b[0m\n\u001b[1;32m   3310\u001b[0m \u001b[0;32mdef\u001b[0m \u001b[0mOpenEx\u001b[0m\u001b[0;34m(\u001b[0m\u001b[0;34m*\u001b[0m\u001b[0margs\u001b[0m\u001b[0;34m,\u001b[0m \u001b[0;34m**\u001b[0m\u001b[0mkwargs\u001b[0m\u001b[0;34m)\u001b[0m\u001b[0;34m:\u001b[0m\u001b[0;34m\u001b[0m\u001b[0;34m\u001b[0m\u001b[0m\n",
      "\u001b[0;31mRuntimeError\u001b[0m: not a string"
     ]
    }
   ],
   "source": [
    "gdal.Open(gt_path)"
   ]
  },
  {
   "cell_type": "code",
   "execution_count": 12,
   "id": "3157cc6c",
   "metadata": {},
   "outputs": [
    {
     "name": "stderr",
     "output_type": "stream",
     "text": [
      "[autoreload of gee_download failed: Traceback (most recent call last):\n",
      "  File \"/scratch/ewalt/miniconda3/envs/bfs-3.7/lib/python3.7/site-packages/IPython/extensions/autoreload.py\", line 245, in check\n",
      "    superreload(m, reload, self.old_objects)\n",
      "  File \"/scratch/ewalt/miniconda3/envs/bfs-3.7/lib/python3.7/site-packages/IPython/extensions/autoreload.py\", line 394, in superreload\n",
      "    module = reload(module)\n",
      "  File \"/scratch/ewalt/miniconda3/envs/bfs-3.7/lib/python3.7/imp.py\", line 314, in reload\n",
      "    return importlib.reload(module)\n",
      "  File \"/scratch/ewalt/miniconda3/envs/bfs-3.7/lib/python3.7/importlib/__init__.py\", line 169, in reload\n",
      "    _bootstrap._exec(spec, module)\n",
      "  File \"<frozen importlib._bootstrap>\", line 630, in _exec\n",
      "  File \"<frozen importlib._bootstrap_external>\", line 724, in exec_module\n",
      "  File \"<frozen importlib._bootstrap_external>\", line 860, in get_code\n",
      "  File \"<frozen importlib._bootstrap_external>\", line 791, in source_to_code\n",
      "  File \"<frozen importlib._bootstrap>\", line 219, in _call_with_frames_removed\n",
      "  File \"/scratch/ewalt/pdm/rs-uncertainty/gee/gee_download.py\", line 113\n",
      "    gt_file = gdal.Open(gt_path) as gt_file:\n",
      "                                  ^\n",
      "SyntaxError: invalid syntax\n",
      "]\n"
     ]
    },
    {
     "ename": "AttributeError",
     "evalue": "type object 'object' has no attribute '__getattr__'",
     "output_type": "error",
     "traceback": [
      "\u001b[0;31m---------------------------------------------------------------------------\u001b[0m",
      "\u001b[0;31mAttributeError\u001b[0m                            Traceback (most recent call last)",
      "\u001b[0;32m/tmp/ipykernel_1352076/3035388817.py\u001b[0m in \u001b[0;36m<module>\u001b[0;34m\u001b[0m\n\u001b[0;32m----> 1\u001b[0;31m \u001b[0mgdal\u001b[0m\u001b[0;34m.\u001b[0m\u001b[0mOpen\u001b[0m\u001b[0;34m(\u001b[0m\u001b[0mstr\u001b[0m\u001b[0;34m(\u001b[0m\u001b[0mgt_path\u001b[0m\u001b[0;34m)\u001b[0m\u001b[0;34m)\u001b[0m\u001b[0;34m.\u001b[0m\u001b[0mclose\u001b[0m\u001b[0;34m(\u001b[0m\u001b[0;34m)\u001b[0m\u001b[0;34m\u001b[0m\u001b[0;34m\u001b[0m\u001b[0m\n\u001b[0m",
      "\u001b[0;32m/scratch/ewalt/miniconda3/envs/bfs-3.7/lib/python3.7/site-packages/osgeo/gdal.py\u001b[0m in \u001b[0;36m<lambda>\u001b[0;34m(self, name)\u001b[0m\n\u001b[1;32m   2043\u001b[0m     \u001b[0;32mfor\u001b[0m \u001b[0m_s\u001b[0m \u001b[0;32min\u001b[0m \u001b[0;34m[\u001b[0m\u001b[0mMajorObject\u001b[0m\u001b[0;34m]\u001b[0m\u001b[0;34m:\u001b[0m\u001b[0;34m\u001b[0m\u001b[0;34m\u001b[0m\u001b[0m\n\u001b[1;32m   2044\u001b[0m         \u001b[0m__swig_getmethods__\u001b[0m\u001b[0;34m.\u001b[0m\u001b[0mupdate\u001b[0m\u001b[0;34m(\u001b[0m\u001b[0mgetattr\u001b[0m\u001b[0;34m(\u001b[0m\u001b[0m_s\u001b[0m\u001b[0;34m,\u001b[0m \u001b[0;34m'__swig_getmethods__'\u001b[0m\u001b[0;34m,\u001b[0m \u001b[0;34m{\u001b[0m\u001b[0;34m}\u001b[0m\u001b[0;34m)\u001b[0m\u001b[0;34m)\u001b[0m\u001b[0;34m\u001b[0m\u001b[0;34m\u001b[0m\u001b[0m\n\u001b[0;32m-> 2045\u001b[0;31m     \u001b[0m__getattr__\u001b[0m \u001b[0;34m=\u001b[0m \u001b[0;32mlambda\u001b[0m \u001b[0mself\u001b[0m\u001b[0;34m,\u001b[0m \u001b[0mname\u001b[0m\u001b[0;34m:\u001b[0m \u001b[0m_swig_getattr\u001b[0m\u001b[0;34m(\u001b[0m\u001b[0mself\u001b[0m\u001b[0;34m,\u001b[0m \u001b[0mDataset\u001b[0m\u001b[0;34m,\u001b[0m \u001b[0mname\u001b[0m\u001b[0;34m)\u001b[0m\u001b[0;34m\u001b[0m\u001b[0;34m\u001b[0m\u001b[0m\n\u001b[0m\u001b[1;32m   2046\u001b[0m \u001b[0;34m\u001b[0m\u001b[0m\n\u001b[1;32m   2047\u001b[0m     \u001b[0;32mdef\u001b[0m \u001b[0m__init__\u001b[0m\u001b[0;34m(\u001b[0m\u001b[0mself\u001b[0m\u001b[0;34m,\u001b[0m \u001b[0;34m*\u001b[0m\u001b[0margs\u001b[0m\u001b[0;34m,\u001b[0m \u001b[0;34m**\u001b[0m\u001b[0mkwargs\u001b[0m\u001b[0;34m)\u001b[0m\u001b[0;34m:\u001b[0m\u001b[0;34m\u001b[0m\u001b[0;34m\u001b[0m\u001b[0m\n",
      "\u001b[0;32m/scratch/ewalt/miniconda3/envs/bfs-3.7/lib/python3.7/site-packages/osgeo/gdal.py\u001b[0m in \u001b[0;36m_swig_getattr\u001b[0;34m(self, class_type, name)\u001b[0m\n\u001b[1;32m     72\u001b[0m \u001b[0;34m\u001b[0m\u001b[0m\n\u001b[1;32m     73\u001b[0m \u001b[0;32mdef\u001b[0m \u001b[0m_swig_getattr\u001b[0m\u001b[0;34m(\u001b[0m\u001b[0mself\u001b[0m\u001b[0;34m,\u001b[0m \u001b[0mclass_type\u001b[0m\u001b[0;34m,\u001b[0m \u001b[0mname\u001b[0m\u001b[0;34m)\u001b[0m\u001b[0;34m:\u001b[0m\u001b[0;34m\u001b[0m\u001b[0;34m\u001b[0m\u001b[0m\n\u001b[0;32m---> 74\u001b[0;31m     \u001b[0;32mreturn\u001b[0m \u001b[0m_swig_getattr_nondynamic\u001b[0m\u001b[0;34m(\u001b[0m\u001b[0mself\u001b[0m\u001b[0;34m,\u001b[0m \u001b[0mclass_type\u001b[0m\u001b[0;34m,\u001b[0m \u001b[0mname\u001b[0m\u001b[0;34m,\u001b[0m \u001b[0;36m0\u001b[0m\u001b[0;34m)\u001b[0m\u001b[0;34m\u001b[0m\u001b[0;34m\u001b[0m\u001b[0m\n\u001b[0m\u001b[1;32m     75\u001b[0m \u001b[0;34m\u001b[0m\u001b[0m\n\u001b[1;32m     76\u001b[0m \u001b[0;34m\u001b[0m\u001b[0m\n",
      "\u001b[0;32m/scratch/ewalt/miniconda3/envs/bfs-3.7/lib/python3.7/site-packages/osgeo/gdal.py\u001b[0m in \u001b[0;36m_swig_getattr_nondynamic\u001b[0;34m(self, class_type, name, static)\u001b[0m\n\u001b[1;32m     67\u001b[0m         \u001b[0;32mreturn\u001b[0m \u001b[0mmethod\u001b[0m\u001b[0;34m(\u001b[0m\u001b[0mself\u001b[0m\u001b[0;34m)\u001b[0m\u001b[0;34m\u001b[0m\u001b[0;34m\u001b[0m\u001b[0m\n\u001b[1;32m     68\u001b[0m     \u001b[0;32mif\u001b[0m \u001b[0;34m(\u001b[0m\u001b[0;32mnot\u001b[0m \u001b[0mstatic\u001b[0m\u001b[0;34m)\u001b[0m\u001b[0;34m:\u001b[0m\u001b[0;34m\u001b[0m\u001b[0;34m\u001b[0m\u001b[0m\n\u001b[0;32m---> 69\u001b[0;31m         \u001b[0;32mreturn\u001b[0m \u001b[0mobject\u001b[0m\u001b[0;34m.\u001b[0m\u001b[0m__getattr__\u001b[0m\u001b[0;34m(\u001b[0m\u001b[0mself\u001b[0m\u001b[0;34m,\u001b[0m \u001b[0mname\u001b[0m\u001b[0;34m)\u001b[0m\u001b[0;34m\u001b[0m\u001b[0;34m\u001b[0m\u001b[0m\n\u001b[0m\u001b[1;32m     70\u001b[0m     \u001b[0;32melse\u001b[0m\u001b[0;34m:\u001b[0m\u001b[0;34m\u001b[0m\u001b[0;34m\u001b[0m\u001b[0m\n\u001b[1;32m     71\u001b[0m         \u001b[0;32mraise\u001b[0m \u001b[0mAttributeError\u001b[0m\u001b[0;34m(\u001b[0m\u001b[0mname\u001b[0m\u001b[0;34m)\u001b[0m\u001b[0;34m\u001b[0m\u001b[0;34m\u001b[0m\u001b[0m\n",
      "\u001b[0;31mAttributeError\u001b[0m: type object 'object' has no attribute '__getattr__'"
     ]
    }
   ],
   "source": [
    "gdal.Open(str(gt_path)).close()"
   ]
  },
  {
   "cell_type": "code",
   "execution_count": 36,
   "id": "4483dccd",
   "metadata": {},
   "outputs": [
    {
     "name": "stdout",
     "output_type": "stream",
     "text": [
      "\r\n",
      "CommandNotFoundError: Your shell has not been properly configured to use 'conda activate'.\r\n",
      "To initialize your shell, run\r\n",
      "\r\n",
      "    $ conda init <SHELL_NAME>\r\n",
      "\r\n",
      "Currently supported shells are:\r\n",
      "  - bash\r\n",
      "  - fish\r\n",
      "  - tcsh\r\n",
      "  - xonsh\r\n",
      "  - zsh\r\n",
      "  - powershell\r\n",
      "\r\n",
      "See 'conda init --help' for more information and options.\r\n",
      "\r\n",
      "IMPORTANT: You may need to close and restart your shell after running 'conda init'.\r\n",
      "\r\n",
      "\r\n"
     ]
    }
   ],
   "source": [
    "!conda activate bfs-3.7"
   ]
  },
  {
   "cell_type": "code",
   "execution_count": null,
   "id": "9f3cb372",
   "metadata": {},
   "outputs": [],
   "source": []
  }
 ],
 "metadata": {
  "kernelspec": {
   "display_name": "Python (bfs-3.7)",
   "language": "python",
   "name": "bfs-3.7"
  },
  "language_info": {
   "codemirror_mode": {
    "name": "ipython",
    "version": 3
   },
   "file_extension": ".py",
   "mimetype": "text/x-python",
   "name": "python",
   "nbconvert_exporter": "python",
   "pygments_lexer": "ipython3",
   "version": "3.7.4"
  }
 },
 "nbformat": 4,
 "nbformat_minor": 5
}
