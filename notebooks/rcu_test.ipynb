{
 "cells": [
  {
   "cell_type": "markdown",
   "id": "0310edc2",
   "metadata": {},
   "source": [
    "# RCU Metrics Tests"
   ]
  },
  {
   "cell_type": "code",
   "execution_count": 1,
   "id": "54d712da",
   "metadata": {},
   "outputs": [],
   "source": [
    "%load_ext autoreload\n",
    "%autoreload 2\n",
    "import os\n",
    "os.chdir(\"/scratch/ewalt/pdm/rs-uncertainty\")\n",
    "from src.rcu_metrics import StratifiedRCUSubset, nan_frac\n",
    "import rasterio\n",
    "import argparse\n",
    "import yaml\n",
    "import numpy as np\n",
    "from tqdm import tqdm\n",
    "from pathlib import Path\n",
    "import pandas as pd"
   ]
  },
  {
   "cell_type": "code",
   "execution_count": 2,
   "id": "7ec6bd6b",
   "metadata": {},
   "outputs": [],
   "source": [
    "def pjoin(*subs): return Path(os.path.abspath(os.path.join(*subs)))\n",
    "def get_variance_bounds(cfg, N=2):\n",
    "    for k, v in cfg.items():\n",
    "        if k.endswith(\"_dir\"): cfg[k] = Path(v)\n",
    "    projects = cfg[\"projects_east\"]+cfg[\"projects_west\"]+cfg[\"projects_north\"]\n",
    "    # loop on projects to get variance bounds\n",
    "    print(f\"Computing variance bounds in {cfg['pkl_dir']}...\")\n",
    "    lo_variance = np.full((5,), np.inf)\n",
    "    hi_variance = np.full((5,), -np.inf)\n",
    "    variance_files = []\n",
    "    # for variance_file in tqdm(list(cfg[\"prediction_dir\"].glob(\"*_variance.tif\"))):\n",
    "    for variance_file in tqdm(list(cfg[\"prediction_dir\"].glob(\"*_variance.tif\"))[:N]): # Debug\n",
    "        if variance_file.stem.split(\"_\")[0] not in projects: continue\n",
    "        variance_files.append(variance_file)\n",
    "        with rasterio.open(variance_file) as fh:\n",
    "            variance = fh.read(fh.indexes)\n",
    "        variance_flat = variance.reshape(5, -1)\n",
    "        hi = np.nanmax(variance_flat, axis=1)\n",
    "        lo = np.nanmin(variance_flat, axis=1)\n",
    "        hi_variance[hi>hi_variance] = hi[hi>hi_variance]\n",
    "        lo_variance[lo<lo_variance] = lo[lo<lo_variance]\n",
    "    print(\"Variances lower bound:\", lo_variance.tolist())\n",
    "    print(\"Variances upper bound:\", hi_variance.tolist())\n",
    "    # initialize RCU metrics\n",
    "    return lo_variance, hi_variance, variance_files\n",
    "def get_projects(cfg, variance_files):\n",
    "    projects = []\n",
    "    # Load standardization data\n",
    "    with pjoin(cfg[\"pkl_dir\"], \"stats.yaml\").open(\"r\", encoding=\"utf-8\") as f:\n",
    "        stats = yaml.safe_load(f)\n",
    "    labels_mean = np.array(stats[\"labels_stats\"][\"mean\"]).reshape(5,1,1)\n",
    "    labels_std = np.array(stats[\"labels_stats\"][\"std\"]).reshape(5,1,1)\n",
    "    # compute stats online\n",
    "    for variance_file in tqdm(variance_files):\n",
    "        # load data\n",
    "        project = variance_file.stem.split('_')[0]\n",
    "        # if project not in projects: continue\n",
    "        with rasterio.open(pjoin(cfg['prediction_dir'], f\"{project}_mean.tif\")) as fh:\n",
    "            mean = fh.read(fh.indexes)\n",
    "        with rasterio.open(variance_file) as fh:\n",
    "            variance = fh.read(fh.indexes)\n",
    "        with rasterio.open(pjoin(cfg['gt_dir'], f\"{project}.tif\")) as fh:\n",
    "            gt = fh.read(fh.indexes)\n",
    "            gt[2] /= 100 # Cover/Dens normalization!!\n",
    "            gt[4] /= 100\n",
    "        # standardize\n",
    "        mean[[0,1]] = (mean[[0,1]]-labels_mean[[0,1]])/labels_std[[0,1]]\n",
    "        gt[[0,1]] = (gt[[0,1]]-labels_mean[[0,1]])/labels_std[[0,1]]\n",
    "        projects.append((project, gt, mean, variance))\n",
    "    return projects    \n",
    "def res2df(res, cfg):\n",
    "    R = {}\n",
    "    for eid, eres in res.items():\n",
    "        for metric_name, metric_info in eres.items():\n",
    "            R[(eid, metric_name)] = metric_info[\"values\"]\n",
    "            R[(eid, f\"ause-{metric_name}\")] = metric_info[\"ause\"]\n",
    "    return pd.DataFrame(R, index=cfg[\"variable_names\"]).T\n",
    "def test(metrics, lo_variance, hi_variance, projects, cfg, N=2):\n",
    "    print(\"creating\")\n",
    "    rcu = rcu = StratifiedRCUSubset(\n",
    "        metric_names=metrics,\n",
    "        num_variables=len(cfg[\"data_bands\"]),\n",
    "        # num_groups=len(projects),\n",
    "        num_groups=N, # Debug\n",
    "        num_bins=cfg[\"num_bins\"],\n",
    "        lo_variance=lo_variance,\n",
    "        hi_variance=hi_variance\n",
    "    )\n",
    "    print(\"adding\")\n",
    "    results = {}\n",
    "    for i, project in enumerate(projects):\n",
    "        print(\"adding\", project[0])\n",
    "        rcu.add_project(*project)\n",
    "        results[project[0]] = rcu.get_subset([project[0]])\n",
    "    results[\"global\"] = rcu.get()\n",
    "    return res2df(results, cfg), rcu"
   ]
  },
  {
   "cell_type": "code",
   "execution_count": 3,
   "id": "23c1aa5f",
   "metadata": {},
   "outputs": [
    {
     "name": "stdout",
     "output_type": "stream",
     "text": [
      "Computing variance bounds in data/2023-04-05_18-58-33...\n"
     ]
    },
    {
     "name": "stderr",
     "output_type": "stream",
     "text": [
      "100%|████████████████████████████████████████| 2/2 [00:02<00:00,  1.30it/s]\n"
     ]
    },
    {
     "name": "stdout",
     "output_type": "stream",
     "text": [
      "Variances lower bound: [0.4428499639034271, 0.08763699978590012, 0.0004826262593269348, 0.0001668027980485931, 4.102319962839829e-06]\n",
      "Variances upper bound: [268.0447998046875, 106.31964111328125, 0.11541682481765747, 0.0358952134847641, 0.18080325424671173]\n"
     ]
    },
    {
     "name": "stderr",
     "output_type": "stream",
     "text": [
      "100%|████████████████████████████████████████| 2/2 [00:09<00:00,  4.25s/it]\n"
     ]
    }
   ],
   "source": [
    "with Path(\"./config/evaluate_testset/baseline.yaml\").open(\"r\", encoding=\"utf-8\") as f:\n",
    "    cfg = yaml.safe_load(f)\n",
    "lo_variance, hi_variance, variance_files = get_variance_bounds(cfg)\n",
    "projects = get_projects(cfg, variance_files)"
   ]
  },
  {
   "cell_type": "markdown",
   "id": "146f2708",
   "metadata": {},
   "source": [
    "### Error Metrics [pOK]"
   ]
  },
  {
   "cell_type": "code",
   "execution_count": 4,
   "id": "a68280c5",
   "metadata": {
    "scrolled": true
   },
   "outputs": [
    {
     "name": "stdout",
     "output_type": "stream",
     "text": [
      "creating\n",
      "adding\n",
      "adding 439\n",
      "[debug:559] nans -> diff: 0.0, variance: 0.0\n",
      "[debug:589] (5, 1000)\n",
      "[debug:600] (5, 1000)\n",
      "[debug:589] (5, 1000)\n",
      "[debug:600] (5, 1000)\n",
      "[debug:589] (5, 1000)\n",
      "[debug:600] (5, 1000)\n",
      "[debug:589] (5, 1000)\n",
      "[debug:600] (5, 1000)\n",
      "[debug:546] Getting: <src.rcu_metrics.StratifiedMSE object at 0x7fd95950e310>\n",
      "[debug:184] Arr[2] nan: 0.305 ((1, 1000))\n"
     ]
    },
    {
     "name": "stderr",
     "output_type": "stream",
     "text": [
      "/scratch/ewalt/pdm/rs-uncertainty/src/rcu_metrics.py:13: RuntimeWarning: invalid value encountered in true_divide\n",
      "  return np.nansum(values*counts, axis=axis, keepdims=keepdims)/np.nansum(counts, axis=axis, keepdims=keepdims)\n"
     ]
    },
    {
     "name": "stdout",
     "output_type": "stream",
     "text": [
      "[debug:624] (5,) (5,)\n",
      "[debug:546] Getting: <src.rcu_metrics.StratifiedRMSE object at 0x7fd95a07b4d0>\n",
      "[debug:184] Arr[2] nan: 0.305 ((1, 1000))\n",
      "[debug:624] (5,) (5,)\n",
      "[debug:546] Getting: <src.rcu_metrics.StratifiedMAE object at 0x7fd95a07b650>\n",
      "[debug:184] Arr[2] nan: 0.305 ((1, 1000))\n",
      "[debug:624] (5,) (5,)\n",
      "[debug:546] Getting: <src.rcu_metrics.StratifiedMBE object at 0x7fd95950e050>\n",
      "[debug:184] Arr[2] nan: 0.305 ((1, 1000))\n",
      "[debug:624] (5,) (5,)\n",
      "adding 471\n",
      "[debug:559] nans -> diff: 0.0, variance: 0.0\n",
      "[debug:589] (5, 1000)\n",
      "[debug:600] (5, 1000)\n",
      "[debug:589] (5, 1000)\n",
      "[debug:600] (5, 1000)\n",
      "[debug:589] (5, 1000)\n",
      "[debug:600] (5, 1000)\n",
      "[debug:589] (5, 1000)\n",
      "[debug:600] (5, 1000)\n",
      "[debug:546] Getting: <src.rcu_metrics.StratifiedMSE object at 0x7fd95950e310>\n",
      "[debug:184] Arr[2] nan: 0.438 ((1, 1000))\n",
      "[debug:624] (5,) (5,)\n",
      "[debug:546] Getting: <src.rcu_metrics.StratifiedRMSE object at 0x7fd95a07b4d0>\n",
      "[debug:184] Arr[2] nan: 0.438 ((1, 1000))\n",
      "[debug:624] (5,) (5,)\n",
      "[debug:546] Getting: <src.rcu_metrics.StratifiedMAE object at 0x7fd95a07b650>\n",
      "[debug:184] Arr[2] nan: 0.438 ((1, 1000))\n",
      "[debug:624] (5,) (5,)\n",
      "[debug:546] Getting: <src.rcu_metrics.StratifiedMBE object at 0x7fd95950e050>\n",
      "[debug:184] Arr[2] nan: 0.438 ((1, 1000))\n",
      "[debug:624] (5,) (5,)\n",
      "[debug:184] Arr[2] nan: 0.3715 ((2, 1000))\n",
      "[debug:184] Arr[2] nan: 0.3715 ((2, 1000))\n",
      "[debug:184] Arr[2] nan: 0.3715 ((2, 1000))\n",
      "[debug:184] Arr[2] nan: 0.3715 ((2, 1000))\n"
     ]
    }
   ],
   "source": [
    "res, rcu = test([\"mse\", \"rmse\", \"mae\", \"mbe\"], lo_variance, hi_variance, projects, cfg)"
   ]
  },
  {
   "cell_type": "code",
   "execution_count": 5,
   "id": "a4f21aff",
   "metadata": {},
   "outputs": [
    {
     "data": {
      "text/html": [
       "<div>\n",
       "<style scoped>\n",
       "    .dataframe tbody tr th:only-of-type {\n",
       "        vertical-align: middle;\n",
       "    }\n",
       "\n",
       "    .dataframe tbody tr th {\n",
       "        vertical-align: top;\n",
       "    }\n",
       "\n",
       "    .dataframe thead th {\n",
       "        text-align: right;\n",
       "    }\n",
       "</style>\n",
       "<table border=\"1\" class=\"dataframe\">\n",
       "  <thead>\n",
       "    <tr style=\"text-align: right;\">\n",
       "      <th></th>\n",
       "      <th></th>\n",
       "      <th>P95</th>\n",
       "      <th>MeanH</th>\n",
       "      <th>Dens</th>\n",
       "      <th>Gini</th>\n",
       "      <th>Cover</th>\n",
       "    </tr>\n",
       "  </thead>\n",
       "  <tbody>\n",
       "    <tr>\n",
       "      <th rowspan=\"8\" valign=\"top\">439</th>\n",
       "      <th>mse</th>\n",
       "      <td>0.325619</td>\n",
       "      <td>0.345869</td>\n",
       "      <td>0.014802</td>\n",
       "      <td>0.002589</td>\n",
       "      <td>0.019557</td>\n",
       "    </tr>\n",
       "    <tr>\n",
       "      <th>ause-mse</th>\n",
       "      <td>0.316299</td>\n",
       "      <td>0.332808</td>\n",
       "      <td>0.013426</td>\n",
       "      <td>0.002458</td>\n",
       "      <td>0.017563</td>\n",
       "    </tr>\n",
       "    <tr>\n",
       "      <th>rmse</th>\n",
       "      <td>0.546519</td>\n",
       "      <td>0.566615</td>\n",
       "      <td>0.115757</td>\n",
       "      <td>0.048444</td>\n",
       "      <td>0.127427</td>\n",
       "    </tr>\n",
       "    <tr>\n",
       "      <th>ause-rmse</th>\n",
       "      <td>0.537798</td>\n",
       "      <td>0.554638</td>\n",
       "      <td>0.110258</td>\n",
       "      <td>0.047084</td>\n",
       "      <td>0.120157</td>\n",
       "    </tr>\n",
       "    <tr>\n",
       "      <th>mae</th>\n",
       "      <td>0.435301</td>\n",
       "      <td>0.450296</td>\n",
       "      <td>0.092023</td>\n",
       "      <td>0.037767</td>\n",
       "      <td>0.101679</td>\n",
       "    </tr>\n",
       "    <tr>\n",
       "      <th>ause-mae</th>\n",
       "      <td>0.428070</td>\n",
       "      <td>0.440366</td>\n",
       "      <td>0.087426</td>\n",
       "      <td>0.036710</td>\n",
       "      <td>0.095359</td>\n",
       "    </tr>\n",
       "    <tr>\n",
       "      <th>mbe</th>\n",
       "      <td>-0.042112</td>\n",
       "      <td>-0.027191</td>\n",
       "      <td>-0.004988</td>\n",
       "      <td>-0.003574</td>\n",
       "      <td>-0.015277</td>\n",
       "    </tr>\n",
       "    <tr>\n",
       "      <th>ause-mbe</th>\n",
       "      <td>-0.042008</td>\n",
       "      <td>-0.026560</td>\n",
       "      <td>-0.003587</td>\n",
       "      <td>-0.003595</td>\n",
       "      <td>-0.013693</td>\n",
       "    </tr>\n",
       "    <tr>\n",
       "      <th rowspan=\"8\" valign=\"top\">471</th>\n",
       "      <th>mse</th>\n",
       "      <td>0.267499</td>\n",
       "      <td>0.256655</td>\n",
       "      <td>0.014136</td>\n",
       "      <td>0.002227</td>\n",
       "      <td>0.022606</td>\n",
       "    </tr>\n",
       "    <tr>\n",
       "      <th>ause-mse</th>\n",
       "      <td>0.261826</td>\n",
       "      <td>0.248938</td>\n",
       "      <td>0.013323</td>\n",
       "      <td>0.002123</td>\n",
       "      <td>0.021195</td>\n",
       "    </tr>\n",
       "    <tr>\n",
       "      <th>rmse</th>\n",
       "      <td>0.492878</td>\n",
       "      <td>0.475826</td>\n",
       "      <td>0.113211</td>\n",
       "      <td>0.044448</td>\n",
       "      <td>0.142648</td>\n",
       "    </tr>\n",
       "    <tr>\n",
       "      <th>ause-rmse</th>\n",
       "      <td>0.487471</td>\n",
       "      <td>0.468161</td>\n",
       "      <td>0.109352</td>\n",
       "      <td>0.043481</td>\n",
       "      <td>0.136706</td>\n",
       "    </tr>\n",
       "    <tr>\n",
       "      <th>mae</th>\n",
       "      <td>0.387137</td>\n",
       "      <td>0.376022</td>\n",
       "      <td>0.089598</td>\n",
       "      <td>0.034760</td>\n",
       "      <td>0.113103</td>\n",
       "    </tr>\n",
       "    <tr>\n",
       "      <th>ause-mae</th>\n",
       "      <td>0.382698</td>\n",
       "      <td>0.369817</td>\n",
       "      <td>0.086444</td>\n",
       "      <td>0.034003</td>\n",
       "      <td>0.108049</td>\n",
       "    </tr>\n",
       "    <tr>\n",
       "      <th>mbe</th>\n",
       "      <td>0.033394</td>\n",
       "      <td>0.029016</td>\n",
       "      <td>0.000894</td>\n",
       "      <td>0.000052</td>\n",
       "      <td>0.006670</td>\n",
       "    </tr>\n",
       "    <tr>\n",
       "      <th>ause-mbe</th>\n",
       "      <td>0.032833</td>\n",
       "      <td>0.028638</td>\n",
       "      <td>0.000985</td>\n",
       "      <td>0.000020</td>\n",
       "      <td>0.006062</td>\n",
       "    </tr>\n",
       "    <tr>\n",
       "      <th rowspan=\"8\" valign=\"top\">global</th>\n",
       "      <th>mse</th>\n",
       "      <td>0.275376</td>\n",
       "      <td>0.268746</td>\n",
       "      <td>0.014226</td>\n",
       "      <td>0.002276</td>\n",
       "      <td>0.022193</td>\n",
       "    </tr>\n",
       "    <tr>\n",
       "      <th>ause-mse</th>\n",
       "      <td>0.283445</td>\n",
       "      <td>0.276293</td>\n",
       "      <td>0.013825</td>\n",
       "      <td>0.002284</td>\n",
       "      <td>0.020663</td>\n",
       "    </tr>\n",
       "    <tr>\n",
       "      <th>rmse</th>\n",
       "      <td>0.500148</td>\n",
       "      <td>0.488131</td>\n",
       "      <td>0.113556</td>\n",
       "      <td>0.044989</td>\n",
       "      <td>0.140585</td>\n",
       "    </tr>\n",
       "    <tr>\n",
       "      <th>ause-rmse</th>\n",
       "      <td>0.506596</td>\n",
       "      <td>0.494519</td>\n",
       "      <td>0.111485</td>\n",
       "      <td>0.045093</td>\n",
       "      <td>0.133984</td>\n",
       "    </tr>\n",
       "    <tr>\n",
       "      <th>mae</th>\n",
       "      <td>0.393665</td>\n",
       "      <td>0.386088</td>\n",
       "      <td>0.089927</td>\n",
       "      <td>0.035168</td>\n",
       "      <td>0.111555</td>\n",
       "    </tr>\n",
       "    <tr>\n",
       "      <th>ause-mae</th>\n",
       "      <td>0.398591</td>\n",
       "      <td>0.391233</td>\n",
       "      <td>0.088243</td>\n",
       "      <td>0.035224</td>\n",
       "      <td>0.105927</td>\n",
       "    </tr>\n",
       "    <tr>\n",
       "      <th>mbe</th>\n",
       "      <td>0.023160</td>\n",
       "      <td>0.021398</td>\n",
       "      <td>0.000097</td>\n",
       "      <td>-0.000439</td>\n",
       "      <td>0.003696</td>\n",
       "    </tr>\n",
       "    <tr>\n",
       "      <th>ause-mbe</th>\n",
       "      <td>0.025394</td>\n",
       "      <td>0.023076</td>\n",
       "      <td>0.000251</td>\n",
       "      <td>-0.000388</td>\n",
       "      <td>0.003514</td>\n",
       "    </tr>\n",
       "  </tbody>\n",
       "</table>\n",
       "</div>"
      ],
      "text/plain": [
       "                       P95     MeanH      Dens      Gini     Cover\n",
       "439    mse        0.325619  0.345869  0.014802  0.002589  0.019557\n",
       "       ause-mse   0.316299  0.332808  0.013426  0.002458  0.017563\n",
       "       rmse       0.546519  0.566615  0.115757  0.048444  0.127427\n",
       "       ause-rmse  0.537798  0.554638  0.110258  0.047084  0.120157\n",
       "       mae        0.435301  0.450296  0.092023  0.037767  0.101679\n",
       "       ause-mae   0.428070  0.440366  0.087426  0.036710  0.095359\n",
       "       mbe       -0.042112 -0.027191 -0.004988 -0.003574 -0.015277\n",
       "       ause-mbe  -0.042008 -0.026560 -0.003587 -0.003595 -0.013693\n",
       "471    mse        0.267499  0.256655  0.014136  0.002227  0.022606\n",
       "       ause-mse   0.261826  0.248938  0.013323  0.002123  0.021195\n",
       "       rmse       0.492878  0.475826  0.113211  0.044448  0.142648\n",
       "       ause-rmse  0.487471  0.468161  0.109352  0.043481  0.136706\n",
       "       mae        0.387137  0.376022  0.089598  0.034760  0.113103\n",
       "       ause-mae   0.382698  0.369817  0.086444  0.034003  0.108049\n",
       "       mbe        0.033394  0.029016  0.000894  0.000052  0.006670\n",
       "       ause-mbe   0.032833  0.028638  0.000985  0.000020  0.006062\n",
       "global mse        0.275376  0.268746  0.014226  0.002276  0.022193\n",
       "       ause-mse   0.283445  0.276293  0.013825  0.002284  0.020663\n",
       "       rmse       0.500148  0.488131  0.113556  0.044989  0.140585\n",
       "       ause-rmse  0.506596  0.494519  0.111485  0.045093  0.133984\n",
       "       mae        0.393665  0.386088  0.089927  0.035168  0.111555\n",
       "       ause-mae   0.398591  0.391233  0.088243  0.035224  0.105927\n",
       "       mbe        0.023160  0.021398  0.000097 -0.000439  0.003696\n",
       "       ause-mbe   0.025394  0.023076  0.000251 -0.000388  0.003514"
      ]
     },
     "execution_count": 5,
     "metadata": {},
     "output_type": "execute_result"
    }
   ],
   "source": [
    "res"
   ]
  },
  {
   "cell_type": "markdown",
   "id": "068d646d",
   "metadata": {},
   "source": [
    "### NLL [pOK]"
   ]
  },
  {
   "cell_type": "code",
   "execution_count": 6,
   "id": "2ebeb291",
   "metadata": {},
   "outputs": [
    {
     "name": "stdout",
     "output_type": "stream",
     "text": [
      "creating\n",
      "adding\n",
      "adding 439\n",
      "[debug:559] nans -> diff: 0.0, variance: 0.0\n",
      "[debug:589] (5, 1000)\n",
      "[debug:600] (5, 1000)\n",
      "[debug:546] Getting: <src.rcu_metrics.StratifiedNLL object at 0x7fd9584bbe10>\n",
      "[debug:184] Arr[2] nan: 0.305 ((1, 1000))\n",
      "[debug:624] (5,) (5,)\n",
      "adding 471\n"
     ]
    },
    {
     "name": "stderr",
     "output_type": "stream",
     "text": [
      "/scratch/ewalt/pdm/rs-uncertainty/src/rcu_metrics.py:13: RuntimeWarning: invalid value encountered in true_divide\n",
      "  return np.nansum(values*counts, axis=axis, keepdims=keepdims)/np.nansum(counts, axis=axis, keepdims=keepdims)\n"
     ]
    },
    {
     "name": "stdout",
     "output_type": "stream",
     "text": [
      "[debug:559] nans -> diff: 0.0, variance: 0.0\n",
      "[debug:589] (5, 1000)\n",
      "[debug:600] (5, 1000)\n",
      "[debug:546] Getting: <src.rcu_metrics.StratifiedNLL object at 0x7fd9584bbe10>\n",
      "[debug:184] Arr[2] nan: 0.438 ((1, 1000))\n",
      "[debug:624] (5,) (5,)\n",
      "[debug:184] Arr[2] nan: 0.3715 ((2, 1000))\n"
     ]
    }
   ],
   "source": [
    "res, rcu = test([\"nll\"], lo_variance, hi_variance, projects, cfg)"
   ]
  },
  {
   "cell_type": "code",
   "execution_count": 7,
   "id": "6128fb50",
   "metadata": {},
   "outputs": [
    {
     "data": {
      "text/html": [
       "<div>\n",
       "<style scoped>\n",
       "    .dataframe tbody tr th:only-of-type {\n",
       "        vertical-align: middle;\n",
       "    }\n",
       "\n",
       "    .dataframe tbody tr th {\n",
       "        vertical-align: top;\n",
       "    }\n",
       "\n",
       "    .dataframe thead th {\n",
       "        text-align: right;\n",
       "    }\n",
       "</style>\n",
       "<table border=\"1\" class=\"dataframe\">\n",
       "  <thead>\n",
       "    <tr style=\"text-align: right;\">\n",
       "      <th></th>\n",
       "      <th></th>\n",
       "      <th>P95</th>\n",
       "      <th>MeanH</th>\n",
       "      <th>Dens</th>\n",
       "      <th>Gini</th>\n",
       "      <th>Cover</th>\n",
       "    </tr>\n",
       "  </thead>\n",
       "  <tbody>\n",
       "    <tr>\n",
       "      <th rowspan=\"2\" valign=\"top\">439</th>\n",
       "      <th>nll</th>\n",
       "      <td>0.962645</td>\n",
       "      <td>0.672108</td>\n",
       "      <td>-1.636143</td>\n",
       "      <td>-2.537406</td>\n",
       "      <td>-1.618837</td>\n",
       "    </tr>\n",
       "    <tr>\n",
       "      <th>ause-nll</th>\n",
       "      <td>0.946107</td>\n",
       "      <td>0.648937</td>\n",
       "      <td>-1.683600</td>\n",
       "      <td>-2.545449</td>\n",
       "      <td>-1.685208</td>\n",
       "    </tr>\n",
       "    <tr>\n",
       "      <th rowspan=\"2\" valign=\"top\">471</th>\n",
       "      <th>nll</th>\n",
       "      <td>0.742455</td>\n",
       "      <td>0.361909</td>\n",
       "      <td>-1.559775</td>\n",
       "      <td>-2.579001</td>\n",
       "      <td>-1.369920</td>\n",
       "    </tr>\n",
       "    <tr>\n",
       "      <th>ause-nll</th>\n",
       "      <td>0.731254</td>\n",
       "      <td>0.345214</td>\n",
       "      <td>-1.599821</td>\n",
       "      <td>-2.594327</td>\n",
       "      <td>-1.425450</td>\n",
       "    </tr>\n",
       "    <tr>\n",
       "      <th rowspan=\"2\" valign=\"top\">global</th>\n",
       "      <th>nll</th>\n",
       "      <td>0.772297</td>\n",
       "      <td>0.403950</td>\n",
       "      <td>-1.570125</td>\n",
       "      <td>-2.573364</td>\n",
       "      <td>-1.403655</td>\n",
       "    </tr>\n",
       "    <tr>\n",
       "      <th>ause-nll</th>\n",
       "      <td>0.782579</td>\n",
       "      <td>0.417078</td>\n",
       "      <td>-1.588992</td>\n",
       "      <td>-2.563738</td>\n",
       "      <td>-1.468072</td>\n",
       "    </tr>\n",
       "  </tbody>\n",
       "</table>\n",
       "</div>"
      ],
      "text/plain": [
       "                      P95     MeanH      Dens      Gini     Cover\n",
       "439    nll       0.962645  0.672108 -1.636143 -2.537406 -1.618837\n",
       "       ause-nll  0.946107  0.648937 -1.683600 -2.545449 -1.685208\n",
       "471    nll       0.742455  0.361909 -1.559775 -2.579001 -1.369920\n",
       "       ause-nll  0.731254  0.345214 -1.599821 -2.594327 -1.425450\n",
       "global nll       0.772297  0.403950 -1.570125 -2.573364 -1.403655\n",
       "       ause-nll  0.782579  0.417078 -1.588992 -2.563738 -1.468072"
      ]
     },
     "execution_count": 7,
     "metadata": {},
     "output_type": "execute_result"
    }
   ],
   "source": [
    "res"
   ]
  },
  {
   "cell_type": "markdown",
   "id": "05d1e59b",
   "metadata": {},
   "source": [
    "### UCE, ENCE [pOK]"
   ]
  },
  {
   "cell_type": "code",
   "execution_count": 8,
   "id": "7aa817dd",
   "metadata": {
    "scrolled": true
   },
   "outputs": [
    {
     "name": "stdout",
     "output_type": "stream",
     "text": [
      "creating\n",
      "adding\n",
      "adding 471\n",
      "[debug:559] nans -> diff: 0.0, variance: 0.0\n",
      "[debug:587] [(5, 1000), (5, 1000)]\n",
      "[debug:591] 0, 0.5102, 0.0\n",
      "[debug:587] [(5, 1000), (5, 1000)]\n",
      "[debug:591] 0, 0.5102, 0.0\n",
      "[debug:546] Getting: <src.rcu_metrics.StratifiedUCE object at 0x7fd9584a7090>\n",
      "[Debug:218] cumX: (5, 1000), cumH: (5, 2, 1000)\n",
      "[debug:624] (5,) (5,)\n",
      "[debug:546] Getting: <src.rcu_metrics.StratifiedENCE object at 0x7fd9584a70d0>\n",
      "[Debug:218] cumX: (5, 1000), cumH: (5, 2, 1000)\n"
     ]
    },
    {
     "name": "stderr",
     "output_type": "stream",
     "text": [
      "/scratch/ewalt/pdm/rs-uncertainty/src/rcu_metrics.py:328: RuntimeWarning: invalid value encountered in true_divide\n",
      "  result = np.abs(result)/np.sqrt(np.nansum(histogram*arr1, axis=self.groups_axis, keepdims=True))\n"
     ]
    },
    {
     "name": "stdout",
     "output_type": "stream",
     "text": [
      "[debug:624] (5,) (5,)\n",
      "adding 439\n",
      "[debug:559] nans -> diff: 0.0, variance: 0.0\n",
      "[debug:587] [(5, 1000), (5, 1000)]\n",
      "[debug:591] 1, 0.5222, 0.0\n",
      "[debug:587] [(5, 1000), (5, 1000)]\n",
      "[debug:591] 1, 0.5222, 0.0\n",
      "[debug:546] Getting: <src.rcu_metrics.StratifiedUCE object at 0x7fd9584a7090>\n",
      "[Debug:218] cumX: (5, 1000), cumH: (5, 2, 1000)\n",
      "[debug:624] (5,) (5,)\n",
      "[debug:546] Getting: <src.rcu_metrics.StratifiedENCE object at 0x7fd9584a70d0>\n",
      "[Debug:218] cumX: (5, 1000), cumH: (5, 2, 1000)\n",
      "[debug:624] (5,) (5,)\n",
      "[Debug:218] cumX: (5, 1000), cumH: (5, 2, 1000)\n",
      "[Debug:218] cumX: (5, 1000), cumH: (5, 2, 1000)\n"
     ]
    }
   ],
   "source": [
    "res, rcu = test([\"uce\", \"ence\"], lo_variance, hi_variance, [projects[1], projects[0]], cfg)"
   ]
  },
  {
   "cell_type": "code",
   "execution_count": 9,
   "id": "79f7da36",
   "metadata": {},
   "outputs": [
    {
     "data": {
      "text/html": [
       "<div>\n",
       "<style scoped>\n",
       "    .dataframe tbody tr th:only-of-type {\n",
       "        vertical-align: middle;\n",
       "    }\n",
       "\n",
       "    .dataframe tbody tr th {\n",
       "        vertical-align: top;\n",
       "    }\n",
       "\n",
       "    .dataframe thead th {\n",
       "        text-align: right;\n",
       "    }\n",
       "</style>\n",
       "<table border=\"1\" class=\"dataframe\">\n",
       "  <thead>\n",
       "    <tr style=\"text-align: right;\">\n",
       "      <th></th>\n",
       "      <th></th>\n",
       "      <th>P95</th>\n",
       "      <th>MeanH</th>\n",
       "      <th>Dens</th>\n",
       "      <th>Gini</th>\n",
       "      <th>Cover</th>\n",
       "    </tr>\n",
       "  </thead>\n",
       "  <tbody>\n",
       "    <tr>\n",
       "      <th rowspan=\"4\" valign=\"top\">471</th>\n",
       "      <th>uce</th>\n",
       "      <td>4.826015</td>\n",
       "      <td>6.130642</td>\n",
       "      <td>13.994750</td>\n",
       "      <td>8.169284</td>\n",
       "      <td>16.260691</td>\n",
       "    </tr>\n",
       "    <tr>\n",
       "      <th>ause-uce</th>\n",
       "      <td>2.359191</td>\n",
       "      <td>2.973686</td>\n",
       "      <td>6.597004</td>\n",
       "      <td>3.914650</td>\n",
       "      <td>7.613376</td>\n",
       "    </tr>\n",
       "    <tr>\n",
       "      <th>ence</th>\n",
       "      <td>0.000203</td>\n",
       "      <td>0.000186</td>\n",
       "      <td>0.000202</td>\n",
       "      <td>0.000203</td>\n",
       "      <td>0.000201</td>\n",
       "    </tr>\n",
       "    <tr>\n",
       "      <th>ause-ence</th>\n",
       "      <td>0.000084</td>\n",
       "      <td>0.000078</td>\n",
       "      <td>0.000087</td>\n",
       "      <td>0.000087</td>\n",
       "      <td>0.000085</td>\n",
       "    </tr>\n",
       "    <tr>\n",
       "      <th rowspan=\"4\" valign=\"top\">439</th>\n",
       "      <th>uce</th>\n",
       "      <td>1.859255</td>\n",
       "      <td>2.441899</td>\n",
       "      <td>5.539462</td>\n",
       "      <td>3.230504</td>\n",
       "      <td>6.134424</td>\n",
       "    </tr>\n",
       "    <tr>\n",
       "      <th>ause-uce</th>\n",
       "      <td>1.768784</td>\n",
       "      <td>2.281610</td>\n",
       "      <td>5.099823</td>\n",
       "      <td>3.009890</td>\n",
       "      <td>5.743859</td>\n",
       "    </tr>\n",
       "    <tr>\n",
       "      <th>ence</th>\n",
       "      <td>0.000140</td>\n",
       "      <td>0.000201</td>\n",
       "      <td>0.000199</td>\n",
       "      <td>0.000180</td>\n",
       "      <td>0.000194</td>\n",
       "    </tr>\n",
       "    <tr>\n",
       "      <th>ause-ence</th>\n",
       "      <td>0.000066</td>\n",
       "      <td>0.000083</td>\n",
       "      <td>0.000086</td>\n",
       "      <td>0.000086</td>\n",
       "      <td>0.000083</td>\n",
       "    </tr>\n",
       "    <tr>\n",
       "      <th rowspan=\"4\" valign=\"top\">global</th>\n",
       "      <th>uce</th>\n",
       "      <td>5.168083</td>\n",
       "      <td>2.441899</td>\n",
       "      <td>0.007108</td>\n",
       "      <td>0.000926</td>\n",
       "      <td>0.010680</td>\n",
       "    </tr>\n",
       "    <tr>\n",
       "      <th>ause-uce</th>\n",
       "      <td>4.910363</td>\n",
       "      <td>2.281610</td>\n",
       "      <td>0.005283</td>\n",
       "      <td>0.000686</td>\n",
       "      <td>0.008649</td>\n",
       "    </tr>\n",
       "    <tr>\n",
       "      <th>ence</th>\n",
       "      <td>0.000195</td>\n",
       "      <td>0.000201</td>\n",
       "      <td>0.000111</td>\n",
       "      <td>0.000102</td>\n",
       "      <td>0.000089</td>\n",
       "    </tr>\n",
       "    <tr>\n",
       "      <th>ause-ence</th>\n",
       "      <td>0.000084</td>\n",
       "      <td>0.000083</td>\n",
       "      <td>0.000034</td>\n",
       "      <td>0.000032</td>\n",
       "      <td>0.000028</td>\n",
       "    </tr>\n",
       "  </tbody>\n",
       "</table>\n",
       "</div>"
      ],
      "text/plain": [
       "                       P95     MeanH       Dens      Gini      Cover\n",
       "471    uce        4.826015  6.130642  13.994750  8.169284  16.260691\n",
       "       ause-uce   2.359191  2.973686   6.597004  3.914650   7.613376\n",
       "       ence       0.000203  0.000186   0.000202  0.000203   0.000201\n",
       "       ause-ence  0.000084  0.000078   0.000087  0.000087   0.000085\n",
       "439    uce        1.859255  2.441899   5.539462  3.230504   6.134424\n",
       "       ause-uce   1.768784  2.281610   5.099823  3.009890   5.743859\n",
       "       ence       0.000140  0.000201   0.000199  0.000180   0.000194\n",
       "       ause-ence  0.000066  0.000083   0.000086  0.000086   0.000083\n",
       "global uce        5.168083  2.441899   0.007108  0.000926   0.010680\n",
       "       ause-uce   4.910363  2.281610   0.005283  0.000686   0.008649\n",
       "       ence       0.000195  0.000201   0.000111  0.000102   0.000089\n",
       "       ause-ence  0.000084  0.000083   0.000034  0.000032   0.000028"
      ]
     },
     "execution_count": 9,
     "metadata": {},
     "output_type": "execute_result"
    }
   ],
   "source": [
    "res"
   ]
  },
  {
   "cell_type": "markdown",
   "id": "d77e8897",
   "metadata": {},
   "source": [
    "### CI90 [pOK]"
   ]
  },
  {
   "cell_type": "code",
   "execution_count": 10,
   "id": "f4ff36b5",
   "metadata": {},
   "outputs": [
    {
     "name": "stdout",
     "output_type": "stream",
     "text": [
      "creating\n",
      "adding\n",
      "adding 439\n",
      "[debug:559] nans -> diff: 0.0, variance: 0.0\n",
      "[debug:589] (5, 1000)\n",
      "[debug:600] (5, 1000)\n",
      "[debug:546] Getting: <src.rcu_metrics.StratifiedCIAccuracy object at 0x7fd9584bbcd0>\n",
      "[debug:184] Arr[2] nan: 0.305 ((1, 1000))\n",
      "[debug:624] (5,) (5,)\n",
      "adding 471\n"
     ]
    },
    {
     "name": "stderr",
     "output_type": "stream",
     "text": [
      "/scratch/ewalt/pdm/rs-uncertainty/src/rcu_metrics.py:13: RuntimeWarning: invalid value encountered in true_divide\n",
      "  return np.nansum(values*counts, axis=axis, keepdims=keepdims)/np.nansum(counts, axis=axis, keepdims=keepdims)\n"
     ]
    },
    {
     "name": "stdout",
     "output_type": "stream",
     "text": [
      "[debug:559] nans -> diff: 0.0, variance: 0.0\n",
      "[debug:589] (5, 1000)\n",
      "[debug:600] (5, 1000)\n",
      "[debug:546] Getting: <src.rcu_metrics.StratifiedCIAccuracy object at 0x7fd9584bbcd0>\n",
      "[debug:184] Arr[2] nan: 0.438 ((1, 1000))\n",
      "[debug:624] (5,) (5,)\n",
      "[debug:184] Arr[2] nan: 0.3715 ((2, 1000))\n"
     ]
    }
   ],
   "source": [
    "res, rcu = test([\"ci90_accs\"], lo_variance, hi_variance, projects, cfg)"
   ]
  },
  {
   "cell_type": "code",
   "execution_count": 11,
   "id": "0c5b2867",
   "metadata": {},
   "outputs": [
    {
     "data": {
      "text/html": [
       "<div>\n",
       "<style scoped>\n",
       "    .dataframe tbody tr th:only-of-type {\n",
       "        vertical-align: middle;\n",
       "    }\n",
       "\n",
       "    .dataframe tbody tr th {\n",
       "        vertical-align: top;\n",
       "    }\n",
       "\n",
       "    .dataframe thead th {\n",
       "        text-align: right;\n",
       "    }\n",
       "</style>\n",
       "<table border=\"1\" class=\"dataframe\">\n",
       "  <thead>\n",
       "    <tr style=\"text-align: right;\">\n",
       "      <th></th>\n",
       "      <th></th>\n",
       "      <th>P95</th>\n",
       "      <th>MeanH</th>\n",
       "      <th>Dens</th>\n",
       "      <th>Gini</th>\n",
       "      <th>Cover</th>\n",
       "    </tr>\n",
       "  </thead>\n",
       "  <tbody>\n",
       "    <tr>\n",
       "      <th rowspan=\"2\" valign=\"top\">439</th>\n",
       "      <th>ci90_accs</th>\n",
       "      <td>0.999993</td>\n",
       "      <td>0.999857</td>\n",
       "      <td>0.821685</td>\n",
       "      <td>0.852386</td>\n",
       "      <td>0.853149</td>\n",
       "    </tr>\n",
       "    <tr>\n",
       "      <th>ause-ci90_accs</th>\n",
       "      <td>0.995993</td>\n",
       "      <td>0.995846</td>\n",
       "      <td>0.821412</td>\n",
       "      <td>0.847530</td>\n",
       "      <td>0.855276</td>\n",
       "    </tr>\n",
       "    <tr>\n",
       "      <th rowspan=\"2\" valign=\"top\">471</th>\n",
       "      <th>ci90_accs</th>\n",
       "      <td>0.999852</td>\n",
       "      <td>0.999617</td>\n",
       "      <td>0.763954</td>\n",
       "      <td>0.808580</td>\n",
       "      <td>0.788883</td>\n",
       "    </tr>\n",
       "    <tr>\n",
       "      <th>ause-ci90_accs</th>\n",
       "      <td>0.997848</td>\n",
       "      <td>0.997606</td>\n",
       "      <td>0.765335</td>\n",
       "      <td>0.807590</td>\n",
       "      <td>0.793129</td>\n",
       "    </tr>\n",
       "    <tr>\n",
       "      <th rowspan=\"2\" valign=\"top\">global</th>\n",
       "      <th>ci90_accs</th>\n",
       "      <td>0.999871</td>\n",
       "      <td>0.999649</td>\n",
       "      <td>0.771778</td>\n",
       "      <td>0.814517</td>\n",
       "      <td>0.797593</td>\n",
       "    </tr>\n",
       "    <tr>\n",
       "      <th>ause-ci90_accs</th>\n",
       "      <td>0.997850</td>\n",
       "      <td>0.997624</td>\n",
       "      <td>0.770584</td>\n",
       "      <td>0.811998</td>\n",
       "      <td>0.802726</td>\n",
       "    </tr>\n",
       "  </tbody>\n",
       "</table>\n",
       "</div>"
      ],
      "text/plain": [
       "                            P95     MeanH      Dens      Gini     Cover\n",
       "439    ci90_accs       0.999993  0.999857  0.821685  0.852386  0.853149\n",
       "       ause-ci90_accs  0.995993  0.995846  0.821412  0.847530  0.855276\n",
       "471    ci90_accs       0.999852  0.999617  0.763954  0.808580  0.788883\n",
       "       ause-ci90_accs  0.997848  0.997606  0.765335  0.807590  0.793129\n",
       "global ci90_accs       0.999871  0.999649  0.771778  0.814517  0.797593\n",
       "       ause-ci90_accs  0.997850  0.997624  0.770584  0.811998  0.802726"
      ]
     },
     "execution_count": 11,
     "metadata": {},
     "output_type": "execute_result"
    }
   ],
   "source": [
    "res"
   ]
  },
  {
   "cell_type": "markdown",
   "id": "de70dbac",
   "metadata": {},
   "source": [
    "### AUCE [pOK]"
   ]
  },
  {
   "cell_type": "code",
   "execution_count": 14,
   "id": "e495fed2",
   "metadata": {},
   "outputs": [
    {
     "name": "stdout",
     "output_type": "stream",
     "text": [
      "creating\n",
      "adding\n",
      "adding 439\n",
      "[debug:559] nans -> diff: 0.0, variance: 0.0\n",
      "[debug:589] (5, 1000, 100)\n",
      "[debug:600] (5, 1000, 100)\n",
      "[debug:546] Getting: <src.rcu_metrics.StratifiedAUCE object at 0x7fd958443210>\n",
      "[debug:184] Arr[2] nan: 0.305 ((1, 1000, 100))\n"
     ]
    },
    {
     "name": "stderr",
     "output_type": "stream",
     "text": [
      "/scratch/ewalt/pdm/rs-uncertainty/src/rcu_metrics.py:13: RuntimeWarning: invalid value encountered in true_divide\n",
      "  return np.nansum(values*counts, axis=axis, keepdims=keepdims)/np.nansum(counts, axis=axis, keepdims=keepdims)\n"
     ]
    },
    {
     "name": "stdout",
     "output_type": "stream",
     "text": [
      "[debug:624] (5,) (5,)\n",
      "adding 471\n",
      "[debug:559] nans -> diff: 0.0, variance: 0.0\n",
      "[debug:589] (5, 1000, 100)\n",
      "[debug:600] (5, 1000, 100)\n",
      "[debug:546] Getting: <src.rcu_metrics.StratifiedAUCE object at 0x7fd958443210>\n",
      "[debug:184] Arr[2] nan: 0.438 ((1, 1000, 100))\n",
      "[debug:624] (5,) (5,)\n",
      "[debug:184] Arr[2] nan: 0.3715 ((2, 1000, 100))\n"
     ]
    }
   ],
   "source": [
    "res, rcu = test([\"auce\"], lo_variance, hi_variance, projects, cfg)"
   ]
  },
  {
   "cell_type": "code",
   "execution_count": 15,
   "id": "3c02a09e",
   "metadata": {},
   "outputs": [
    {
     "data": {
      "text/html": [
       "<div>\n",
       "<style scoped>\n",
       "    .dataframe tbody tr th:only-of-type {\n",
       "        vertical-align: middle;\n",
       "    }\n",
       "\n",
       "    .dataframe tbody tr th {\n",
       "        vertical-align: top;\n",
       "    }\n",
       "\n",
       "    .dataframe thead th {\n",
       "        text-align: right;\n",
       "    }\n",
       "</style>\n",
       "<table border=\"1\" class=\"dataframe\">\n",
       "  <thead>\n",
       "    <tr style=\"text-align: right;\">\n",
       "      <th></th>\n",
       "      <th></th>\n",
       "      <th>P95</th>\n",
       "      <th>MeanH</th>\n",
       "      <th>Dens</th>\n",
       "      <th>Gini</th>\n",
       "      <th>Cover</th>\n",
       "    </tr>\n",
       "  </thead>\n",
       "  <tbody>\n",
       "    <tr>\n",
       "      <th rowspan=\"2\" valign=\"top\">439</th>\n",
       "      <th>auce</th>\n",
       "      <td>0.368993</td>\n",
       "      <td>0.317995</td>\n",
       "      <td>0.067401</td>\n",
       "      <td>0.036826</td>\n",
       "      <td>0.065870</td>\n",
       "    </tr>\n",
       "    <tr>\n",
       "      <th>ause-auce</th>\n",
       "      <td>0.367661</td>\n",
       "      <td>0.316630</td>\n",
       "      <td>0.066651</td>\n",
       "      <td>0.036606</td>\n",
       "      <td>0.064691</td>\n",
       "    </tr>\n",
       "    <tr>\n",
       "      <th rowspan=\"2\" valign=\"top\">471</th>\n",
       "      <th>auce</th>\n",
       "      <td>0.355436</td>\n",
       "      <td>0.298897</td>\n",
       "      <td>0.104811</td>\n",
       "      <td>0.070676</td>\n",
       "      <td>0.097014</td>\n",
       "    </tr>\n",
       "    <tr>\n",
       "      <th>ause-auce</th>\n",
       "      <td>0.354704</td>\n",
       "      <td>0.298232</td>\n",
       "      <td>0.102536</td>\n",
       "      <td>0.069996</td>\n",
       "      <td>0.094326</td>\n",
       "    </tr>\n",
       "    <tr>\n",
       "      <th rowspan=\"2\" valign=\"top\">global</th>\n",
       "      <th>auce</th>\n",
       "      <td>0.357274</td>\n",
       "      <td>0.301485</td>\n",
       "      <td>0.099741</td>\n",
       "      <td>0.066089</td>\n",
       "      <td>0.092793</td>\n",
       "    </tr>\n",
       "    <tr>\n",
       "      <th>ause-auce</th>\n",
       "      <td>0.356379</td>\n",
       "      <td>0.300839</td>\n",
       "      <td>0.099267</td>\n",
       "      <td>0.066479</td>\n",
       "      <td>0.089476</td>\n",
       "    </tr>\n",
       "  </tbody>\n",
       "</table>\n",
       "</div>"
      ],
      "text/plain": [
       "                       P95     MeanH      Dens      Gini     Cover\n",
       "439    auce       0.368993  0.317995  0.067401  0.036826  0.065870\n",
       "       ause-auce  0.367661  0.316630  0.066651  0.036606  0.064691\n",
       "471    auce       0.355436  0.298897  0.104811  0.070676  0.097014\n",
       "       ause-auce  0.354704  0.298232  0.102536  0.069996  0.094326\n",
       "global auce       0.357274  0.301485  0.099741  0.066089  0.092793\n",
       "       ause-auce  0.356379  0.300839  0.099267  0.066479  0.089476"
      ]
     },
     "execution_count": 15,
     "metadata": {},
     "output_type": "execute_result"
    }
   ],
   "source": [
    "res"
   ]
  },
  {
   "cell_type": "markdown",
   "id": "77100148",
   "metadata": {},
   "source": [
    "### C_v [pOK]"
   ]
  },
  {
   "cell_type": "code",
   "execution_count": 16,
   "id": "42f869d8",
   "metadata": {},
   "outputs": [
    {
     "name": "stdout",
     "output_type": "stream",
     "text": [
      "creating\n",
      "adding\n",
      "adding 439\n",
      "[debug:559] nans -> diff: 0.0, variance: 0.0\n",
      "[debug:587] [(5, 1000), (5, 1000)]\n",
      "[debug:591] 0, 0.5222, 0.0\n",
      "[debug:546] Getting: <src.rcu_metrics.StratifiedCv object at 0x7fd958443bd0>\n",
      "[Debug:218] cumX: (5, 1000), cumH: (5, 2, 1000)\n",
      "[debug:624] (5,) (5,)\n",
      "adding 471\n"
     ]
    },
    {
     "name": "stderr",
     "output_type": "stream",
     "text": [
      "/scratch/ewalt/pdm/rs-uncertainty/src/rcu_metrics.py:13: RuntimeWarning: invalid value encountered in true_divide\n",
      "  return np.nansum(values*counts, axis=axis, keepdims=keepdims)/np.nansum(counts, axis=axis, keepdims=keepdims)\n",
      "/scratch/ewalt/pdm/rs-uncertainty/src/rcu_metrics.py:404: RuntimeWarning: invalid value encountered in true_divide\n",
      "  result = np.sqrt(np.nansum(arr2, axis=axes, keepdims=True)/(np.nansum(histogram, axis=axes, keepdims=True)-1))/mu\n",
      "/scratch/ewalt/pdm/rs-uncertainty/src/rcu_metrics.py:404: RuntimeWarning: invalid value encountered in sqrt\n",
      "  result = np.sqrt(np.nansum(arr2, axis=axes, keepdims=True)/(np.nansum(histogram, axis=axes, keepdims=True)-1))/mu\n"
     ]
    },
    {
     "name": "stdout",
     "output_type": "stream",
     "text": [
      "[debug:559] nans -> diff: 0.0, variance: 0.0\n",
      "[debug:587] [(5, 1000), (5, 1000)]\n",
      "[debug:591] 1, 0.5102, 0.0\n",
      "[debug:546] Getting: <src.rcu_metrics.StratifiedCv object at 0x7fd958443bd0>\n",
      "[Debug:218] cumX: (5, 1000), cumH: (5, 2, 1000)\n",
      "[debug:624] (5,) (5,)\n",
      "[Debug:218] cumX: (5, 1000), cumH: (5, 2, 1000)\n"
     ]
    }
   ],
   "source": [
    "res, rcu = test([\"cv\"], lo_variance, hi_variance, projects, cfg)"
   ]
  },
  {
   "cell_type": "code",
   "execution_count": 17,
   "id": "7e22dd64",
   "metadata": {},
   "outputs": [
    {
     "data": {
      "text/html": [
       "<div>\n",
       "<style scoped>\n",
       "    .dataframe tbody tr th:only-of-type {\n",
       "        vertical-align: middle;\n",
       "    }\n",
       "\n",
       "    .dataframe tbody tr th {\n",
       "        vertical-align: top;\n",
       "    }\n",
       "\n",
       "    .dataframe thead th {\n",
       "        text-align: right;\n",
       "    }\n",
       "</style>\n",
       "<table border=\"1\" class=\"dataframe\">\n",
       "  <thead>\n",
       "    <tr style=\"text-align: right;\">\n",
       "      <th></th>\n",
       "      <th></th>\n",
       "      <th>P95</th>\n",
       "      <th>MeanH</th>\n",
       "      <th>Dens</th>\n",
       "      <th>Gini</th>\n",
       "      <th>Cover</th>\n",
       "    </tr>\n",
       "  </thead>\n",
       "  <tbody>\n",
       "    <tr>\n",
       "      <th rowspan=\"2\" valign=\"top\">439</th>\n",
       "      <th>cv</th>\n",
       "      <td>0.006044</td>\n",
       "      <td>0.005152</td>\n",
       "      <td>0.003871</td>\n",
       "      <td>0.004707</td>\n",
       "      <td>0.004296</td>\n",
       "    </tr>\n",
       "    <tr>\n",
       "      <th>ause-cv</th>\n",
       "      <td>0.008827</td>\n",
       "      <td>0.007887</td>\n",
       "      <td>0.007660</td>\n",
       "      <td>0.008074</td>\n",
       "      <td>0.006905</td>\n",
       "    </tr>\n",
       "    <tr>\n",
       "      <th rowspan=\"2\" valign=\"top\">471</th>\n",
       "      <th>cv</th>\n",
       "      <td>0.009312</td>\n",
       "      <td>0.008257</td>\n",
       "      <td>0.005409</td>\n",
       "      <td>0.007123</td>\n",
       "      <td>0.005156</td>\n",
       "    </tr>\n",
       "    <tr>\n",
       "      <th>ause-cv</th>\n",
       "      <td>0.008990</td>\n",
       "      <td>0.007995</td>\n",
       "      <td>0.006896</td>\n",
       "      <td>0.008058</td>\n",
       "      <td>0.006155</td>\n",
       "    </tr>\n",
       "    <tr>\n",
       "      <th rowspan=\"2\" valign=\"top\">global</th>\n",
       "      <th>cv</th>\n",
       "      <td>0.009032</td>\n",
       "      <td>0.008257</td>\n",
       "      <td>0.003010</td>\n",
       "      <td>0.004724</td>\n",
       "      <td>0.003838</td>\n",
       "    </tr>\n",
       "    <tr>\n",
       "      <th>ause-cv</th>\n",
       "      <td>0.008559</td>\n",
       "      <td>0.007995</td>\n",
       "      <td>0.003157</td>\n",
       "      <td>0.004594</td>\n",
       "      <td>0.004731</td>\n",
       "    </tr>\n",
       "  </tbody>\n",
       "</table>\n",
       "</div>"
      ],
      "text/plain": [
       "                     P95     MeanH      Dens      Gini     Cover\n",
       "439    cv       0.006044  0.005152  0.003871  0.004707  0.004296\n",
       "       ause-cv  0.008827  0.007887  0.007660  0.008074  0.006905\n",
       "471    cv       0.009312  0.008257  0.005409  0.007123  0.005156\n",
       "       ause-cv  0.008990  0.007995  0.006896  0.008058  0.006155\n",
       "global cv       0.009032  0.008257  0.003010  0.004724  0.003838\n",
       "       ause-cv  0.008559  0.007995  0.003157  0.004594  0.004731"
      ]
     },
     "execution_count": 17,
     "metadata": {},
     "output_type": "execute_result"
    }
   ],
   "source": [
    "res"
   ]
  },
  {
   "cell_type": "markdown",
   "id": "26e94854",
   "metadata": {},
   "source": [
    "### SRP [pOK]"
   ]
  },
  {
   "cell_type": "code",
   "execution_count": 18,
   "id": "9fb2789d",
   "metadata": {},
   "outputs": [
    {
     "name": "stdout",
     "output_type": "stream",
     "text": [
      "creating\n",
      "adding\n",
      "adding 439\n",
      "[debug:559] nans -> diff: 0.0, variance: 0.0\n",
      "[debug:589] (5, 1000)\n",
      "[debug:600] (5, 1000)\n",
      "[debug:546] Getting: <src.rcu_metrics.StratifiedSRP object at 0x7fd958453b10>\n",
      "[debug:184] Arr[2] nan: 0.305 ((1, 1000))\n",
      "[debug:624] (5,) (5,)\n",
      "adding 471\n"
     ]
    },
    {
     "name": "stderr",
     "output_type": "stream",
     "text": [
      "/scratch/ewalt/pdm/rs-uncertainty/src/rcu_metrics.py:13: RuntimeWarning: invalid value encountered in true_divide\n",
      "  return np.nansum(values*counts, axis=axis, keepdims=keepdims)/np.nansum(counts, axis=axis, keepdims=keepdims)\n"
     ]
    },
    {
     "name": "stdout",
     "output_type": "stream",
     "text": [
      "[debug:559] nans -> diff: 0.0, variance: 0.0\n",
      "[debug:589] (5, 1000)\n",
      "[debug:600] (5, 1000)\n",
      "[debug:546] Getting: <src.rcu_metrics.StratifiedSRP object at 0x7fd958453b10>\n",
      "[debug:184] Arr[2] nan: 0.438 ((1, 1000))\n",
      "[debug:624] (5,) (5,)\n",
      "[debug:184] Arr[2] nan: 0.3715 ((2, 1000))\n"
     ]
    }
   ],
   "source": [
    "res, rcu = test([\"srp\"], lo_variance, hi_variance, projects, cfg)"
   ]
  },
  {
   "cell_type": "code",
   "execution_count": 19,
   "id": "6ad51f6a",
   "metadata": {},
   "outputs": [
    {
     "data": {
      "text/html": [
       "<div>\n",
       "<style scoped>\n",
       "    .dataframe tbody tr th:only-of-type {\n",
       "        vertical-align: middle;\n",
       "    }\n",
       "\n",
       "    .dataframe tbody tr th {\n",
       "        vertical-align: top;\n",
       "    }\n",
       "\n",
       "    .dataframe thead th {\n",
       "        text-align: right;\n",
       "    }\n",
       "</style>\n",
       "<table border=\"1\" class=\"dataframe\">\n",
       "  <thead>\n",
       "    <tr style=\"text-align: right;\">\n",
       "      <th></th>\n",
       "      <th></th>\n",
       "      <th>P95</th>\n",
       "      <th>MeanH</th>\n",
       "      <th>Dens</th>\n",
       "      <th>Gini</th>\n",
       "      <th>Cover</th>\n",
       "    </tr>\n",
       "  </thead>\n",
       "  <tbody>\n",
       "    <tr>\n",
       "      <th rowspan=\"2\" valign=\"top\">439</th>\n",
       "      <th>srp</th>\n",
       "      <td>7.675559</td>\n",
       "      <td>4.135724</td>\n",
       "      <td>0.009542</td>\n",
       "      <td>0.001838</td>\n",
       "      <td>0.012452</td>\n",
       "    </tr>\n",
       "    <tr>\n",
       "      <th>ause-srp</th>\n",
       "      <td>7.447388</td>\n",
       "      <td>3.965252</td>\n",
       "      <td>0.008634</td>\n",
       "      <td>0.001747</td>\n",
       "      <td>0.011087</td>\n",
       "    </tr>\n",
       "    <tr>\n",
       "      <th rowspan=\"2\" valign=\"top\">471</th>\n",
       "      <th>srp</th>\n",
       "      <td>5.093514</td>\n",
       "      <td>2.487223</td>\n",
       "      <td>0.006748</td>\n",
       "      <td>0.001285</td>\n",
       "      <td>0.011395</td>\n",
       "    </tr>\n",
       "    <tr>\n",
       "      <th>ause-srp</th>\n",
       "      <td>4.980209</td>\n",
       "      <td>2.408655</td>\n",
       "      <td>0.006345</td>\n",
       "      <td>0.001225</td>\n",
       "      <td>0.010625</td>\n",
       "    </tr>\n",
       "    <tr>\n",
       "      <th rowspan=\"2\" valign=\"top\">global</th>\n",
       "      <th>srp</th>\n",
       "      <td>5.443459</td>\n",
       "      <td>2.710645</td>\n",
       "      <td>0.007127</td>\n",
       "      <td>0.001360</td>\n",
       "      <td>0.011538</td>\n",
       "    </tr>\n",
       "    <tr>\n",
       "      <th>ause-srp</th>\n",
       "      <td>5.564700</td>\n",
       "      <td>2.775924</td>\n",
       "      <td>0.006880</td>\n",
       "      <td>0.001349</td>\n",
       "      <td>0.010728</td>\n",
       "    </tr>\n",
       "  </tbody>\n",
       "</table>\n",
       "</div>"
      ],
      "text/plain": [
       "                      P95     MeanH      Dens      Gini     Cover\n",
       "439    srp       7.675559  4.135724  0.009542  0.001838  0.012452\n",
       "       ause-srp  7.447388  3.965252  0.008634  0.001747  0.011087\n",
       "471    srp       5.093514  2.487223  0.006748  0.001285  0.011395\n",
       "       ause-srp  4.980209  2.408655  0.006345  0.001225  0.010625\n",
       "global srp       5.443459  2.710645  0.007127  0.001360  0.011538\n",
       "       ause-srp  5.564700  2.775924  0.006880  0.001349  0.010728"
      ]
     },
     "execution_count": 19,
     "metadata": {},
     "output_type": "execute_result"
    }
   ],
   "source": [
    "res"
   ]
  },
  {
   "cell_type": "code",
   "execution_count": 23,
   "id": "22b2d3fc",
   "metadata": {},
   "outputs": [],
   "source": [
    "class A():\n",
    "    def __init__(self, x):\n",
    "        self.x = x\n",
    "    def copy(self):\n",
    "        return self.__class__(self.x)\n",
    "    def __repr__(self):\n",
    "        return f\"A(x={self.x})\""
   ]
  },
  {
   "cell_type": "code",
   "execution_count": 26,
   "id": "ea65d5cb",
   "metadata": {},
   "outputs": [
    {
     "data": {
      "text/plain": [
       "(A(x=10), A(x=20))"
      ]
     },
     "execution_count": 26,
     "metadata": {},
     "output_type": "execute_result"
    }
   ],
   "source": [
    "a1 = A(10)\n",
    "a2 = a1.copy()\n",
    "a2.x += 10\n",
    "a1, a2"
   ]
  },
  {
   "cell_type": "code",
   "execution_count": 28,
   "id": "948f5758",
   "metadata": {},
   "outputs": [
    {
     "data": {
      "text/plain": [
       "[array([0, 1]), array([2, 3]), array([4, 5]), array([6, 7]), array([8, 9])]"
      ]
     },
     "execution_count": 28,
     "metadata": {},
     "output_type": "execute_result"
    }
   ],
   "source": [
    "# upsampling 10 -> 5\n",
    "num_bins = 10\n",
    "k = 2\n",
    "bin_map = [np.arange(i, i+k) for i in np.arange(0, num_bins, k)]\n",
    "bin_map"
   ]
  },
  {
   "cell_type": "code",
   "execution_count": 30,
   "id": "cf1724bf",
   "metadata": {},
   "outputs": [
    {
     "data": {
      "text/plain": [
       "((5, 10, 3), (5, 10))"
      ]
     },
     "execution_count": 30,
     "metadata": {},
     "output_type": "execute_result"
    }
   ],
   "source": [
    "np.ones((5, 10, 1000))[:,:,[0,10,23]].shape, np.ones((5, 10, 1000))[:,:,1].shape, "
   ]
  },
  {
   "cell_type": "code",
   "execution_count": 32,
   "id": "8e25a986",
   "metadata": {},
   "outputs": [
    {
     "ename": "TypeError",
     "evalue": "can only concatenate tuple (not \"int\") to tuple",
     "output_type": "error",
     "traceback": [
      "\u001b[0;31m---------------------------------------------------------------------------\u001b[0m",
      "\u001b[0;31mTypeError\u001b[0m                                 Traceback (most recent call last)",
      "\u001b[0;32m/tmp/ipykernel_2519222/4281734113.py\u001b[0m in \u001b[0;36m<module>\u001b[0;34m\u001b[0m\n\u001b[1;32m      1\u001b[0m \u001b[0mx\u001b[0m \u001b[0;34m=\u001b[0m \u001b[0;34m(\u001b[0m\u001b[0;36m1\u001b[0m\u001b[0;34m,\u001b[0m\u001b[0;36m2\u001b[0m\u001b[0;34m,\u001b[0m\u001b[0;36m3\u001b[0m\u001b[0;34m)\u001b[0m\u001b[0;34m\u001b[0m\u001b[0;34m\u001b[0m\u001b[0m\n\u001b[0;32m----> 2\u001b[0;31m \u001b[0mx\u001b[0m \u001b[0;34m+=\u001b[0m \u001b[0;34m(\u001b[0m\u001b[0;36m1\u001b[0m\u001b[0;34m)\u001b[0m\u001b[0;34m\u001b[0m\u001b[0;34m\u001b[0m\u001b[0m\n\u001b[0m\u001b[1;32m      3\u001b[0m \u001b[0mx\u001b[0m\u001b[0;34m\u001b[0m\u001b[0;34m\u001b[0m\u001b[0m\n",
      "\u001b[0;31mTypeError\u001b[0m: can only concatenate tuple (not \"int\") to tuple"
     ]
    }
   ],
   "source": [
    "x = (1,2,3)\n",
    "x += (1)\n",
    "x"
   ]
  },
  {
   "cell_type": "code",
   "execution_count": null,
   "id": "18d73074",
   "metadata": {},
   "outputs": [],
   "source": []
  }
 ],
 "metadata": {
  "kernelspec": {
   "display_name": "Python (bfs-3.7)",
   "language": "python",
   "name": "bfs-3.7"
  },
  "language_info": {
   "codemirror_mode": {
    "name": "ipython",
    "version": 3
   },
   "file_extension": ".py",
   "mimetype": "text/x-python",
   "name": "python",
   "nbconvert_exporter": "python",
   "pygments_lexer": "ipython3",
   "version": "3.7.4"
  }
 },
 "nbformat": 4,
 "nbformat_minor": 5
}
