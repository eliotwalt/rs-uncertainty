{
 "cells": [
  {
   "cell_type": "code",
   "execution_count": 41,
   "id": "3666a911",
   "metadata": {},
   "outputs": [
    {
     "name": "stdout",
     "output_type": "stream",
     "text": [
      "The autoreload extension is already loaded. To reload it, use:\n",
      "  %reload_ext autoreload\n"
     ]
    }
   ],
   "source": [
    "%load_ext autoreload\n",
    "%autoreload 2\n",
    "import os\n",
    "os.chdir(\"/scratch/ewalt/pdm/rs-uncertainty\")\n",
    "import matplotlib.pyplot as plt\n",
    "from src.metrics import StratifiedRCU\n",
    "from src.viz import CloudThresholdVisualizer\n",
    "import wandb"
   ]
  },
  {
   "cell_type": "markdown",
   "id": "2bf138c8",
   "metadata": {},
   "source": [
    "## Configure runs"
   ]
  },
  {
   "cell_type": "code",
   "execution_count": 18,
   "id": "870a4537",
   "metadata": {},
   "outputs": [],
   "source": [
    "entity_name = \"elwalt\"\n",
    "project_name = \"rcu-evaluation\"\n",
    "runs_dir = \"results\"\n",
    "run_names = [\n",
    "    \"2023-04-26_11-03-49_cloud_threshold_0-01\",\n",
    "    \"2023-04-26_11-03-49_baseline\",\n",
    "    \"2023-04-26_11-03-49_cloud_threshold_0-25\",\n",
    "    \"2023-04-26_11-03-49_cloud_threshold_0-50\",\n",
    "    \"2023-04-26_11-03-47_cloud_threshold_0-75\",\n",
    "    \"2023-04-26_11-03-47_cloud_threshold_1-00\",\n",
    "]"
   ]
  },
  {
   "cell_type": "code",
   "execution_count": 19,
   "id": "6df6111f",
   "metadata": {},
   "outputs": [],
   "source": [
    "api = wandb.Api?"
   ]
  },
  {
   "cell_type": "code",
   "execution_count": 20,
   "id": "4e248ded",
   "metadata": {},
   "outputs": [],
   "source": [
    "api = wandb.Api()"
   ]
  },
  {
   "cell_type": "code",
   "execution_count": 21,
   "id": "6d8df59c",
   "metadata": {},
   "outputs": [],
   "source": [
    "project = api.project(name=\"rcu-evaluation\")"
   ]
  },
  {
   "cell_type": "code",
   "execution_count": 28,
   "id": "73055754",
   "metadata": {},
   "outputs": [
    {
     "ename": "ValueError",
     "evalue": "Could not find run <Run elwalt/rcu-evaluation/2023-04-26_11-03-47_cloud_threshold_1-00 (not found)>",
     "output_type": "error",
     "traceback": [
      "\u001b[0;31m---------------------------------------------------------------------------\u001b[0m",
      "\u001b[0;31mValueError\u001b[0m                                Traceback (most recent call last)",
      "\u001b[0;32m/tmp/ipykernel_596025/4165680858.py\u001b[0m in \u001b[0;36m<module>\u001b[0;34m\u001b[0m\n\u001b[0;32m----> 1\u001b[0;31m \u001b[0mrun\u001b[0m \u001b[0;34m=\u001b[0m \u001b[0mwandb\u001b[0m\u001b[0;34m.\u001b[0m\u001b[0mapis\u001b[0m\u001b[0;34m.\u001b[0m\u001b[0mpublic\u001b[0m\u001b[0;34m.\u001b[0m\u001b[0mRun\u001b[0m\u001b[0;34m(\u001b[0m\u001b[0mclient\u001b[0m\u001b[0;34m=\u001b[0m\u001b[0mapi\u001b[0m\u001b[0;34m.\u001b[0m\u001b[0mclient\u001b[0m\u001b[0;34m,\u001b[0m \u001b[0mentity\u001b[0m\u001b[0;34m=\u001b[0m\u001b[0mentity_name\u001b[0m\u001b[0;34m,\u001b[0m \u001b[0mproject\u001b[0m\u001b[0;34m=\u001b[0m\u001b[0mproject_name\u001b[0m\u001b[0;34m,\u001b[0m \u001b[0mrun_id\u001b[0m\u001b[0;34m=\u001b[0m\u001b[0;34m\"2023-04-26_11-03-47_cloud_threshold_1-00\"\u001b[0m\u001b[0;34m)\u001b[0m\u001b[0;34m\u001b[0m\u001b[0;34m\u001b[0m\u001b[0m\n\u001b[0m",
      "\u001b[0;32m/scratch/ewalt/miniconda3/envs/bfs-3.7/lib/python3.7/site-packages/wandb/apis/public.py\u001b[0m in \u001b[0;36m__init__\u001b[0;34m(self, client, entity, project, run_id, attrs, include_sweeps)\u001b[0m\n\u001b[1;32m   1716\u001b[0m         \u001b[0mself\u001b[0m\u001b[0;34m.\u001b[0m\u001b[0m_state\u001b[0m \u001b[0;34m=\u001b[0m \u001b[0m_attrs\u001b[0m\u001b[0;34m.\u001b[0m\u001b[0mget\u001b[0m\u001b[0;34m(\u001b[0m\u001b[0;34m\"state\"\u001b[0m\u001b[0;34m,\u001b[0m \u001b[0;34m\"not found\"\u001b[0m\u001b[0;34m)\u001b[0m\u001b[0;34m\u001b[0m\u001b[0;34m\u001b[0m\u001b[0m\n\u001b[1;32m   1717\u001b[0m \u001b[0;34m\u001b[0m\u001b[0m\n\u001b[0;32m-> 1718\u001b[0;31m         \u001b[0mself\u001b[0m\u001b[0;34m.\u001b[0m\u001b[0mload\u001b[0m\u001b[0;34m(\u001b[0m\u001b[0mforce\u001b[0m\u001b[0;34m=\u001b[0m\u001b[0;32mnot\u001b[0m \u001b[0m_attrs\u001b[0m\u001b[0;34m)\u001b[0m\u001b[0;34m\u001b[0m\u001b[0;34m\u001b[0m\u001b[0m\n\u001b[0m\u001b[1;32m   1719\u001b[0m \u001b[0;34m\u001b[0m\u001b[0m\n\u001b[1;32m   1720\u001b[0m     \u001b[0;34m@\u001b[0m\u001b[0mproperty\u001b[0m\u001b[0;34m\u001b[0m\u001b[0;34m\u001b[0m\u001b[0m\n",
      "\u001b[0;32m/scratch/ewalt/miniconda3/envs/bfs-3.7/lib/python3.7/site-packages/wandb/apis/public.py\u001b[0m in \u001b[0;36mload\u001b[0;34m(self, force)\u001b[0m\n\u001b[1;32m   1820\u001b[0m                 \u001b[0;32mor\u001b[0m \u001b[0mresponse\u001b[0m\u001b[0;34m[\u001b[0m\u001b[0;34m\"project\"\u001b[0m\u001b[0;34m]\u001b[0m\u001b[0;34m.\u001b[0m\u001b[0mget\u001b[0m\u001b[0;34m(\u001b[0m\u001b[0;34m\"run\"\u001b[0m\u001b[0;34m)\u001b[0m \u001b[0;32mis\u001b[0m \u001b[0;32mNone\u001b[0m\u001b[0;34m\u001b[0m\u001b[0;34m\u001b[0m\u001b[0m\n\u001b[1;32m   1821\u001b[0m             ):\n\u001b[0;32m-> 1822\u001b[0;31m                 \u001b[0;32mraise\u001b[0m \u001b[0mValueError\u001b[0m\u001b[0;34m(\u001b[0m\u001b[0;34m\"Could not find run %s\"\u001b[0m \u001b[0;34m%\u001b[0m \u001b[0mself\u001b[0m\u001b[0;34m)\u001b[0m\u001b[0;34m\u001b[0m\u001b[0;34m\u001b[0m\u001b[0m\n\u001b[0m\u001b[1;32m   1823\u001b[0m             \u001b[0mself\u001b[0m\u001b[0;34m.\u001b[0m\u001b[0m_attrs\u001b[0m \u001b[0;34m=\u001b[0m \u001b[0mresponse\u001b[0m\u001b[0;34m[\u001b[0m\u001b[0;34m\"project\"\u001b[0m\u001b[0;34m]\u001b[0m\u001b[0;34m[\u001b[0m\u001b[0;34m\"run\"\u001b[0m\u001b[0;34m]\u001b[0m\u001b[0;34m\u001b[0m\u001b[0;34m\u001b[0m\u001b[0m\n\u001b[1;32m   1824\u001b[0m             \u001b[0mself\u001b[0m\u001b[0;34m.\u001b[0m\u001b[0m_state\u001b[0m \u001b[0;34m=\u001b[0m \u001b[0mself\u001b[0m\u001b[0;34m.\u001b[0m\u001b[0m_attrs\u001b[0m\u001b[0;34m[\u001b[0m\u001b[0;34m\"state\"\u001b[0m\u001b[0;34m]\u001b[0m\u001b[0;34m\u001b[0m\u001b[0;34m\u001b[0m\u001b[0m\n",
      "\u001b[0;31mValueError\u001b[0m: Could not find run <Run elwalt/rcu-evaluation/2023-04-26_11-03-47_cloud_threshold_1-00 (not found)>"
     ]
    }
   ],
   "source": [
    "run = wandb.apis.public.Run(client=api.client, entity=entity_name, project=project_name, run_id=\"2023-04-26_11-03-47_cloud_threshold_1-00\")"
   ]
  },
  {
   "cell_type": "markdown",
   "id": "99e516d0",
   "metadata": {},
   "source": [
    "## Load RCUs"
   ]
  },
  {
   "cell_type": "code",
   "execution_count": 13,
   "id": "6b441ff2",
   "metadata": {},
   "outputs": [
    {
     "ename": "FileNotFoundError",
     "evalue": "[Errno 2] No such file or directory: 'results/2023-04-26_11-03-49_cloud_threshold_0-01/rcu.json'",
     "output_type": "error",
     "traceback": [
      "\u001b[0;31m---------------------------------------------------------------------------\u001b[0m",
      "\u001b[0;31mFileNotFoundError\u001b[0m                         Traceback (most recent call last)",
      "\u001b[0;32m/tmp/ipykernel_592499/2855040927.py\u001b[0m in \u001b[0;36m<module>\u001b[0;34m\u001b[0m\n\u001b[0;32m----> 1\u001b[0;31m \u001b[0mrcus\u001b[0m \u001b[0;34m=\u001b[0m \u001b[0;34m[\u001b[0m\u001b[0mStratifiedRCU\u001b[0m\u001b[0;34m.\u001b[0m\u001b[0mfrom_json\u001b[0m\u001b[0;34m(\u001b[0m\u001b[0mos\u001b[0m\u001b[0;34m.\u001b[0m\u001b[0mpath\u001b[0m\u001b[0;34m.\u001b[0m\u001b[0mjoin\u001b[0m\u001b[0;34m(\u001b[0m\u001b[0mruns_dir\u001b[0m\u001b[0;34m,\u001b[0m \u001b[0mrn\u001b[0m\u001b[0;34m,\u001b[0m \u001b[0;34m\"rcu.json\"\u001b[0m\u001b[0;34m)\u001b[0m\u001b[0;34m)\u001b[0m \u001b[0;32mfor\u001b[0m \u001b[0mrn\u001b[0m \u001b[0;32min\u001b[0m \u001b[0mrun_names\u001b[0m\u001b[0;34m]\u001b[0m\u001b[0;34m\u001b[0m\u001b[0;34m\u001b[0m\u001b[0m\n\u001b[0m",
      "\u001b[0;32m/tmp/ipykernel_592499/2855040927.py\u001b[0m in \u001b[0;36m<listcomp>\u001b[0;34m(.0)\u001b[0m\n\u001b[0;32m----> 1\u001b[0;31m \u001b[0mrcus\u001b[0m \u001b[0;34m=\u001b[0m \u001b[0;34m[\u001b[0m\u001b[0mStratifiedRCU\u001b[0m\u001b[0;34m.\u001b[0m\u001b[0mfrom_json\u001b[0m\u001b[0;34m(\u001b[0m\u001b[0mos\u001b[0m\u001b[0;34m.\u001b[0m\u001b[0mpath\u001b[0m\u001b[0;34m.\u001b[0m\u001b[0mjoin\u001b[0m\u001b[0;34m(\u001b[0m\u001b[0mruns_dir\u001b[0m\u001b[0;34m,\u001b[0m \u001b[0mrn\u001b[0m\u001b[0;34m,\u001b[0m \u001b[0;34m\"rcu.json\"\u001b[0m\u001b[0;34m)\u001b[0m\u001b[0;34m)\u001b[0m \u001b[0;32mfor\u001b[0m \u001b[0mrn\u001b[0m \u001b[0;32min\u001b[0m \u001b[0mrun_names\u001b[0m\u001b[0;34m]\u001b[0m\u001b[0;34m\u001b[0m\u001b[0;34m\u001b[0m\u001b[0m\n\u001b[0m",
      "\u001b[0;32m/scratch/ewalt/pdm/rs-uncertainty/src/metrics.py\u001b[0m in \u001b[0;36mfrom_json\u001b[0;34m(cls, path)\u001b[0m\n\u001b[1;32m    506\u001b[0m             \u001b[0;32mif\u001b[0m \u001b[0mtp\u001b[0m \u001b[0;34m==\u001b[0m \u001b[0;34m\"array\"\u001b[0m\u001b[0;34m:\u001b[0m \u001b[0;32mreturn\u001b[0m \u001b[0mnp\u001b[0m\u001b[0;34m.\u001b[0m\u001b[0marray\u001b[0m\u001b[0;34m(\u001b[0m\u001b[0mx\u001b[0m\u001b[0;34m)\u001b[0m\u001b[0;34m\u001b[0m\u001b[0;34m\u001b[0m\u001b[0m\n\u001b[1;32m    507\u001b[0m             \u001b[0;32melse\u001b[0m\u001b[0;34m:\u001b[0m \u001b[0;32mreturn\u001b[0m \u001b[0mx\u001b[0m\u001b[0;34m\u001b[0m\u001b[0;34m\u001b[0m\u001b[0m\n\u001b[0;32m--> 508\u001b[0;31m         \u001b[0;32mwith\u001b[0m \u001b[0mopen\u001b[0m\u001b[0;34m(\u001b[0m\u001b[0mpath\u001b[0m\u001b[0;34m,\u001b[0m \u001b[0mmode\u001b[0m\u001b[0;34m=\u001b[0m\u001b[0;34m\"r\"\u001b[0m\u001b[0;34m,\u001b[0m \u001b[0mencoding\u001b[0m\u001b[0;34m=\u001b[0m\u001b[0;34m\"utf-8\"\u001b[0m\u001b[0;34m)\u001b[0m \u001b[0;32mas\u001b[0m \u001b[0mf\u001b[0m\u001b[0;34m:\u001b[0m\u001b[0;34m\u001b[0m\u001b[0;34m\u001b[0m\u001b[0m\n\u001b[0m\u001b[1;32m    509\u001b[0m             \u001b[0mdata\u001b[0m \u001b[0;34m=\u001b[0m \u001b[0mjson\u001b[0m\u001b[0;34m.\u001b[0m\u001b[0mload\u001b[0m\u001b[0;34m(\u001b[0m\u001b[0mf\u001b[0m\u001b[0;34m)\u001b[0m\u001b[0;34m\u001b[0m\u001b[0;34m\u001b[0m\u001b[0m\n\u001b[1;32m    510\u001b[0m             \u001b[0;32mfor\u001b[0m \u001b[0mupper_key\u001b[0m \u001b[0;32min\u001b[0m \u001b[0mdata\u001b[0m\u001b[0;34m.\u001b[0m\u001b[0mkeys\u001b[0m\u001b[0;34m(\u001b[0m\u001b[0;34m)\u001b[0m\u001b[0;34m:\u001b[0m\u001b[0;34m\u001b[0m\u001b[0;34m\u001b[0m\u001b[0m\n",
      "\u001b[0;31mFileNotFoundError\u001b[0m: [Errno 2] No such file or directory: 'results/2023-04-26_11-03-49_cloud_threshold_0-01/rcu.json'"
     ]
    }
   ],
   "source": [
    "rcus = [StratifiedRCU.from_json(os.path.join(runs_dir, rn, \"rcu.json\")) for rn in run_names]"
   ]
  },
  {
   "cell_type": "code",
   "execution_count": 14,
   "id": "98b4ae1b",
   "metadata": {},
   "outputs": [
    {
     "name": "stdout",
     "output_type": "stream",
     "text": [
      "/scratch/ewalt/pdm/rs-uncertainty\r\n"
     ]
    }
   ],
   "source": [
    "!ls "
   ]
  },
  {
   "cell_type": "markdown",
   "id": "06fe72b1",
   "metadata": {},
   "source": [
    "## WandB CT Runs"
   ]
  },
  {
   "cell_type": "code",
   "execution_count": 35,
   "id": "9be833fc",
   "metadata": {},
   "outputs": [],
   "source": [
    "api = wandb.Api()\n",
    "baseline_run = api.runs(\n",
    "    path=\"rs-uncertainty/rcu-evaluation\",\n",
    "    filters={\"tags\": \"baseline\"}\n",
    ")[0]\n",
    "ct_runs = api.runs(\n",
    "    path=\"rs-uncertainty/rcu-evaluation\",\n",
    "    filters={\"tags\": \"cloud_threshold\"}\n",
    ")"
   ]
  },
  {
   "cell_type": "code",
   "execution_count": 37,
   "id": "e2919ba6",
   "metadata": {},
   "outputs": [
    {
     "data": {
      "text/plain": [
       "dict_keys(['dataset.name', 'dataset.gt_dir', 'evaluation.tags', 'prediction.name', 'dataset.projects', 'dataset.save_dir', 'evaluation.gt_dir', 'prediction.gt_dir', 'prediction.margin', 'dataset.data_bands', 'dataset.patch_size', 'evaluation.pkl_dir', 'prediction.pkl_dir', 'evaluation.num_bins', 'prediction.projects', 'prediction.save_dir', 'evaluation.data_bands', 'prediction.data_bands', 'prediction.patch_size', 'dataset.split_mask_dir', 'evaluation.projects_east', 'evaluation.projects_west', 'dataset.sampling_strategy', 'evaluation.normalize_mean', 'evaluation.prediction_dir', 'evaluation.projects_north', 'evaluation.variable_names', 'prediction.split_mask_dir', 'dataset.project_shapefiles', 'dataset.s1_reprojected_dir', 'dataset.s2_reprojected_dir', 'prediction.checkpoint_dirs', 'dataset.cloud_prob_threshold', 'evaluation.upsampling_coeffs', 'prediction.sampling_strategy', 'evaluation.normalize_variance', 'prediction.project_shapefiles', 'prediction.s1_reprojected_dir', 'prediction.s2_reprojected_dir', 'dataset.testset_max_days_delta', 'dataset.cloudy_pixels_threshold', 'prediction.cloud_prob_threshold', 'prediction.cloudy_pixels_threshold'])"
      ]
     },
     "execution_count": 37,
     "metadata": {},
     "output_type": "execute_result"
    }
   ],
   "source": [
    "ct_runs[0].config.keys()"
   ]
  },
  {
   "cell_type": "code",
   "execution_count": 39,
   "id": "fe5fd97d",
   "metadata": {},
   "outputs": [
    {
     "name": "stdout",
     "output_type": "stream",
     "text": [
      "0.5 2023-04-25_17-48-18_cloud_threshold_0-50\n",
      "1 2023-04-25_17-48-18_cloud_threshold_1-00\n",
      "0.75 2023-04-25_17-48-18_cloud_threshold_0-75\n",
      "0.25 2023-04-25_17-48-18_cloud_threshold_0-25\n",
      "0.01 2023-04-25_17-48-18_cloud_threshold_0-01\n"
     ]
    }
   ],
   "source": [
    "for ct_run in ct_runs:\n",
    "    print(ct_run.config[\"dataset.cloudy_pixels_threshold\"], ct_run.name)"
   ]
  },
  {
   "cell_type": "markdown",
   "id": "7bdd31b9",
   "metadata": {},
   "source": [
    "## ExperimentVisualizer"
   ]
  },
  {
   "cell_type": "code",
   "execution_count": 62,
   "id": "bdafda71",
   "metadata": {},
   "outputs": [],
   "source": [
    "import pandas as pd"
   ]
  },
  {
   "cell_type": "code",
   "execution_count": 83,
   "id": "da48375c",
   "metadata": {},
   "outputs": [
    {
     "name": "stdout",
     "output_type": "stream",
     "text": [
      "Found 5 runs for experiment on variable dataset.cloudy_pixels_threshold.\n"
     ]
    }
   ],
   "source": [
    "ev = CloudThresholdVisualizer(entity=\"rs-uncertainty\", project=\"rcu-evaluation\")"
   ]
  },
  {
   "cell_type": "code",
   "execution_count": 84,
   "id": "138bb1b3",
   "metadata": {},
   "outputs": [],
   "source": [
    "baseline, runs, df = ev.baseline, ev.runs, ev.df"
   ]
  },
  {
   "cell_type": "code",
   "execution_count": 85,
   "id": "f310d3bf",
   "metadata": {},
   "outputs": [
    {
     "data": {
      "text/html": [
       "<div>\n",
       "<style scoped>\n",
       "    .dataframe tbody tr th:only-of-type {\n",
       "        vertical-align: middle;\n",
       "    }\n",
       "\n",
       "    .dataframe tbody tr th {\n",
       "        vertical-align: top;\n",
       "    }\n",
       "\n",
       "    .dataframe thead th {\n",
       "        text-align: right;\n",
       "    }\n",
       "</style>\n",
       "<table border=\"1\" class=\"dataframe\">\n",
       "  <thead>\n",
       "    <tr style=\"text-align: right;\">\n",
       "      <th></th>\n",
       "      <th>experiment</th>\n",
       "      <th>dataset.cloudy_pixels_threshold</th>\n",
       "      <th>kind</th>\n",
       "      <th>metric</th>\n",
       "      <th>variable</th>\n",
       "      <th>group</th>\n",
       "      <th>value</th>\n",
       "    </tr>\n",
       "  </thead>\n",
       "  <tbody>\n",
       "    <tr>\n",
       "      <th>0</th>\n",
       "      <td>cloud_threshold</td>\n",
       "      <td>0.5</td>\n",
       "      <td>ause</td>\n",
       "      <td>rmse</td>\n",
       "      <td>Cover</td>\n",
       "      <td>9</td>\n",
       "      <td>0.121663</td>\n",
       "    </tr>\n",
       "    <tr>\n",
       "      <th>1</th>\n",
       "      <td>cloud_threshold</td>\n",
       "      <td>0.5</td>\n",
       "      <td>agg</td>\n",
       "      <td>rmse</td>\n",
       "      <td>Dens</td>\n",
       "      <td>north</td>\n",
       "      <td>0.126946</td>\n",
       "    </tr>\n",
       "    <tr>\n",
       "      <th>2</th>\n",
       "      <td>cloud_threshold</td>\n",
       "      <td>0.5</td>\n",
       "      <td>ause</td>\n",
       "      <td>auce</td>\n",
       "      <td>Cover</td>\n",
       "      <td>959</td>\n",
       "      <td>0.099613</td>\n",
       "    </tr>\n",
       "    <tr>\n",
       "      <th>3</th>\n",
       "      <td>cloud_threshold</td>\n",
       "      <td>0.5</td>\n",
       "      <td>agg</td>\n",
       "      <td>mae</td>\n",
       "      <td>MeanH</td>\n",
       "      <td>global</td>\n",
       "      <td>1.457118</td>\n",
       "    </tr>\n",
       "    <tr>\n",
       "      <th>4</th>\n",
       "      <td>cloud_threshold</td>\n",
       "      <td>0.5</td>\n",
       "      <td>agg</td>\n",
       "      <td>mse</td>\n",
       "      <td>P95</td>\n",
       "      <td>920</td>\n",
       "      <td>17.013788</td>\n",
       "    </tr>\n",
       "    <tr>\n",
       "      <th>...</th>\n",
       "      <td>...</td>\n",
       "      <td>...</td>\n",
       "      <td>...</td>\n",
       "      <td>...</td>\n",
       "      <td>...</td>\n",
       "      <td>...</td>\n",
       "      <td>...</td>\n",
       "    </tr>\n",
       "    <tr>\n",
       "      <th>28375</th>\n",
       "      <td>baseline</td>\n",
       "      <td>0.1</td>\n",
       "      <td>agg</td>\n",
       "      <td>ence</td>\n",
       "      <td>Gini</td>\n",
       "      <td>415</td>\n",
       "      <td>0.000599</td>\n",
       "    </tr>\n",
       "    <tr>\n",
       "      <th>28376</th>\n",
       "      <td>baseline</td>\n",
       "      <td>0.1</td>\n",
       "      <td>agg</td>\n",
       "      <td>mbe</td>\n",
       "      <td>MeanH</td>\n",
       "      <td>346</td>\n",
       "      <td>0.123375</td>\n",
       "    </tr>\n",
       "    <tr>\n",
       "      <th>28377</th>\n",
       "      <td>baseline</td>\n",
       "      <td>0.1</td>\n",
       "      <td>agg</td>\n",
       "      <td>srp</td>\n",
       "      <td>MeanH</td>\n",
       "      <td>477</td>\n",
       "      <td>5.376637</td>\n",
       "    </tr>\n",
       "    <tr>\n",
       "      <th>28378</th>\n",
       "      <td>baseline</td>\n",
       "      <td>0.1</td>\n",
       "      <td>ause</td>\n",
       "      <td>auce</td>\n",
       "      <td>MeanH</td>\n",
       "      <td>521</td>\n",
       "      <td>0.043469</td>\n",
       "    </tr>\n",
       "    <tr>\n",
       "      <th>28379</th>\n",
       "      <td>baseline</td>\n",
       "      <td>0.1</td>\n",
       "      <td>ause</td>\n",
       "      <td>ci90_accs</td>\n",
       "      <td>Dens</td>\n",
       "      <td>537</td>\n",
       "      <td>0.826232</td>\n",
       "    </tr>\n",
       "  </tbody>\n",
       "</table>\n",
       "<p>28380 rows × 7 columns</p>\n",
       "</div>"
      ],
      "text/plain": [
       "            experiment  dataset.cloudy_pixels_threshold  kind     metric  \\\n",
       "0      cloud_threshold                              0.5  ause       rmse   \n",
       "1      cloud_threshold                              0.5   agg       rmse   \n",
       "2      cloud_threshold                              0.5  ause       auce   \n",
       "3      cloud_threshold                              0.5   agg        mae   \n",
       "4      cloud_threshold                              0.5   agg        mse   \n",
       "...                ...                              ...   ...        ...   \n",
       "28375         baseline                              0.1   agg       ence   \n",
       "28376         baseline                              0.1   agg        mbe   \n",
       "28377         baseline                              0.1   agg        srp   \n",
       "28378         baseline                              0.1  ause       auce   \n",
       "28379         baseline                              0.1  ause  ci90_accs   \n",
       "\n",
       "      variable   group      value  \n",
       "0        Cover       9   0.121663  \n",
       "1         Dens   north   0.126946  \n",
       "2        Cover     959   0.099613  \n",
       "3        MeanH  global   1.457118  \n",
       "4          P95     920  17.013788  \n",
       "...        ...     ...        ...  \n",
       "28375     Gini     415   0.000599  \n",
       "28376    MeanH     346   0.123375  \n",
       "28377    MeanH     477   5.376637  \n",
       "28378    MeanH     521   0.043469  \n",
       "28379     Dens     537   0.826232  \n",
       "\n",
       "[28380 rows x 7 columns]"
      ]
     },
     "execution_count": 85,
     "metadata": {},
     "output_type": "execute_result"
    }
   ],
   "source": [
    "df"
   ]
  },
  {
   "cell_type": "code",
   "execution_count": 80,
   "id": "6138e4dc",
   "metadata": {},
   "outputs": [
    {
     "data": {
      "text/plain": [
       "<File artifact/433917062/wandb_manifest.json (application/json) 0.0B>"
      ]
     },
     "execution_count": 80,
     "metadata": {},
     "output_type": "execute_result"
    }
   ],
   "source": [
    "baseline.files()[0]"
   ]
  },
  {
   "cell_type": "code",
   "execution_count": 82,
   "id": "00757814",
   "metadata": {},
   "outputs": [
    {
     "ename": "AttributeError",
     "evalue": "'<Run rs-uncertainty/rcu-evaluation/oy32thjj (running)>' object has no attribute 'log'",
     "output_type": "error",
     "traceback": [
      "\u001b[0;31m---------------------------------------------------------------------------\u001b[0m",
      "\u001b[0;31mAttributeError\u001b[0m                            Traceback (most recent call last)",
      "\u001b[0;32m/tmp/ipykernel_596025/3122522314.py\u001b[0m in \u001b[0;36m<module>\u001b[0;34m\u001b[0m\n\u001b[0;32m----> 1\u001b[0;31m \u001b[0mbaseline\u001b[0m\u001b[0;34m.\u001b[0m\u001b[0mlog\u001b[0m\u001b[0;34m\u001b[0m\u001b[0;34m\u001b[0m\u001b[0m\n\u001b[0m",
      "\u001b[0;32m/scratch/ewalt/miniconda3/envs/bfs-3.7/lib/python3.7/site-packages/wandb/apis/public.py\u001b[0m in \u001b[0;36m__getattr__\u001b[0;34m(self, name)\u001b[0m\n\u001b[1;32m   1000\u001b[0m             \u001b[0;32mreturn\u001b[0m \u001b[0mself\u001b[0m\u001b[0;34m.\u001b[0m\u001b[0m_attrs\u001b[0m\u001b[0;34m[\u001b[0m\u001b[0mname\u001b[0m\u001b[0;34m]\u001b[0m\u001b[0;34m\u001b[0m\u001b[0;34m\u001b[0m\u001b[0m\n\u001b[1;32m   1001\u001b[0m         \u001b[0;32melse\u001b[0m\u001b[0;34m:\u001b[0m\u001b[0;34m\u001b[0m\u001b[0;34m\u001b[0m\u001b[0m\n\u001b[0;32m-> 1002\u001b[0;31m             \u001b[0;32mraise\u001b[0m \u001b[0mAttributeError\u001b[0m\u001b[0;34m(\u001b[0m\u001b[0;34mf\"{repr(self)!r} object has no attribute {name!r}\"\u001b[0m\u001b[0;34m)\u001b[0m\u001b[0;34m\u001b[0m\u001b[0;34m\u001b[0m\u001b[0m\n\u001b[0m\u001b[1;32m   1003\u001b[0m \u001b[0;34m\u001b[0m\u001b[0m\n\u001b[1;32m   1004\u001b[0m \u001b[0;34m\u001b[0m\u001b[0m\n",
      "\u001b[0;31mAttributeError\u001b[0m: '<Run rs-uncertainty/rcu-evaluation/oy32thjj (running)>' object has no attribute 'log'"
     ]
    }
   ],
   "source": [
    "baseline.log"
   ]
  },
  {
   "cell_type": "code",
   "execution_count": 86,
   "id": "4da1e7a7",
   "metadata": {},
   "outputs": [
    {
     "data": {
      "text/plain": [
       "<wandb.apis.public.Api at 0x7fdd66878850>"
      ]
     },
     "execution_count": 86,
     "metadata": {},
     "output_type": "execute_result"
    },
    {
     "name": "stdout",
     "output_type": "stream",
     "text": [
      "The history saving thread hit an unexpected error (OperationalError('disk I/O error')).History will not be written to the database.\n"
     ]
    }
   ],
   "source": [
    "wandb.Api()"
   ]
  },
  {
   "cell_type": "code",
   "execution_count": null,
   "id": "41ed5094",
   "metadata": {},
   "outputs": [],
   "source": []
  }
 ],
 "metadata": {
  "kernelspec": {
   "display_name": "Python (bfs-3.7)",
   "language": "python",
   "name": "bfs-3.7"
  },
  "language_info": {
   "codemirror_mode": {
    "name": "ipython",
    "version": 3
   },
   "file_extension": ".py",
   "mimetype": "text/x-python",
   "name": "python",
   "nbconvert_exporter": "python",
   "pygments_lexer": "ipython3",
   "version": "3.7.4"
  }
 },
 "nbformat": 4,
 "nbformat_minor": 5
}
