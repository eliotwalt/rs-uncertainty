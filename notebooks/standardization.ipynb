{
 "cells": [
  {
   "cell_type": "code",
   "execution_count": 11,
   "metadata": {},
   "outputs": [],
   "source": [
    "import os, sys\n",
    "import rasterio\n",
    "import argparse\n",
    "import yaml\n",
    "import numpy as np\n",
    "from tqdm import tqdm\n",
    "from pathlib import Path\n",
    "import seaborn as sns\n",
    "import pandas as pd\n",
    "from argparse import Namespace\n",
    "os.chdir(\"/scratch/ewalt/pdm/rs-uncertainty/\")"
   ]
  },
  {
   "cell_type": "code",
   "execution_count": 12,
   "metadata": {},
   "outputs": [],
   "source": [
    "def pjoin(*subs): return Path(os.path.abspath(os.path.join(*subs)))"
   ]
  },
  {
   "cell_type": "code",
   "execution_count": 13,
   "metadata": {},
   "outputs": [],
   "source": [
    "# load config\n",
    "args = Namespace()\n",
    "args.cfg = Path(\"./config/evaluate_testset.yaml\")\n",
    "with args.cfg.open(\"r\", encoding=\"utf-8\") as f:\n",
    "    cfg = yaml.safe_load(f)"
   ]
  },
  {
   "cell_type": "code",
   "execution_count": 52,
   "metadata": {},
   "outputs": [],
   "source": [
    "projects = cfg[\"projects_east\"]+cfg[\"projects_west\"]+cfg[\"projects_north\"]\n",
    "with Path(\"/scratch/ewalt/pdm/rs-uncertainty/assets/data/pkl/2021-05-18_10-57-45/stats.yaml\").open() as f:\n",
    "    stats = yaml.safe_load(f)\n",
    "labels_mean = np.array(stats[\"labels_mean\"]).reshape(5,1,1)\n",
    "labels_std = np.array(stats[\"labels_std\"]).reshape(5,1,1)\n",
    "# with pjoin(args.cfg[\"pkl_dir\"], \"stats.yaml\").open(\"r\", encoding=\"utf-8\") as f:\n",
    "#     stats = yaml.safe_load(f)\n",
    "# labels_mean = np.array(stats[\"labels_stats\"][\"mean\"])\n",
    "# labels_std = np.array(stats[\"labels_stats\"][\"std\"])"
   ]
  },
  {
   "cell_type": "code",
   "execution_count": 70,
   "metadata": {},
   "outputs": [
    {
     "name": "stderr",
     "output_type": "stream",
     "text": [
      "\n",
      "0it [00:00, ?it/s]\u001b[A"
     ]
    }
   ],
   "source": [
    "# iterate and standardize\n",
    "variables = ['P95', 'MeanH', 'Dens', 'Gini', 'Cover']\n",
    "def add(arr, source, pid):\n",
    "    count = arr.shape[1]*arr.shape[2]\n",
    "    arr = arr.reshape(-1,)   \n",
    "    data[\"values\"].extend(arr.tolist())\n",
    "    for variable in variables:\n",
    "        data[\"variables\"].extend([variable for _ in range(int(arr.shape[0]//5))])\n",
    "    data[\"sources\"].extend([source for _ in range(arr.shape[0])])\n",
    "    data[\"states\"].extend([\"before\" for _ in range(arr.shape[0])])\n",
    "    data[\"project_id\"].extend([pid for _ in range(arr.shape[0])])\n",
    "# for mean_file in tqdm(cfg[\"pkl_dir\"].glob('*_mean.tif')):\n",
    "for mean_file in tqdm(Path(\"/scratch/ewalt/pdm/rs-uncertainty/results/2023-04-05_15-46-48\").glob('*_mean.tif')):\n",
    "    data = {\n",
    "        \"values\": [],\n",
    "        \"variables\": [],\n",
    "        \"sources\": [],\n",
    "        \"states\": [],\n",
    "        \"project_id\": [],\n",
    "    }\n",
    "    # load data\n",
    "    project = mean_file.stem.split('_')[0]\n",
    "    if project not in projects: continue\n",
    "    with rasterio.open(mean_file) as fh:\n",
    "        mean = fh.read(fh.indexes)\n",
    "    # with rasterio.open(pjoin(cfg['prediction_dir'], f\"{project}_variance.tif\")) as fh:\n",
    "    with rasterio.open(pjoin(\"/scratch/ewalt/pdm/rs-uncertainty/results/2023-04-05_15-46-48\", f\"{project}_variance.tif\")) as fh:\n",
    "        variance = fh.read(fh.indexes)\n",
    "    with rasterio.open(pjoin(cfg['gt_dir'], f\"{project}.tif\")) as fh:\n",
    "        gt = fh.read(fh.indexes)\n",
    "    # standardize\n",
    "    variance_after = variance/(labels_std)**2\n",
    "    mean_after = (mean-labels_mean)/labels_std\n",
    "    gt_after = (gt-labels_mean)/labels_std \n",
    "    # add flatten\n",
    "    add(mean, \"before\", project)\n",
    "    add(mean_after, \"after\", project)\n",
    "    add(variance, \"before\", project)\n",
    "    add(variance_after, \"after\", project)\n",
    "    add(gt, \"before\", project)\n",
    "    add(gt_after, \"after\", project)\n",
    "    data = pd.DataFrame(data)\n",
    "    data.dropna(inplace=True)\n",
    "    data.reset_index(drop=True,inplace=True)\n",
    "    break"
   ]
  },
  {
   "cell_type": "code",
   "execution_count": 69,
   "metadata": {},
   "outputs": [
    {
     "data": {
      "text/html": [
       "<div>\n",
       "<style scoped>\n",
       "    .dataframe tbody tr th:only-of-type {\n",
       "        vertical-align: middle;\n",
       "    }\n",
       "\n",
       "    .dataframe tbody tr th {\n",
       "        vertical-align: top;\n",
       "    }\n",
       "\n",
       "    .dataframe thead th {\n",
       "        text-align: right;\n",
       "    }\n",
       "</style>\n",
       "<table border=\"1\" class=\"dataframe\">\n",
       "  <thead>\n",
       "    <tr style=\"text-align: right;\">\n",
       "      <th></th>\n",
       "      <th>values</th>\n",
       "      <th>variables</th>\n",
       "      <th>sources</th>\n",
       "      <th>states</th>\n",
       "      <th>project_id</th>\n",
       "    </tr>\n",
       "  </thead>\n",
       "  <tbody>\n",
       "    <tr>\n",
       "      <th>0</th>\n",
       "      <td>NaN</td>\n",
       "      <td>P95</td>\n",
       "      <td>before</td>\n",
       "      <td>before</td>\n",
       "      <td>792</td>\n",
       "    </tr>\n",
       "    <tr>\n",
       "      <th>1</th>\n",
       "      <td>NaN</td>\n",
       "      <td>P95</td>\n",
       "      <td>before</td>\n",
       "      <td>before</td>\n",
       "      <td>792</td>\n",
       "    </tr>\n",
       "    <tr>\n",
       "      <th>2</th>\n",
       "      <td>NaN</td>\n",
       "      <td>P95</td>\n",
       "      <td>before</td>\n",
       "      <td>before</td>\n",
       "      <td>792</td>\n",
       "    </tr>\n",
       "    <tr>\n",
       "      <th>3</th>\n",
       "      <td>NaN</td>\n",
       "      <td>P95</td>\n",
       "      <td>before</td>\n",
       "      <td>before</td>\n",
       "      <td>792</td>\n",
       "    </tr>\n",
       "    <tr>\n",
       "      <th>4</th>\n",
       "      <td>NaN</td>\n",
       "      <td>P95</td>\n",
       "      <td>before</td>\n",
       "      <td>before</td>\n",
       "      <td>792</td>\n",
       "    </tr>\n",
       "    <tr>\n",
       "      <th>...</th>\n",
       "      <td>...</td>\n",
       "      <td>...</td>\n",
       "      <td>...</td>\n",
       "      <td>...</td>\n",
       "      <td>...</td>\n",
       "    </tr>\n",
       "    <tr>\n",
       "      <th>105895675</th>\n",
       "      <td>-3.919639e+06</td>\n",
       "      <td>Cover</td>\n",
       "      <td>after</td>\n",
       "      <td>before</td>\n",
       "      <td>792</td>\n",
       "    </tr>\n",
       "    <tr>\n",
       "      <th>105895676</th>\n",
       "      <td>-3.919639e+06</td>\n",
       "      <td>Cover</td>\n",
       "      <td>after</td>\n",
       "      <td>before</td>\n",
       "      <td>792</td>\n",
       "    </tr>\n",
       "    <tr>\n",
       "      <th>105895677</th>\n",
       "      <td>-3.919639e+06</td>\n",
       "      <td>Cover</td>\n",
       "      <td>after</td>\n",
       "      <td>before</td>\n",
       "      <td>792</td>\n",
       "    </tr>\n",
       "    <tr>\n",
       "      <th>105895678</th>\n",
       "      <td>-3.919639e+06</td>\n",
       "      <td>Cover</td>\n",
       "      <td>after</td>\n",
       "      <td>before</td>\n",
       "      <td>792</td>\n",
       "    </tr>\n",
       "    <tr>\n",
       "      <th>105895679</th>\n",
       "      <td>-3.919639e+06</td>\n",
       "      <td>Cover</td>\n",
       "      <td>after</td>\n",
       "      <td>before</td>\n",
       "      <td>792</td>\n",
       "    </tr>\n",
       "  </tbody>\n",
       "</table>\n",
       "<p>105895680 rows × 5 columns</p>\n",
       "</div>"
      ],
      "text/plain": [
       "                 values variables sources  states project_id\n",
       "0                   NaN       P95  before  before        792\n",
       "1                   NaN       P95  before  before        792\n",
       "2                   NaN       P95  before  before        792\n",
       "3                   NaN       P95  before  before        792\n",
       "4                   NaN       P95  before  before        792\n",
       "...                 ...       ...     ...     ...        ...\n",
       "105895675 -3.919639e+06     Cover   after  before        792\n",
       "105895676 -3.919639e+06     Cover   after  before        792\n",
       "105895677 -3.919639e+06     Cover   after  before        792\n",
       "105895678 -3.919639e+06     Cover   after  before        792\n",
       "105895679 -3.919639e+06     Cover   after  before        792\n",
       "\n",
       "[105895680 rows x 5 columns]"
      ]
     },
     "execution_count": 69,
     "metadata": {},
     "output_type": "execute_result"
    }
   ],
   "source": [
    "data"
   ]
  },
  {
   "cell_type": "code",
   "execution_count": 66,
   "metadata": {},
   "outputs": [
    {
     "data": {
      "text/plain": [
       "105895680"
      ]
     },
     "execution_count": 66,
     "metadata": {},
     "output_type": "execute_result"
    }
   ],
   "source": [
    "17649280*6"
   ]
  },
  {
   "cell_type": "code",
   "execution_count": null,
   "metadata": {},
   "outputs": [],
   "source": [
    "data_y = {\n",
    "    \"values\": \n",
    "    \"variables\":\n",
    "    \"sources\": \n",
    "    \"states\":\n",
    "}"
   ]
  },
  {
   "cell_type": "code",
   "execution_count": 34,
   "metadata": {},
   "outputs": [],
   "source": [
    "df_y = pd.DataFrame(columns=[\"values\", \"source\", \"set\"])"
   ]
  },
  {
   "cell_type": "code",
   "execution_count": 35,
   "metadata": {},
   "outputs": [
    {
     "data": {
      "text/html": [
       "<div>\n",
       "<style scoped>\n",
       "    .dataframe tbody tr th:only-of-type {\n",
       "        vertical-align: middle;\n",
       "    }\n",
       "\n",
       "    .dataframe tbody tr th {\n",
       "        vertical-align: top;\n",
       "    }\n",
       "\n",
       "    .dataframe thead th {\n",
       "        text-align: right;\n",
       "    }\n",
       "</style>\n",
       "<table border=\"1\" class=\"dataframe\">\n",
       "  <thead>\n",
       "    <tr style=\"text-align: right;\">\n",
       "      <th></th>\n",
       "      <th>values</th>\n",
       "      <th>source</th>\n",
       "      <th>set</th>\n",
       "    </tr>\n",
       "  </thead>\n",
       "  <tbody>\n",
       "  </tbody>\n",
       "</table>\n",
       "</div>"
      ],
      "text/plain": [
       "Empty DataFrame\n",
       "Columns: [values, source, set]\n",
       "Index: []"
      ]
     },
     "execution_count": 35,
     "metadata": {},
     "output_type": "execute_result"
    }
   ],
   "source": [
    "df_y"
   ]
  },
  {
   "cell_type": "code",
   "execution_count": 36,
   "metadata": {},
   "outputs": [
    {
     "ename": "AttributeError",
     "evalue": "'DataFrame' object has no attribute 'data'",
     "output_type": "error",
     "traceback": [
      "\u001b[0;31m---------------------------------------------------------------------------\u001b[0m",
      "\u001b[0;31mAttributeError\u001b[0m                            Traceback (most recent call last)",
      "\u001b[0;32m/tmp/ipykernel_1361250/4154647697.py\u001b[0m in \u001b[0;36m<module>\u001b[0;34m\u001b[0m\n\u001b[0;32m----> 1\u001b[0;31m \u001b[0mdf_y\u001b[0m\u001b[0;34m.\u001b[0m\u001b[0mdata\u001b[0m\u001b[0;34m\u001b[0m\u001b[0;34m\u001b[0m\u001b[0m\n\u001b[0m",
      "\u001b[0;32m/scratch/ewalt/miniconda3/envs/bfs-3.7/lib/python3.7/site-packages/pandas/core/generic.py\u001b[0m in \u001b[0;36m__getattr__\u001b[0;34m(self, name)\u001b[0m\n\u001b[1;32m   5485\u001b[0m         ):\n\u001b[1;32m   5486\u001b[0m             \u001b[0;32mreturn\u001b[0m \u001b[0mself\u001b[0m\u001b[0;34m[\u001b[0m\u001b[0mname\u001b[0m\u001b[0;34m]\u001b[0m\u001b[0;34m\u001b[0m\u001b[0;34m\u001b[0m\u001b[0m\n\u001b[0;32m-> 5487\u001b[0;31m         \u001b[0;32mreturn\u001b[0m \u001b[0mobject\u001b[0m\u001b[0;34m.\u001b[0m\u001b[0m__getattribute__\u001b[0m\u001b[0;34m(\u001b[0m\u001b[0mself\u001b[0m\u001b[0;34m,\u001b[0m \u001b[0mname\u001b[0m\u001b[0;34m)\u001b[0m\u001b[0;34m\u001b[0m\u001b[0;34m\u001b[0m\u001b[0m\n\u001b[0m\u001b[1;32m   5488\u001b[0m \u001b[0;34m\u001b[0m\u001b[0m\n\u001b[1;32m   5489\u001b[0m     \u001b[0;32mdef\u001b[0m \u001b[0m__setattr__\u001b[0m\u001b[0;34m(\u001b[0m\u001b[0mself\u001b[0m\u001b[0;34m,\u001b[0m \u001b[0mname\u001b[0m\u001b[0;34m:\u001b[0m \u001b[0mstr\u001b[0m\u001b[0;34m,\u001b[0m \u001b[0mvalue\u001b[0m\u001b[0;34m)\u001b[0m \u001b[0;34m->\u001b[0m \u001b[0;32mNone\u001b[0m\u001b[0;34m:\u001b[0m\u001b[0;34m\u001b[0m\u001b[0;34m\u001b[0m\u001b[0m\n",
      "\u001b[0;31mAttributeError\u001b[0m: 'DataFrame' object has no attribute 'data'"
     ]
    }
   ],
   "source": []
  },
  {
   "cell_type": "code",
   "execution_count": 37,
   "metadata": {},
   "outputs": [
    {
     "data": {
      "text/plain": [
       "[[1.7408711770185652, -2.3883417454258864],\n",
       " [-0.829603509927723, 0.39597663040768016]]"
      ]
     },
     "execution_count": 37,
     "metadata": {},
     "output_type": "execute_result"
    }
   ],
   "source": [
    "np.random.randn(2,2)"
   ]
  },
  {
   "cell_type": "code",
   "execution_count": 39,
   "metadata": {},
   "outputs": [
    {
     "data": {
      "text/plain": [
       "{'h': [1, 1, 1]}"
      ]
     },
     "execution_count": 39,
     "metadata": {},
     "output_type": "execute_result"
    }
   ],
   "source": [
    "dct = {\"h\": []}\n",
    "def add():\n",
    "    dct[\"h\"].append(1)\n",
    "add()\n",
    "add()\n",
    "add()\n",
    "dct"
   ]
  },
  {
   "cell_type": "code",
   "execution_count": 79,
   "metadata": {},
   "outputs": [],
   "source": [
    "!NUM_PROJECTS_PER_JOB=10"
   ]
  },
  {
   "cell_type": "code",
   "execution_count": 85,
   "metadata": {},
   "outputs": [
    {
     "ename": "SyntaxError",
     "evalue": "invalid syntax (1113283600.py, line 2)",
     "output_type": "error",
     "traceback": [
      "\u001b[0;36m  File \u001b[0;32m\"/tmp/ipykernel_1361250/1113283600.py\"\u001b[0;36m, line \u001b[0;32m2\u001b[0m\n\u001b[0;31m    td = (timedelta(hours=2)*${NUM_PROJECTS_PER_JOB})\u001b[0m\n\u001b[0m                             ^\u001b[0m\n\u001b[0;31mSyntaxError\u001b[0m\u001b[0;31m:\u001b[0m invalid syntax\n"
     ]
    }
   ],
   "source": [
    "k = 1\n",
    "td = timedelta(hours=2)*${NUM_PROJECTS_PER_JOB}"
   ]
  },
  {
   "cell_type": "code",
   "execution_count": 77,
   "metadata": {},
   "outputs": [],
   "source": [
    "hours, minutes = td.seconds//3600, (td.seconds//60)%60"
   ]
  },
  {
   "cell_type": "code",
   "execution_count": 78,
   "metadata": {},
   "outputs": [
    {
     "name": "stdout",
     "output_type": "stream",
     "text": [
      "02:00:00\n"
     ]
    }
   ],
   "source": [
    "print(f\"{hours:0>2}:{minutes:0>2}:00\")"
   ]
  },
  {
   "cell_type": "code",
   "execution_count": null,
   "metadata": {},
   "outputs": [],
   "source": []
  }
 ],
 "metadata": {
  "kernelspec": {
   "display_name": "Python (bfs-3.7)",
   "language": "python",
   "name": "bfs-3.7"
  },
  "language_info": {
   "codemirror_mode": {
    "name": "ipython",
    "version": 3
   },
   "file_extension": ".py",
   "mimetype": "text/x-python",
   "name": "python",
   "nbconvert_exporter": "python",
   "pygments_lexer": "ipython3",
   "version": "3.7.4"
  }
 },
 "nbformat": 4,
 "nbformat_minor": 2
}
